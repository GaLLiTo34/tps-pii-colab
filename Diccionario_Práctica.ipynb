{
  "nbformat": 4,
  "nbformat_minor": 0,
  "metadata": {
    "colab": {
      "provenance": [],
      "include_colab_link": true
    },
    "kernelspec": {
      "name": "python3",
      "display_name": "Python 3"
    },
    "language_info": {
      "name": "python"
    }
  },
  "cells": [
    {
      "cell_type": "markdown",
      "metadata": {
        "id": "view-in-github",
        "colab_type": "text"
      },
      "source": [
        "<a href=\"https://colab.research.google.com/github/GaLLiTo34/tps-pii-colab/blob/main/Diccionario_Pr%C3%A1ctica.ipynb\" target=\"_parent\"><img src=\"https://colab.research.google.com/assets/colab-badge.svg\" alt=\"Open In Colab\"/></a>"
      ]
    },
    {
      "cell_type": "code",
      "execution_count": 60,
      "metadata": {
        "id": "8VOD-zpMJovw"
      },
      "outputs": [],
      "source": [
        "# Listas de alumnos\n",
        "estudiantes_5d = [\n",
        "   (\"Alurralde, Solange Stefania\",\"D\",\"02/04/2007\"),\n",
        "   (\"Alvarado, Ludmila Del Milagro\",\"D\",\"06/09/2006\"),\n",
        "   (\"Angel, Camila Juliana\",\"D\",\"07/03/2007\"),\n",
        "   (\"Arenas, Lucas Gabriel\",\"D\",\"26/06/2007\"),\n",
        "   (\"Caseres, Maria Antonia\",\"D\",\"01/07/2006\"),\n",
        "   (\"Castillo, Paulina Milagros\",\"D\",\"01/06/2007\"),\n",
        "   (\"Correa Segovia, Hugo Mariano\",\"D\",\"04/12/2006\"),\n",
        "   (\"D Elia, Alvaro Tadeo\",\"D\",\"27/08/2006\"),\n",
        "   (\"Flores, Victoria Agustina\",\"D\",\"12/12/2006\"),\n",
        "   (\"Geronimo Soriano, Lizzie Amaya\",\"D\",\"20/01/2007\"),\n",
        "   (\"GUZMAN, ANGÉLICA MORENA\",\"D\",\"11/04/2007\"),\n",
        "   (\"Guzman, Jazmin Esmeralda Belen\",\"D\",\"31/07/2006\"),\n",
        "   (\"Jaime, Anita Maria Belen\",\"D\",\"19/04/2007\"),\n",
        "   (\"Lacour Polo, Nazarena\",\"D\",\"19/12/2005\"),\n",
        "   (\"Lascano Guanca, Marcelo Fabricio\",\"D\",\"17/02/2006\"),\n",
        "   (\"Lezcano, Celia Morena\",\"D\",\"01/07/2005\"),\n",
        "   (\"Martinez, Tomas Andres\",\"D\",\"22/03/2007\"),\n",
        "   (\"PORTELLA VALDIVIA, PEDRO FRANCISCO\",\"D\",\"24/01/2007\"),\n",
        "   (\"Retamal Cisneros, Zacarias Josue\",\"D\",\"24/02/2007\"),\n",
        "   (\"Rosales, Francisco Gabriel\",\"D\",\"14/11/2006\"),\n",
        "   (\"Salem Barba, Mahia\",\"D\",\"14/10/2005\"),\n",
        "   (\"Soto Camara, Agustin Ignacio\",\"D\",\"07/11/2005\"),\n",
        "   (\"Villalba, Irina\",\"D\",\"09/09/2006\"),\n",
        "   (\"Voltolini, Emanuel Tobias\",\"D\",\"17/09/2006\"),\n",
        "   (\"Zalazar, Santino Stefano\",\"D\",\"30/09/2006\")\n",
        "]\n",
        "\n",
        "estudiantes_5c=[\n",
        "    (\"ABUD LASPIUR, LOURDES MARIEL\",\"C\",\"05/12/2006\"),\n",
        "    (\"Amador, Luana Micaela\",\"C\",\"09/12/2006\"),\n",
        "    (\"Anaquin, Leonardo Ezequiel\",\"C\",\"06/09/2005\"),\n",
        "    (\"Araoz Sanchez, Lautaro Nahuel\",\"C\",\"28/12/2005\"),\n",
        "    (\"Argañaraz, Agostina Abril\",\"C\",\"11/10/2006\"),\n",
        "    (\"Barrera, Matias Ezequiel\",\"C\",\"27/02/2007\"),\n",
        "    (\"Barrozo Vedia, Joaquin Nicolas\",\"C\",\"15/04/2006\"),\n",
        "    (\"Bettinelli, Valentino\",\"C\",\"12/07/2006\"),\n",
        "    (\"Bracamonte Martinez, Salvador\",\"C\",\"02/11/2005\"),\n",
        "    (\"Colque Rivero, Ariana Zoe Del Valle\",\"C\",\"27/12/2006\"),\n",
        "    (\"Diaz, Dulce Maitena\",\"C\",\"11/12/2006\"),\n",
        "    (\"FIGUEROA, SANTINO JOSUE\",\"C\",\"12/05/2007\"),\n",
        "    (\"Flores Cardozo, Agustina Tiara\",\"C\",\"18/03/2006\"),\n",
        "    (\"Gallo, Octavio Ismael\",\"C\",\"04/08/2006\"),\n",
        "    (\"Galvan, Lourdes Yamila\",\"C\",\"19/08/2005\"),\n",
        "    (\"Giangreco, Vitto Tomasso\",\"C\",\"21/03/2007\"),\n",
        "    (\"Grancara, Martina Luna\",\"C\",\"15/12/2006\"),\n",
        "    (\"Guanca, Sara Elizabeth\",\"C\",\"17/01/2007\"),\n",
        "    (\"Lopez, Victoria Constanza\",\"C\",\"12/11/2007\"),\n",
        "    (\"Mamani Garrido, Rosario Agostina\",\"C\",\"24/10/2006\"),\n",
        "    (\"Marinaro, Martin Ezequiel\",\"C\",\"03/11/2006\"),\n",
        "    (\"Merluzzi Dagum, Ignacio\",\"C\",\"22/12/2005\"),\n",
        "    (\"Messina, Martina\",\"C\",\"13/07/2005\"),\n",
        "    (\"RASUK, KARIM\", \"C\",\"13/07/2007\"),\n",
        "    (\"Rios, Lucia Magali\",\"C\",\"22/09/2006\"),\n",
        "    (\"Sanchez Flores, Matías Agustín\",\"C\",\"15/02/2007\"),\n",
        "    (\"Scarano, Renato Marcelo\",\"C\",\"06/12/2006\"),\n",
        "    (\"Sierra, Lucas Mauricio\",\"C\",\"03/04/2005\"),\n",
        "    (\"Tapia, Martin Gabriel\",\"C\",\"30/05/2006\"),\n",
        "    (\"Vilte, Mia Antonella Alondra\",\"C\",\"10/09/2005\"),\n",
        "    (\"Virgillito, Katya Milena\",\"C\",\"19/06/2007\")\n",
        "]"
      ]
    },
    {
      "cell_type": "markdown",
      "source": [
        "## Dada la lista estudiantes:\n",
        "> - Hacer una celda para resolver cada punto.\n",
        "- El TP resuelto será revisado en tu repositorio, no es necesario que lo envíes, pero sí que lo pushees correctamente.\n",
        "- En la nota inicial se contempla:\n",
        "  - La incorporación de este documento a tu propio respositorio.\n",
        "  - El pusheo de los cambios realizados.\n",
        "  - La resolución de los ejercicios propuestos.\n"
      ],
      "metadata": {
        "id": "rd6Ug6v3J4uN"
      }
    },
    {
      "cell_type": "markdown",
      "source": [
        "1. Reemplaza todos los valores del nombre por los que obtengas del método title(). De esta manera las listas quedaran con los datos más homogéneos."
      ],
      "metadata": {
        "id": "wRLng-uURyJ3"
      }
    },
    {
      "cell_type": "code",
      "source": [
        "for i in range(len(estudiantes_5d)):\n",
        "  nombre, division, fecha_nac = estudiantes_5d[i]\n",
        "  estudiantes_5d[i] = nombre.title(),division, fecha_nac\n",
        "for estudiante in estudiantes_5d:\n",
        "  print(estudiante)"
      ],
      "metadata": {
        "id": "5lFqJoTaSIWi",
        "outputId": "313a8021-7471-48cb-9d2a-ca9877bd1231",
        "colab": {
          "base_uri": "https://localhost:8080/"
        }
      },
      "execution_count": 61,
      "outputs": [
        {
          "output_type": "stream",
          "name": "stdout",
          "text": [
            "('Alurralde, Solange Stefania', 'D', '02/04/2007')\n",
            "('Alvarado, Ludmila Del Milagro', 'D', '06/09/2006')\n",
            "('Angel, Camila Juliana', 'D', '07/03/2007')\n",
            "('Arenas, Lucas Gabriel', 'D', '26/06/2007')\n",
            "('Caseres, Maria Antonia', 'D', '01/07/2006')\n",
            "('Castillo, Paulina Milagros', 'D', '01/06/2007')\n",
            "('Correa Segovia, Hugo Mariano', 'D', '04/12/2006')\n",
            "('D Elia, Alvaro Tadeo', 'D', '27/08/2006')\n",
            "('Flores, Victoria Agustina', 'D', '12/12/2006')\n",
            "('Geronimo Soriano, Lizzie Amaya', 'D', '20/01/2007')\n",
            "('Guzman, Angélica Morena', 'D', '11/04/2007')\n",
            "('Guzman, Jazmin Esmeralda Belen', 'D', '31/07/2006')\n",
            "('Jaime, Anita Maria Belen', 'D', '19/04/2007')\n",
            "('Lacour Polo, Nazarena', 'D', '19/12/2005')\n",
            "('Lascano Guanca, Marcelo Fabricio', 'D', '17/02/2006')\n",
            "('Lezcano, Celia Morena', 'D', '01/07/2005')\n",
            "('Martinez, Tomas Andres', 'D', '22/03/2007')\n",
            "('Portella Valdivia, Pedro Francisco', 'D', '24/01/2007')\n",
            "('Retamal Cisneros, Zacarias Josue', 'D', '24/02/2007')\n",
            "('Rosales, Francisco Gabriel', 'D', '14/11/2006')\n",
            "('Salem Barba, Mahia', 'D', '14/10/2005')\n",
            "('Soto Camara, Agustin Ignacio', 'D', '07/11/2005')\n",
            "('Villalba, Irina', 'D', '09/09/2006')\n",
            "('Voltolini, Emanuel Tobias', 'D', '17/09/2006')\n",
            "('Zalazar, Santino Stefano', 'D', '30/09/2006')\n"
          ]
        }
      ]
    },
    {
      "cell_type": "code",
      "source": [
        "for i in range(len(estudiantes_5c)):\n",
        "  nombre, division, fecha_nac = estudiantes_5c[i]\n",
        "  estudiantes_5c[i] = nombre.title(),division, fecha_nac\n",
        "for estudiante in estudiantes_5c:\n",
        "  print(estudiante)"
      ],
      "metadata": {
        "id": "nAsjjmw4xE3i",
        "outputId": "e3297920-5adf-4bd3-8c17-f779aafe8d66",
        "colab": {
          "base_uri": "https://localhost:8080/"
        }
      },
      "execution_count": 62,
      "outputs": [
        {
          "output_type": "stream",
          "name": "stdout",
          "text": [
            "('Abud Laspiur, Lourdes Mariel', 'C', '05/12/2006')\n",
            "('Amador, Luana Micaela', 'C', '09/12/2006')\n",
            "('Anaquin, Leonardo Ezequiel', 'C', '06/09/2005')\n",
            "('Araoz Sanchez, Lautaro Nahuel', 'C', '28/12/2005')\n",
            "('Argañaraz, Agostina Abril', 'C', '11/10/2006')\n",
            "('Barrera, Matias Ezequiel', 'C', '27/02/2007')\n",
            "('Barrozo Vedia, Joaquin Nicolas', 'C', '15/04/2006')\n",
            "('Bettinelli, Valentino', 'C', '12/07/2006')\n",
            "('Bracamonte Martinez, Salvador', 'C', '02/11/2005')\n",
            "('Colque Rivero, Ariana Zoe Del Valle', 'C', '27/12/2006')\n",
            "('Diaz, Dulce Maitena', 'C', '11/12/2006')\n",
            "('Figueroa, Santino Josue', 'C', '12/05/2007')\n",
            "('Flores Cardozo, Agustina Tiara', 'C', '18/03/2006')\n",
            "('Gallo, Octavio Ismael', 'C', '04/08/2006')\n",
            "('Galvan, Lourdes Yamila', 'C', '19/08/2005')\n",
            "('Giangreco, Vitto Tomasso', 'C', '21/03/2007')\n",
            "('Grancara, Martina Luna', 'C', '15/12/2006')\n",
            "('Guanca, Sara Elizabeth', 'C', '17/01/2007')\n",
            "('Lopez, Victoria Constanza', 'C', '12/11/2007')\n",
            "('Mamani Garrido, Rosario Agostina', 'C', '24/10/2006')\n",
            "('Marinaro, Martin Ezequiel', 'C', '03/11/2006')\n",
            "('Merluzzi Dagum, Ignacio', 'C', '22/12/2005')\n",
            "('Messina, Martina', 'C', '13/07/2005')\n",
            "('Rasuk, Karim', 'C', '13/07/2007')\n",
            "('Rios, Lucia Magali', 'C', '22/09/2006')\n",
            "('Sanchez Flores, Matías Agustín', 'C', '15/02/2007')\n",
            "('Scarano, Renato Marcelo', 'C', '06/12/2006')\n",
            "('Sierra, Lucas Mauricio', 'C', '03/04/2005')\n",
            "('Tapia, Martin Gabriel', 'C', '30/05/2006')\n",
            "('Vilte, Mia Antonella Alondra', 'C', '10/09/2005')\n",
            "('Virgillito, Katya Milena', 'C', '19/06/2007')\n"
          ]
        }
      ]
    },
    {
      "cell_type": "markdown",
      "source": [
        "2. Genera una lista de diccionarios con los datos de las listas, donde las claves de los mismos serán:\n",
        "- \"apellido\"\n",
        "- \"nombre\"\n",
        "- \"curso\"\n",
        "- \"division\"\n",
        "- \"feha_de_nacimiento\"\n",
        "\n",
        "Muestra la información generada."
      ],
      "metadata": {
        "id": "dYEGkYZyLy9I"
      }
    },
    {
      "cell_type": "code",
      "source": [
        "lista_dict_d = []\n",
        "for estudiante in estudiantes_5d:\n",
        "  nombre_c, division, fecha_nac = estudiante\n",
        "  apellido, nombre = nombre_c.split(\",\")\n",
        "  nombre = nombre.strip()\n",
        "  diccionario = {}\n",
        "  diccionario[\"nombre\"] = nombre\n",
        "  diccionario[\"apellido\"] = apellido\n",
        "  diccionario[\"curso\"] = 5\n",
        "  diccionario[\"division\"] = division\n",
        "  diccionario[\"fecha de nacimiento\"] = fecha_nac\n",
        "  lista_dict_d.append(diccionario)\n",
        "\n",
        "for estudiante in lista_dict_d:\n",
        "  print(estudiante)"
      ],
      "metadata": {
        "id": "oiymwu6mxY0x",
        "outputId": "2205eae7-af3f-4970-e61d-c210e96c5b87",
        "colab": {
          "base_uri": "https://localhost:8080/"
        }
      },
      "execution_count": 63,
      "outputs": [
        {
          "output_type": "stream",
          "name": "stdout",
          "text": [
            "{'nombre': 'Solange Stefania', 'apellido': 'Alurralde', 'curso': 5, 'division': 'D', 'fecha de nacimiento': '02/04/2007'}\n",
            "{'nombre': 'Ludmila Del Milagro', 'apellido': 'Alvarado', 'curso': 5, 'division': 'D', 'fecha de nacimiento': '06/09/2006'}\n",
            "{'nombre': 'Camila Juliana', 'apellido': 'Angel', 'curso': 5, 'division': 'D', 'fecha de nacimiento': '07/03/2007'}\n",
            "{'nombre': 'Lucas Gabriel', 'apellido': 'Arenas', 'curso': 5, 'division': 'D', 'fecha de nacimiento': '26/06/2007'}\n",
            "{'nombre': 'Maria Antonia', 'apellido': 'Caseres', 'curso': 5, 'division': 'D', 'fecha de nacimiento': '01/07/2006'}\n",
            "{'nombre': 'Paulina Milagros', 'apellido': 'Castillo', 'curso': 5, 'division': 'D', 'fecha de nacimiento': '01/06/2007'}\n",
            "{'nombre': 'Hugo Mariano', 'apellido': 'Correa Segovia', 'curso': 5, 'division': 'D', 'fecha de nacimiento': '04/12/2006'}\n",
            "{'nombre': 'Alvaro Tadeo', 'apellido': 'D Elia', 'curso': 5, 'division': 'D', 'fecha de nacimiento': '27/08/2006'}\n",
            "{'nombre': 'Victoria Agustina', 'apellido': 'Flores', 'curso': 5, 'division': 'D', 'fecha de nacimiento': '12/12/2006'}\n",
            "{'nombre': 'Lizzie Amaya', 'apellido': 'Geronimo Soriano', 'curso': 5, 'division': 'D', 'fecha de nacimiento': '20/01/2007'}\n",
            "{'nombre': 'Angélica Morena', 'apellido': 'Guzman', 'curso': 5, 'division': 'D', 'fecha de nacimiento': '11/04/2007'}\n",
            "{'nombre': 'Jazmin Esmeralda Belen', 'apellido': 'Guzman', 'curso': 5, 'division': 'D', 'fecha de nacimiento': '31/07/2006'}\n",
            "{'nombre': 'Anita Maria Belen', 'apellido': 'Jaime', 'curso': 5, 'division': 'D', 'fecha de nacimiento': '19/04/2007'}\n",
            "{'nombre': 'Nazarena', 'apellido': 'Lacour Polo', 'curso': 5, 'division': 'D', 'fecha de nacimiento': '19/12/2005'}\n",
            "{'nombre': 'Marcelo Fabricio', 'apellido': 'Lascano Guanca', 'curso': 5, 'division': 'D', 'fecha de nacimiento': '17/02/2006'}\n",
            "{'nombre': 'Celia Morena', 'apellido': 'Lezcano', 'curso': 5, 'division': 'D', 'fecha de nacimiento': '01/07/2005'}\n",
            "{'nombre': 'Tomas Andres', 'apellido': 'Martinez', 'curso': 5, 'division': 'D', 'fecha de nacimiento': '22/03/2007'}\n",
            "{'nombre': 'Pedro Francisco', 'apellido': 'Portella Valdivia', 'curso': 5, 'division': 'D', 'fecha de nacimiento': '24/01/2007'}\n",
            "{'nombre': 'Zacarias Josue', 'apellido': 'Retamal Cisneros', 'curso': 5, 'division': 'D', 'fecha de nacimiento': '24/02/2007'}\n",
            "{'nombre': 'Francisco Gabriel', 'apellido': 'Rosales', 'curso': 5, 'division': 'D', 'fecha de nacimiento': '14/11/2006'}\n",
            "{'nombre': 'Mahia', 'apellido': 'Salem Barba', 'curso': 5, 'division': 'D', 'fecha de nacimiento': '14/10/2005'}\n",
            "{'nombre': 'Agustin Ignacio', 'apellido': 'Soto Camara', 'curso': 5, 'division': 'D', 'fecha de nacimiento': '07/11/2005'}\n",
            "{'nombre': 'Irina', 'apellido': 'Villalba', 'curso': 5, 'division': 'D', 'fecha de nacimiento': '09/09/2006'}\n",
            "{'nombre': 'Emanuel Tobias', 'apellido': 'Voltolini', 'curso': 5, 'division': 'D', 'fecha de nacimiento': '17/09/2006'}\n",
            "{'nombre': 'Santino Stefano', 'apellido': 'Zalazar', 'curso': 5, 'division': 'D', 'fecha de nacimiento': '30/09/2006'}\n"
          ]
        }
      ]
    },
    {
      "cell_type": "code",
      "source": [
        "lista_dict_c = []\n",
        "for estudiante in estudiantes_5c:\n",
        "  nombre_c, division, fecha_nac = estudiante\n",
        "  apellido, nombre = nombre_c.split(\",\")\n",
        "  nombre = nombre.strip()\n",
        "  diccionario = {}\n",
        "  diccionario[\"nombre\"] = nombre\n",
        "  diccionario[\"apellido\"] = apellido\n",
        "  diccionario[\"curso\"] = 5\n",
        "  diccionario[\"division\"] = division\n",
        "  diccionario[\"fecha de nacimiento\"] = fecha_nac\n",
        "  lista_dict_c.append(diccionario)\n",
        "\n",
        "for estudiante in lista_dict_c:\n",
        "  print(estudiante)"
      ],
      "metadata": {
        "id": "EawAy4SANtkl",
        "outputId": "b04fcf32-d003-415a-da15-fe36b5c5ca62",
        "colab": {
          "base_uri": "https://localhost:8080/"
        }
      },
      "execution_count": 64,
      "outputs": [
        {
          "output_type": "stream",
          "name": "stdout",
          "text": [
            "{'nombre': 'Lourdes Mariel', 'apellido': 'Abud Laspiur', 'curso': 5, 'division': 'C', 'fecha de nacimiento': '05/12/2006'}\n",
            "{'nombre': 'Luana Micaela', 'apellido': 'Amador', 'curso': 5, 'division': 'C', 'fecha de nacimiento': '09/12/2006'}\n",
            "{'nombre': 'Leonardo Ezequiel', 'apellido': 'Anaquin', 'curso': 5, 'division': 'C', 'fecha de nacimiento': '06/09/2005'}\n",
            "{'nombre': 'Lautaro Nahuel', 'apellido': 'Araoz Sanchez', 'curso': 5, 'division': 'C', 'fecha de nacimiento': '28/12/2005'}\n",
            "{'nombre': 'Agostina Abril', 'apellido': 'Argañaraz', 'curso': 5, 'division': 'C', 'fecha de nacimiento': '11/10/2006'}\n",
            "{'nombre': 'Matias Ezequiel', 'apellido': 'Barrera', 'curso': 5, 'division': 'C', 'fecha de nacimiento': '27/02/2007'}\n",
            "{'nombre': 'Joaquin Nicolas', 'apellido': 'Barrozo Vedia', 'curso': 5, 'division': 'C', 'fecha de nacimiento': '15/04/2006'}\n",
            "{'nombre': 'Valentino', 'apellido': 'Bettinelli', 'curso': 5, 'division': 'C', 'fecha de nacimiento': '12/07/2006'}\n",
            "{'nombre': 'Salvador', 'apellido': 'Bracamonte Martinez', 'curso': 5, 'division': 'C', 'fecha de nacimiento': '02/11/2005'}\n",
            "{'nombre': 'Ariana Zoe Del Valle', 'apellido': 'Colque Rivero', 'curso': 5, 'division': 'C', 'fecha de nacimiento': '27/12/2006'}\n",
            "{'nombre': 'Dulce Maitena', 'apellido': 'Diaz', 'curso': 5, 'division': 'C', 'fecha de nacimiento': '11/12/2006'}\n",
            "{'nombre': 'Santino Josue', 'apellido': 'Figueroa', 'curso': 5, 'division': 'C', 'fecha de nacimiento': '12/05/2007'}\n",
            "{'nombre': 'Agustina Tiara', 'apellido': 'Flores Cardozo', 'curso': 5, 'division': 'C', 'fecha de nacimiento': '18/03/2006'}\n",
            "{'nombre': 'Octavio Ismael', 'apellido': 'Gallo', 'curso': 5, 'division': 'C', 'fecha de nacimiento': '04/08/2006'}\n",
            "{'nombre': 'Lourdes Yamila', 'apellido': 'Galvan', 'curso': 5, 'division': 'C', 'fecha de nacimiento': '19/08/2005'}\n",
            "{'nombre': 'Vitto Tomasso', 'apellido': 'Giangreco', 'curso': 5, 'division': 'C', 'fecha de nacimiento': '21/03/2007'}\n",
            "{'nombre': 'Martina Luna', 'apellido': 'Grancara', 'curso': 5, 'division': 'C', 'fecha de nacimiento': '15/12/2006'}\n",
            "{'nombre': 'Sara Elizabeth', 'apellido': 'Guanca', 'curso': 5, 'division': 'C', 'fecha de nacimiento': '17/01/2007'}\n",
            "{'nombre': 'Victoria Constanza', 'apellido': 'Lopez', 'curso': 5, 'division': 'C', 'fecha de nacimiento': '12/11/2007'}\n",
            "{'nombre': 'Rosario Agostina', 'apellido': 'Mamani Garrido', 'curso': 5, 'division': 'C', 'fecha de nacimiento': '24/10/2006'}\n",
            "{'nombre': 'Martin Ezequiel', 'apellido': 'Marinaro', 'curso': 5, 'division': 'C', 'fecha de nacimiento': '03/11/2006'}\n",
            "{'nombre': 'Ignacio', 'apellido': 'Merluzzi Dagum', 'curso': 5, 'division': 'C', 'fecha de nacimiento': '22/12/2005'}\n",
            "{'nombre': 'Martina', 'apellido': 'Messina', 'curso': 5, 'division': 'C', 'fecha de nacimiento': '13/07/2005'}\n",
            "{'nombre': 'Karim', 'apellido': 'Rasuk', 'curso': 5, 'division': 'C', 'fecha de nacimiento': '13/07/2007'}\n",
            "{'nombre': 'Lucia Magali', 'apellido': 'Rios', 'curso': 5, 'division': 'C', 'fecha de nacimiento': '22/09/2006'}\n",
            "{'nombre': 'Matías Agustín', 'apellido': 'Sanchez Flores', 'curso': 5, 'division': 'C', 'fecha de nacimiento': '15/02/2007'}\n",
            "{'nombre': 'Renato Marcelo', 'apellido': 'Scarano', 'curso': 5, 'division': 'C', 'fecha de nacimiento': '06/12/2006'}\n",
            "{'nombre': 'Lucas Mauricio', 'apellido': 'Sierra', 'curso': 5, 'division': 'C', 'fecha de nacimiento': '03/04/2005'}\n",
            "{'nombre': 'Martin Gabriel', 'apellido': 'Tapia', 'curso': 5, 'division': 'C', 'fecha de nacimiento': '30/05/2006'}\n",
            "{'nombre': 'Mia Antonella Alondra', 'apellido': 'Vilte', 'curso': 5, 'division': 'C', 'fecha de nacimiento': '10/09/2005'}\n",
            "{'nombre': 'Katya Milena', 'apellido': 'Virgillito', 'curso': 5, 'division': 'C', 'fecha de nacimiento': '19/06/2007'}\n"
          ]
        }
      ]
    },
    {
      "cell_type": "markdown",
      "source": [
        "3. Genera un diccionario en python, en donde la clave sea cada nombre que aparece en las listas y el valor será la cantidad de veces que se encuentra el mismo.\n",
        "Para este punto es posible fusionar ambas listas en una sola, recordá que hay un método que realiza esta acción.\n",
        "\n",
        "Mostrá la informacion generada"
      ],
      "metadata": {
        "id": "UW2dlBsGMAte"
      }
    },
    {
      "cell_type": "code",
      "source": [
        "estudiantes_informatica = []\n",
        "estudiantes_informatica.extend(lista_dict_c)\n",
        "estudiantes_informatica.extend(lista_dict_d)\n",
        "for estudiante in estudiantes_informatica:\n",
        "  print(estudiante)"
      ],
      "metadata": {
        "id": "ReXTC2WHyO56",
        "outputId": "1eab5f77-0e38-4a0a-e50c-2d3da4bea6e9",
        "colab": {
          "base_uri": "https://localhost:8080/"
        }
      },
      "execution_count": 65,
      "outputs": [
        {
          "output_type": "stream",
          "name": "stdout",
          "text": [
            "{'nombre': 'Lourdes Mariel', 'apellido': 'Abud Laspiur', 'curso': 5, 'division': 'C', 'fecha de nacimiento': '05/12/2006'}\n",
            "{'nombre': 'Luana Micaela', 'apellido': 'Amador', 'curso': 5, 'division': 'C', 'fecha de nacimiento': '09/12/2006'}\n",
            "{'nombre': 'Leonardo Ezequiel', 'apellido': 'Anaquin', 'curso': 5, 'division': 'C', 'fecha de nacimiento': '06/09/2005'}\n",
            "{'nombre': 'Lautaro Nahuel', 'apellido': 'Araoz Sanchez', 'curso': 5, 'division': 'C', 'fecha de nacimiento': '28/12/2005'}\n",
            "{'nombre': 'Agostina Abril', 'apellido': 'Argañaraz', 'curso': 5, 'division': 'C', 'fecha de nacimiento': '11/10/2006'}\n",
            "{'nombre': 'Matias Ezequiel', 'apellido': 'Barrera', 'curso': 5, 'division': 'C', 'fecha de nacimiento': '27/02/2007'}\n",
            "{'nombre': 'Joaquin Nicolas', 'apellido': 'Barrozo Vedia', 'curso': 5, 'division': 'C', 'fecha de nacimiento': '15/04/2006'}\n",
            "{'nombre': 'Valentino', 'apellido': 'Bettinelli', 'curso': 5, 'division': 'C', 'fecha de nacimiento': '12/07/2006'}\n",
            "{'nombre': 'Salvador', 'apellido': 'Bracamonte Martinez', 'curso': 5, 'division': 'C', 'fecha de nacimiento': '02/11/2005'}\n",
            "{'nombre': 'Ariana Zoe Del Valle', 'apellido': 'Colque Rivero', 'curso': 5, 'division': 'C', 'fecha de nacimiento': '27/12/2006'}\n",
            "{'nombre': 'Dulce Maitena', 'apellido': 'Diaz', 'curso': 5, 'division': 'C', 'fecha de nacimiento': '11/12/2006'}\n",
            "{'nombre': 'Santino Josue', 'apellido': 'Figueroa', 'curso': 5, 'division': 'C', 'fecha de nacimiento': '12/05/2007'}\n",
            "{'nombre': 'Agustina Tiara', 'apellido': 'Flores Cardozo', 'curso': 5, 'division': 'C', 'fecha de nacimiento': '18/03/2006'}\n",
            "{'nombre': 'Octavio Ismael', 'apellido': 'Gallo', 'curso': 5, 'division': 'C', 'fecha de nacimiento': '04/08/2006'}\n",
            "{'nombre': 'Lourdes Yamila', 'apellido': 'Galvan', 'curso': 5, 'division': 'C', 'fecha de nacimiento': '19/08/2005'}\n",
            "{'nombre': 'Vitto Tomasso', 'apellido': 'Giangreco', 'curso': 5, 'division': 'C', 'fecha de nacimiento': '21/03/2007'}\n",
            "{'nombre': 'Martina Luna', 'apellido': 'Grancara', 'curso': 5, 'division': 'C', 'fecha de nacimiento': '15/12/2006'}\n",
            "{'nombre': 'Sara Elizabeth', 'apellido': 'Guanca', 'curso': 5, 'division': 'C', 'fecha de nacimiento': '17/01/2007'}\n",
            "{'nombre': 'Victoria Constanza', 'apellido': 'Lopez', 'curso': 5, 'division': 'C', 'fecha de nacimiento': '12/11/2007'}\n",
            "{'nombre': 'Rosario Agostina', 'apellido': 'Mamani Garrido', 'curso': 5, 'division': 'C', 'fecha de nacimiento': '24/10/2006'}\n",
            "{'nombre': 'Martin Ezequiel', 'apellido': 'Marinaro', 'curso': 5, 'division': 'C', 'fecha de nacimiento': '03/11/2006'}\n",
            "{'nombre': 'Ignacio', 'apellido': 'Merluzzi Dagum', 'curso': 5, 'division': 'C', 'fecha de nacimiento': '22/12/2005'}\n",
            "{'nombre': 'Martina', 'apellido': 'Messina', 'curso': 5, 'division': 'C', 'fecha de nacimiento': '13/07/2005'}\n",
            "{'nombre': 'Karim', 'apellido': 'Rasuk', 'curso': 5, 'division': 'C', 'fecha de nacimiento': '13/07/2007'}\n",
            "{'nombre': 'Lucia Magali', 'apellido': 'Rios', 'curso': 5, 'division': 'C', 'fecha de nacimiento': '22/09/2006'}\n",
            "{'nombre': 'Matías Agustín', 'apellido': 'Sanchez Flores', 'curso': 5, 'division': 'C', 'fecha de nacimiento': '15/02/2007'}\n",
            "{'nombre': 'Renato Marcelo', 'apellido': 'Scarano', 'curso': 5, 'division': 'C', 'fecha de nacimiento': '06/12/2006'}\n",
            "{'nombre': 'Lucas Mauricio', 'apellido': 'Sierra', 'curso': 5, 'division': 'C', 'fecha de nacimiento': '03/04/2005'}\n",
            "{'nombre': 'Martin Gabriel', 'apellido': 'Tapia', 'curso': 5, 'division': 'C', 'fecha de nacimiento': '30/05/2006'}\n",
            "{'nombre': 'Mia Antonella Alondra', 'apellido': 'Vilte', 'curso': 5, 'division': 'C', 'fecha de nacimiento': '10/09/2005'}\n",
            "{'nombre': 'Katya Milena', 'apellido': 'Virgillito', 'curso': 5, 'division': 'C', 'fecha de nacimiento': '19/06/2007'}\n",
            "{'nombre': 'Solange Stefania', 'apellido': 'Alurralde', 'curso': 5, 'division': 'D', 'fecha de nacimiento': '02/04/2007'}\n",
            "{'nombre': 'Ludmila Del Milagro', 'apellido': 'Alvarado', 'curso': 5, 'division': 'D', 'fecha de nacimiento': '06/09/2006'}\n",
            "{'nombre': 'Camila Juliana', 'apellido': 'Angel', 'curso': 5, 'division': 'D', 'fecha de nacimiento': '07/03/2007'}\n",
            "{'nombre': 'Lucas Gabriel', 'apellido': 'Arenas', 'curso': 5, 'division': 'D', 'fecha de nacimiento': '26/06/2007'}\n",
            "{'nombre': 'Maria Antonia', 'apellido': 'Caseres', 'curso': 5, 'division': 'D', 'fecha de nacimiento': '01/07/2006'}\n",
            "{'nombre': 'Paulina Milagros', 'apellido': 'Castillo', 'curso': 5, 'division': 'D', 'fecha de nacimiento': '01/06/2007'}\n",
            "{'nombre': 'Hugo Mariano', 'apellido': 'Correa Segovia', 'curso': 5, 'division': 'D', 'fecha de nacimiento': '04/12/2006'}\n",
            "{'nombre': 'Alvaro Tadeo', 'apellido': 'D Elia', 'curso': 5, 'division': 'D', 'fecha de nacimiento': '27/08/2006'}\n",
            "{'nombre': 'Victoria Agustina', 'apellido': 'Flores', 'curso': 5, 'division': 'D', 'fecha de nacimiento': '12/12/2006'}\n",
            "{'nombre': 'Lizzie Amaya', 'apellido': 'Geronimo Soriano', 'curso': 5, 'division': 'D', 'fecha de nacimiento': '20/01/2007'}\n",
            "{'nombre': 'Angélica Morena', 'apellido': 'Guzman', 'curso': 5, 'division': 'D', 'fecha de nacimiento': '11/04/2007'}\n",
            "{'nombre': 'Jazmin Esmeralda Belen', 'apellido': 'Guzman', 'curso': 5, 'division': 'D', 'fecha de nacimiento': '31/07/2006'}\n",
            "{'nombre': 'Anita Maria Belen', 'apellido': 'Jaime', 'curso': 5, 'division': 'D', 'fecha de nacimiento': '19/04/2007'}\n",
            "{'nombre': 'Nazarena', 'apellido': 'Lacour Polo', 'curso': 5, 'division': 'D', 'fecha de nacimiento': '19/12/2005'}\n",
            "{'nombre': 'Marcelo Fabricio', 'apellido': 'Lascano Guanca', 'curso': 5, 'division': 'D', 'fecha de nacimiento': '17/02/2006'}\n",
            "{'nombre': 'Celia Morena', 'apellido': 'Lezcano', 'curso': 5, 'division': 'D', 'fecha de nacimiento': '01/07/2005'}\n",
            "{'nombre': 'Tomas Andres', 'apellido': 'Martinez', 'curso': 5, 'division': 'D', 'fecha de nacimiento': '22/03/2007'}\n",
            "{'nombre': 'Pedro Francisco', 'apellido': 'Portella Valdivia', 'curso': 5, 'division': 'D', 'fecha de nacimiento': '24/01/2007'}\n",
            "{'nombre': 'Zacarias Josue', 'apellido': 'Retamal Cisneros', 'curso': 5, 'division': 'D', 'fecha de nacimiento': '24/02/2007'}\n",
            "{'nombre': 'Francisco Gabriel', 'apellido': 'Rosales', 'curso': 5, 'division': 'D', 'fecha de nacimiento': '14/11/2006'}\n",
            "{'nombre': 'Mahia', 'apellido': 'Salem Barba', 'curso': 5, 'division': 'D', 'fecha de nacimiento': '14/10/2005'}\n",
            "{'nombre': 'Agustin Ignacio', 'apellido': 'Soto Camara', 'curso': 5, 'division': 'D', 'fecha de nacimiento': '07/11/2005'}\n",
            "{'nombre': 'Irina', 'apellido': 'Villalba', 'curso': 5, 'division': 'D', 'fecha de nacimiento': '09/09/2006'}\n",
            "{'nombre': 'Emanuel Tobias', 'apellido': 'Voltolini', 'curso': 5, 'division': 'D', 'fecha de nacimiento': '17/09/2006'}\n",
            "{'nombre': 'Santino Stefano', 'apellido': 'Zalazar', 'curso': 5, 'division': 'D', 'fecha de nacimiento': '30/09/2006'}\n"
          ]
        }
      ]
    },
    {
      "cell_type": "code",
      "source": [
        "lista_nombres = []\n",
        "for estudiante in estudiantes_informatica:\n",
        "  nombre_completo = estudiante['apellido'] + \", \" + estudiante['nombre']\n",
        "  nombre_c = nombre_completo.split(\", \")\n",
        "  nombre = nombre_c[1].split()\n",
        "  lista_nombres.extend(nombre)\n",
        "for i in range(len(nombre)):\n",
        "  nombre[i] = nombre[i].strip()\n",
        "lista_nombres.extend(nombre)\n",
        "encuentro_nombre = {}\n",
        "for nombre in lista_nombres:\n",
        "  if nombre in encuentro_nombre.keys():\n",
        "    encuentro_nombre[nombre] += 1\n",
        "  else:\n",
        "    encuentro_nombre[nombre] = 1\n",
        "for nombre, encuentro in encuentro_nombre.items():\n",
        "  print(f\"El nombre {nombre} aparece {encuentro} veces.\")"
      ],
      "metadata": {
        "id": "qXls5IJO0bST",
        "outputId": "e7882163-1ad7-451a-c191-c7f2c941108e",
        "colab": {
          "base_uri": "https://localhost:8080/"
        }
      },
      "execution_count": 67,
      "outputs": [
        {
          "output_type": "stream",
          "name": "stdout",
          "text": [
            "El nombre Lourdes aparece 2 veces.\n",
            "El nombre Mariel aparece 1 veces.\n",
            "El nombre Luana aparece 1 veces.\n",
            "El nombre Micaela aparece 1 veces.\n",
            "El nombre Leonardo aparece 1 veces.\n",
            "El nombre Ezequiel aparece 3 veces.\n",
            "El nombre Lautaro aparece 1 veces.\n",
            "El nombre Nahuel aparece 1 veces.\n",
            "El nombre Agostina aparece 2 veces.\n",
            "El nombre Abril aparece 1 veces.\n",
            "El nombre Matias aparece 1 veces.\n",
            "El nombre Joaquin aparece 1 veces.\n",
            "El nombre Nicolas aparece 1 veces.\n",
            "El nombre Valentino aparece 1 veces.\n",
            "El nombre Salvador aparece 1 veces.\n",
            "El nombre Ariana aparece 1 veces.\n",
            "El nombre Zoe aparece 1 veces.\n",
            "El nombre Del aparece 2 veces.\n",
            "El nombre Valle aparece 1 veces.\n",
            "El nombre Dulce aparece 1 veces.\n",
            "El nombre Maitena aparece 1 veces.\n",
            "El nombre Santino aparece 3 veces.\n",
            "El nombre Josue aparece 2 veces.\n",
            "El nombre Agustina aparece 2 veces.\n",
            "El nombre Tiara aparece 1 veces.\n",
            "El nombre Octavio aparece 1 veces.\n",
            "El nombre Ismael aparece 1 veces.\n",
            "El nombre Yamila aparece 1 veces.\n",
            "El nombre Vitto aparece 1 veces.\n",
            "El nombre Tomasso aparece 1 veces.\n",
            "El nombre Martina aparece 2 veces.\n",
            "El nombre Luna aparece 1 veces.\n",
            "El nombre Sara aparece 1 veces.\n",
            "El nombre Elizabeth aparece 1 veces.\n",
            "El nombre Victoria aparece 2 veces.\n",
            "El nombre Constanza aparece 1 veces.\n",
            "El nombre Rosario aparece 1 veces.\n",
            "El nombre Martin aparece 2 veces.\n",
            "El nombre Ignacio aparece 2 veces.\n",
            "El nombre Karim aparece 1 veces.\n",
            "El nombre Lucia aparece 1 veces.\n",
            "El nombre Magali aparece 1 veces.\n",
            "El nombre Matías aparece 1 veces.\n",
            "El nombre Agustín aparece 1 veces.\n",
            "El nombre Renato aparece 1 veces.\n",
            "El nombre Marcelo aparece 2 veces.\n",
            "El nombre Lucas aparece 2 veces.\n",
            "El nombre Mauricio aparece 1 veces.\n",
            "El nombre Gabriel aparece 3 veces.\n",
            "El nombre Mia aparece 1 veces.\n",
            "El nombre Antonella aparece 1 veces.\n",
            "El nombre Alondra aparece 1 veces.\n",
            "El nombre Katya aparece 1 veces.\n",
            "El nombre Milena aparece 1 veces.\n",
            "El nombre Solange aparece 1 veces.\n",
            "El nombre Stefania aparece 1 veces.\n",
            "El nombre Ludmila aparece 1 veces.\n",
            "El nombre Milagro aparece 1 veces.\n",
            "El nombre Camila aparece 1 veces.\n",
            "El nombre Juliana aparece 1 veces.\n",
            "El nombre Maria aparece 2 veces.\n",
            "El nombre Antonia aparece 1 veces.\n",
            "El nombre Paulina aparece 1 veces.\n",
            "El nombre Milagros aparece 1 veces.\n",
            "El nombre Hugo aparece 1 veces.\n",
            "El nombre Mariano aparece 1 veces.\n",
            "El nombre Alvaro aparece 1 veces.\n",
            "El nombre Tadeo aparece 1 veces.\n",
            "El nombre Lizzie aparece 1 veces.\n",
            "El nombre Amaya aparece 1 veces.\n",
            "El nombre Angélica aparece 1 veces.\n",
            "El nombre Morena aparece 2 veces.\n",
            "El nombre Jazmin aparece 1 veces.\n",
            "El nombre Esmeralda aparece 1 veces.\n",
            "El nombre Belen aparece 2 veces.\n",
            "El nombre Anita aparece 1 veces.\n",
            "El nombre Nazarena aparece 1 veces.\n",
            "El nombre Fabricio aparece 1 veces.\n",
            "El nombre Celia aparece 1 veces.\n",
            "El nombre Tomas aparece 1 veces.\n",
            "El nombre Andres aparece 1 veces.\n",
            "El nombre Pedro aparece 1 veces.\n",
            "El nombre Francisco aparece 2 veces.\n",
            "El nombre Zacarias aparece 1 veces.\n",
            "El nombre Mahia aparece 1 veces.\n",
            "El nombre Agustin aparece 1 veces.\n",
            "El nombre Irina aparece 1 veces.\n",
            "El nombre Emanuel aparece 1 veces.\n",
            "El nombre Tobias aparece 1 veces.\n",
            "El nombre Stefano aparece 2 veces.\n"
          ]
        }
      ]
    },
    {
      "cell_type": "markdown",
      "source": [
        "4. Genera un diccionario en python, en donde la clave sea cada apellido que aparece en las listas y el valor será la cantidad de veces que se encuentra el mismo.\n",
        "Para este punto es posible fusionar ambas listas en una sola, recordá que hay un método que realiza esta acción."
      ],
      "metadata": {
        "id": "kZeEHUYVNwGV"
      }
    },
    {
      "cell_type": "code",
      "source": [
        "lista_apellidos = []\n",
        "for estudiante in estudiantes_informatica:\n",
        "  nombre_completo = estudiante['apellido'] + \", \" + estudiante['nombre']  # Access dictionary values using string keys\n",
        "  nombre_c = nombre_completo.split(\", \")\n",
        "  apellido = nombre_c[0].split()\n",
        "  lista_apellidos.extend(apellido)\n",
        "for i in range(len(apellido)):\n",
        "  apellido[i] = apellido[i].strip()\n",
        "lista_apellidos.extend(apellido)\n",
        "encuentro_apellido = {}\n",
        "for nombre in lista_apellidos:\n",
        "  if nombre in encuentro_apellido.keys():\n",
        "    encuentro_apellido[nombre] += 1\n",
        "  else:\n",
        "    encuentro_apellido[nombre] = 1\n",
        "for apellido, encuentro in encuentro_apellido.items():\n",
        "  print(f\"El nombre {apellido} aparece {encuentro} veces.\")"
      ],
      "metadata": {
        "id": "q05GnxXgORzt",
        "outputId": "e78ccad3-2d34-4202-dfc4-11b081bd57db",
        "colab": {
          "base_uri": "https://localhost:8080/"
        }
      },
      "execution_count": 69,
      "outputs": [
        {
          "output_type": "stream",
          "name": "stdout",
          "text": [
            "El nombre Abud aparece 1 veces.\n",
            "El nombre Laspiur aparece 1 veces.\n",
            "El nombre Amador aparece 1 veces.\n",
            "El nombre Anaquin aparece 1 veces.\n",
            "El nombre Araoz aparece 1 veces.\n",
            "El nombre Sanchez aparece 2 veces.\n",
            "El nombre Argañaraz aparece 1 veces.\n",
            "El nombre Barrera aparece 1 veces.\n",
            "El nombre Barrozo aparece 1 veces.\n",
            "El nombre Vedia aparece 1 veces.\n",
            "El nombre Bettinelli aparece 1 veces.\n",
            "El nombre Bracamonte aparece 1 veces.\n",
            "El nombre Martinez aparece 2 veces.\n",
            "El nombre Colque aparece 1 veces.\n",
            "El nombre Rivero aparece 1 veces.\n",
            "El nombre Diaz aparece 1 veces.\n",
            "El nombre Figueroa aparece 1 veces.\n",
            "El nombre Flores aparece 3 veces.\n",
            "El nombre Cardozo aparece 1 veces.\n",
            "El nombre Gallo aparece 1 veces.\n",
            "El nombre Galvan aparece 1 veces.\n",
            "El nombre Giangreco aparece 1 veces.\n",
            "El nombre Grancara aparece 1 veces.\n",
            "El nombre Guanca aparece 2 veces.\n",
            "El nombre Lopez aparece 1 veces.\n",
            "El nombre Mamani aparece 1 veces.\n",
            "El nombre Garrido aparece 1 veces.\n",
            "El nombre Marinaro aparece 1 veces.\n",
            "El nombre Merluzzi aparece 1 veces.\n",
            "El nombre Dagum aparece 1 veces.\n",
            "El nombre Messina aparece 1 veces.\n",
            "El nombre Rasuk aparece 1 veces.\n",
            "El nombre Rios aparece 1 veces.\n",
            "El nombre Scarano aparece 1 veces.\n",
            "El nombre Sierra aparece 1 veces.\n",
            "El nombre Tapia aparece 1 veces.\n",
            "El nombre Vilte aparece 1 veces.\n",
            "El nombre Virgillito aparece 1 veces.\n",
            "El nombre Alurralde aparece 1 veces.\n",
            "El nombre Alvarado aparece 1 veces.\n",
            "El nombre Angel aparece 1 veces.\n",
            "El nombre Arenas aparece 1 veces.\n",
            "El nombre Caseres aparece 1 veces.\n",
            "El nombre Castillo aparece 1 veces.\n",
            "El nombre Correa aparece 1 veces.\n",
            "El nombre Segovia aparece 1 veces.\n",
            "El nombre D aparece 1 veces.\n",
            "El nombre Elia aparece 1 veces.\n",
            "El nombre Geronimo aparece 1 veces.\n",
            "El nombre Soriano aparece 1 veces.\n",
            "El nombre Guzman aparece 2 veces.\n",
            "El nombre Jaime aparece 1 veces.\n",
            "El nombre Lacour aparece 1 veces.\n",
            "El nombre Polo aparece 1 veces.\n",
            "El nombre Lascano aparece 1 veces.\n",
            "El nombre Lezcano aparece 1 veces.\n",
            "El nombre Portella aparece 1 veces.\n",
            "El nombre Valdivia aparece 1 veces.\n",
            "El nombre Retamal aparece 1 veces.\n",
            "El nombre Cisneros aparece 1 veces.\n",
            "El nombre Rosales aparece 1 veces.\n",
            "El nombre Salem aparece 1 veces.\n",
            "El nombre Barba aparece 1 veces.\n",
            "El nombre Soto aparece 1 veces.\n",
            "El nombre Camara aparece 1 veces.\n",
            "El nombre Villalba aparece 1 veces.\n",
            "El nombre Voltolini aparece 1 veces.\n",
            "El nombre Zalazar aparece 2 veces.\n"
          ]
        }
      ]
    },
    {
      "cell_type": "markdown",
      "source": [
        "5. Solicita al usuario que ingrese un apellido y muestra  a todos los estudiantes con ese apellido."
      ],
      "metadata": {
        "id": "ywYmA2JQNp3T"
      }
    },
    {
      "cell_type": "code",
      "source": [
        "apellido = input(\"Ingrese un apellido: \").title()\n",
        "for estudiante in estudiantes_informatica:\n",
        "  if apellido in estudiante[\"apellido\"]:\n",
        "    print(estudiante)"
      ],
      "metadata": {
        "id": "Cnp334ZrOCjK",
        "outputId": "9935145e-4c9c-4e16-b03a-497aaa51f8dc",
        "colab": {
          "base_uri": "https://localhost:8080/"
        }
      },
      "execution_count": 70,
      "outputs": [
        {
          "output_type": "stream",
          "name": "stdout",
          "text": [
            "Ingrese un apellido: Gallo\n",
            "{'nombre': 'Octavio Ismael', 'apellido': 'Gallo', 'curso': 5, 'division': 'C', 'fecha de nacimiento': '04/08/2006'}\n"
          ]
        }
      ]
    },
    {
      "cell_type": "markdown",
      "source": [
        "6. Solicita al usuario que ingrese un nombre y muestra a todos los estudiantes con el nombre ingresado."
      ],
      "metadata": {
        "id": "iAXts6saODoU"
      }
    },
    {
      "cell_type": "code",
      "source": [
        "nombre = input(\"Ingrese un nombre: \").title()\n",
        "for estudiante in estudiantes_informatica:\n",
        "  if nombre in estudiante[\"nombre\"]:\n",
        "    print(estudiante)"
      ],
      "metadata": {
        "id": "FMRsUlvtOJS_",
        "outputId": "df42507f-8f83-4d57-eeea-e65248769650",
        "colab": {
          "base_uri": "https://localhost:8080/"
        }
      },
      "execution_count": 71,
      "outputs": [
        {
          "output_type": "stream",
          "name": "stdout",
          "text": [
            "Ingrese un nombre: Anita\n",
            "{'nombre': 'Anita Maria Belen', 'apellido': 'Jaime', 'curso': 5, 'division': 'D', 'fecha de nacimiento': '19/04/2007'}\n"
          ]
        }
      ]
    },
    {
      "cell_type": "markdown",
      "source": [
        "7. Busca el diccionario con tu información dentro de la lista y cámbiate de división, de tal manera que si estas en 5C, con el cambio quedes en 5D y viceversa."
      ],
      "metadata": {
        "id": "T4PFiwwdOK27"
      }
    },
    {
      "cell_type": "code",
      "source": [
        "nombre_usuario = input(\"Ingrese sus nombres: \").title()\n",
        "apellido_usuario = input(\"Ingrese sus apellidos: \").title()\n",
        "for estudiante in estudiantes_informatica:\n",
        "  nombre = estudiante.get(\"nombre\")\n",
        "  apellido = estudiante.get(\"apellido\")\n",
        "  division = estudiante.get(\"division\")\n",
        "  if nombre_usuario in nombre and apellido_usuario in apellido:\n",
        "    if division == \"C\":\n",
        "      estudiante[\"division\"] = \"D\"\n",
        "      print(\"Su división ha sido cambiada a 'D'.\")\n",
        "    elif division == \"D\":\n",
        "      estudiante[\"division\"] = \"C\"\n",
        "      print(\"Su división ha sido cambiada a 'C'.\")\n",
        "    print(estudiante)\n",
        "    break\n",
        "else:\n",
        "  print(\"No se encontró el estudiante en la lista.\")"
      ],
      "metadata": {
        "id": "-XPueEiCWqu1",
        "outputId": "ac55f8eb-edbf-49b0-bb30-26a4565520a7",
        "colab": {
          "base_uri": "https://localhost:8080/"
        }
      },
      "execution_count": 79,
      "outputs": [
        {
          "output_type": "stream",
          "name": "stdout",
          "text": [
            "Ingrese sus nombres: Pablo\n",
            "Ingrese sus apellidos: Escobar\n",
            "No se encontró el estudiante en la lista.\n"
          ]
        }
      ]
    },
    {
      "cell_type": "markdown",
      "source": [
        "8. Ordenar la lista alfabeticamente por nombre. Ascendente y descendentemente. Para elegir como ordenarla, mostrar un menú donde el usuario podrá decidir como quiere ver la salida."
      ],
      "metadata": {
        "id": "xfy8SFlZRVGf"
      }
    },
    {
      "cell_type": "code",
      "source": [
        "opcion = input(\"Elija la forma de ordenar la lista  segun el nombre [a] Ascendente [d] Descendente:  \")\n",
        "if opcion == \"a\":\n",
        "  estudiantes_informatica.sort(key=lambda x: x[\"nombre\"])\n",
        "  for estudiante in estudiantes_informatica:\n",
        "    print(estudiante)\n",
        "elif opcion == \"d\":\n",
        "  estudiantes_informatica.sort(key=lambda x: x[\"nombre\"], reverse=True)\n",
        "  for estudiante in estudiantes_informatica:\n",
        "    print(estudiante)\n",
        "else:\n",
        "  print(\"Opcion invalida\")"
      ],
      "metadata": {
        "id": "kbOqgjTUJPzP",
        "outputId": "a2c00e00-dcc2-4477-9bc7-326f85cd233d",
        "colab": {
          "base_uri": "https://localhost:8080/"
        }
      },
      "execution_count": 82,
      "outputs": [
        {
          "output_type": "stream",
          "name": "stdout",
          "text": [
            "Elija la forma de ordenar la lista  segun el nombre [a] Ascendente [d] Descendente:  d\n",
            "{'nombre': 'Zacarias Josue', 'apellido': 'Retamal Cisneros', 'curso': 5, 'division': 'D', 'fecha de nacimiento': '24/02/2007'}\n",
            "{'nombre': 'Vitto Tomasso', 'apellido': 'Giangreco', 'curso': 5, 'division': 'C', 'fecha de nacimiento': '21/03/2007'}\n",
            "{'nombre': 'Victoria Constanza', 'apellido': 'Lopez', 'curso': 5, 'division': 'C', 'fecha de nacimiento': '12/11/2007'}\n",
            "{'nombre': 'Victoria Agustina', 'apellido': 'Flores', 'curso': 5, 'division': 'D', 'fecha de nacimiento': '12/12/2006'}\n",
            "{'nombre': 'Valentino', 'apellido': 'Bettinelli', 'curso': 5, 'division': 'C', 'fecha de nacimiento': '12/07/2006'}\n",
            "{'nombre': 'Tomas Andres', 'apellido': 'Martinez', 'curso': 5, 'division': 'D', 'fecha de nacimiento': '22/03/2007'}\n",
            "{'nombre': 'Solange Stefania', 'apellido': 'Alurralde', 'curso': 5, 'division': 'D', 'fecha de nacimiento': '02/04/2007'}\n",
            "{'nombre': 'Sara Elizabeth', 'apellido': 'Guanca', 'curso': 5, 'division': 'C', 'fecha de nacimiento': '17/01/2007'}\n",
            "{'nombre': 'Santino Stefano', 'apellido': 'Zalazar', 'curso': 5, 'division': 'D', 'fecha de nacimiento': '30/09/2006'}\n",
            "{'nombre': 'Santino Josue', 'apellido': 'Figueroa', 'curso': 5, 'division': 'C', 'fecha de nacimiento': '12/05/2007'}\n",
            "{'nombre': 'Salvador', 'apellido': 'Bracamonte Martinez', 'curso': 5, 'division': 'C', 'fecha de nacimiento': '02/11/2005'}\n",
            "{'nombre': 'Rosario Agostina', 'apellido': 'Mamani Garrido', 'curso': 5, 'division': 'C', 'fecha de nacimiento': '24/10/2006'}\n",
            "{'nombre': 'Renato Marcelo', 'apellido': 'Scarano', 'curso': 5, 'division': 'C', 'fecha de nacimiento': '06/12/2006'}\n",
            "{'nombre': 'Pedro Francisco', 'apellido': 'Portella Valdivia', 'curso': 5, 'division': 'D', 'fecha de nacimiento': '24/01/2007'}\n",
            "{'nombre': 'Paulina Milagros', 'apellido': 'Castillo', 'curso': 5, 'division': 'D', 'fecha de nacimiento': '01/06/2007'}\n",
            "{'nombre': 'Octavio Ismael', 'apellido': 'Gallo', 'curso': 5, 'division': 'D', 'fecha de nacimiento': '04/08/2006'}\n",
            "{'nombre': 'Nazarena', 'apellido': 'Lacour Polo', 'curso': 5, 'division': 'D', 'fecha de nacimiento': '19/12/2005'}\n",
            "{'nombre': 'Mia Antonella Alondra', 'apellido': 'Vilte', 'curso': 5, 'division': 'C', 'fecha de nacimiento': '10/09/2005'}\n",
            "{'nombre': 'Matías Agustín', 'apellido': 'Sanchez Flores', 'curso': 5, 'division': 'C', 'fecha de nacimiento': '15/02/2007'}\n",
            "{'nombre': 'Matias Ezequiel', 'apellido': 'Barrera', 'curso': 5, 'division': 'C', 'fecha de nacimiento': '27/02/2007'}\n",
            "{'nombre': 'Martina Luna', 'apellido': 'Grancara', 'curso': 5, 'division': 'C', 'fecha de nacimiento': '15/12/2006'}\n",
            "{'nombre': 'Martina', 'apellido': 'Messina', 'curso': 5, 'division': 'C', 'fecha de nacimiento': '13/07/2005'}\n",
            "{'nombre': 'Martin Gabriel', 'apellido': 'Tapia', 'curso': 5, 'division': 'C', 'fecha de nacimiento': '30/05/2006'}\n",
            "{'nombre': 'Martin Ezequiel', 'apellido': 'Marinaro', 'curso': 5, 'division': 'C', 'fecha de nacimiento': '03/11/2006'}\n",
            "{'nombre': 'Maria Antonia', 'apellido': 'Caseres', 'curso': 5, 'division': 'D', 'fecha de nacimiento': '01/07/2006'}\n",
            "{'nombre': 'Marcelo Fabricio', 'apellido': 'Lascano Guanca', 'curso': 5, 'division': 'D', 'fecha de nacimiento': '17/02/2006'}\n",
            "{'nombre': 'Mahia', 'apellido': 'Salem Barba', 'curso': 5, 'division': 'D', 'fecha de nacimiento': '14/10/2005'}\n",
            "{'nombre': 'Ludmila Del Milagro', 'apellido': 'Alvarado', 'curso': 5, 'division': 'D', 'fecha de nacimiento': '06/09/2006'}\n",
            "{'nombre': 'Lucia Magali', 'apellido': 'Rios', 'curso': 5, 'division': 'C', 'fecha de nacimiento': '22/09/2006'}\n",
            "{'nombre': 'Lucas Mauricio', 'apellido': 'Sierra', 'curso': 5, 'division': 'C', 'fecha de nacimiento': '03/04/2005'}\n",
            "{'nombre': 'Lucas Gabriel', 'apellido': 'Arenas', 'curso': 5, 'division': 'D', 'fecha de nacimiento': '26/06/2007'}\n",
            "{'nombre': 'Luana Micaela', 'apellido': 'Amador', 'curso': 5, 'division': 'C', 'fecha de nacimiento': '09/12/2006'}\n",
            "{'nombre': 'Lourdes Yamila', 'apellido': 'Galvan', 'curso': 5, 'division': 'C', 'fecha de nacimiento': '19/08/2005'}\n",
            "{'nombre': 'Lourdes Mariel', 'apellido': 'Abud Laspiur', 'curso': 5, 'division': 'C', 'fecha de nacimiento': '05/12/2006'}\n",
            "{'nombre': 'Lizzie Amaya', 'apellido': 'Geronimo Soriano', 'curso': 5, 'division': 'D', 'fecha de nacimiento': '20/01/2007'}\n",
            "{'nombre': 'Leonardo Ezequiel', 'apellido': 'Anaquin', 'curso': 5, 'division': 'C', 'fecha de nacimiento': '06/09/2005'}\n",
            "{'nombre': 'Lautaro Nahuel', 'apellido': 'Araoz Sanchez', 'curso': 5, 'division': 'C', 'fecha de nacimiento': '28/12/2005'}\n",
            "{'nombre': 'Katya Milena', 'apellido': 'Virgillito', 'curso': 5, 'division': 'C', 'fecha de nacimiento': '19/06/2007'}\n",
            "{'nombre': 'Karim', 'apellido': 'Rasuk', 'curso': 5, 'division': 'C', 'fecha de nacimiento': '13/07/2007'}\n",
            "{'nombre': 'Joaquin Nicolas', 'apellido': 'Barrozo Vedia', 'curso': 5, 'division': 'C', 'fecha de nacimiento': '15/04/2006'}\n",
            "{'nombre': 'Jazmin Esmeralda Belen', 'apellido': 'Guzman', 'curso': 5, 'division': 'D', 'fecha de nacimiento': '31/07/2006'}\n",
            "{'nombre': 'Irina', 'apellido': 'Villalba', 'curso': 5, 'division': 'D', 'fecha de nacimiento': '09/09/2006'}\n",
            "{'nombre': 'Ignacio', 'apellido': 'Merluzzi Dagum', 'curso': 5, 'division': 'D', 'fecha de nacimiento': '22/12/2005'}\n",
            "{'nombre': 'Hugo Mariano', 'apellido': 'Correa Segovia', 'curso': 5, 'division': 'D', 'fecha de nacimiento': '04/12/2006'}\n",
            "{'nombre': 'Francisco Gabriel', 'apellido': 'Rosales', 'curso': 5, 'division': 'D', 'fecha de nacimiento': '14/11/2006'}\n",
            "{'nombre': 'Emanuel Tobias', 'apellido': 'Voltolini', 'curso': 5, 'division': 'D', 'fecha de nacimiento': '17/09/2006'}\n",
            "{'nombre': 'Dulce Maitena', 'apellido': 'Diaz', 'curso': 5, 'division': 'C', 'fecha de nacimiento': '11/12/2006'}\n",
            "{'nombre': 'Celia Morena', 'apellido': 'Lezcano', 'curso': 5, 'division': 'D', 'fecha de nacimiento': '01/07/2005'}\n",
            "{'nombre': 'Camila Juliana', 'apellido': 'Angel', 'curso': 5, 'division': 'D', 'fecha de nacimiento': '07/03/2007'}\n",
            "{'nombre': 'Ariana Zoe Del Valle', 'apellido': 'Colque Rivero', 'curso': 5, 'division': 'C', 'fecha de nacimiento': '27/12/2006'}\n",
            "{'nombre': 'Anita Maria Belen', 'apellido': 'Jaime', 'curso': 5, 'division': 'D', 'fecha de nacimiento': '19/04/2007'}\n",
            "{'nombre': 'Angélica Morena', 'apellido': 'Guzman', 'curso': 5, 'division': 'D', 'fecha de nacimiento': '11/04/2007'}\n",
            "{'nombre': 'Alvaro Tadeo', 'apellido': 'D Elia', 'curso': 5, 'division': 'D', 'fecha de nacimiento': '27/08/2006'}\n",
            "{'nombre': 'Agustina Tiara', 'apellido': 'Flores Cardozo', 'curso': 5, 'division': 'C', 'fecha de nacimiento': '18/03/2006'}\n",
            "{'nombre': 'Agustin Ignacio', 'apellido': 'Soto Camara', 'curso': 5, 'division': 'D', 'fecha de nacimiento': '07/11/2005'}\n",
            "{'nombre': 'Agostina Abril', 'apellido': 'Argañaraz', 'curso': 5, 'division': 'C', 'fecha de nacimiento': '11/10/2006'}\n"
          ]
        }
      ]
    },
    {
      "cell_type": "markdown",
      "source": [
        "9. Ordenar la lista alfabeticamente por apellido. Ascendente y descendentemente. Para elegir como ordenarla, mostrar un menú donde el usuario podrá decidir como quiere ver la salida."
      ],
      "metadata": {
        "id": "lW18NgPjRcGP"
      }
    },
    {
      "cell_type": "code",
      "source": [
        "opcion = input(\"Elija la forma de ordenar la lista  segun el apellido [a] Ascendente [d] Descendente:  \")\n",
        "if opcion == \"a\":\n",
        "  estudiantes_informatica.sort(key=lambda x: x[\"apellido\"])\n",
        "  for estudiante in estudiantes_informatica:\n",
        "   print(estudiante)\n",
        "elif opcion == \"d\":\n",
        "  estudiantes_informatica.sort(key=lambda x: x[\"apellido\"], reverse=True)\n",
        "  for estudiante in estudiantes_informatica:\n",
        "    print(estudiante)\n",
        "else:\n",
        "  print(\"Opcion invalida\")"
      ],
      "metadata": {
        "id": "jTtWBnalRcoC",
        "outputId": "03b8f6a5-f2a2-4cf3-93fe-6fc166b40885",
        "colab": {
          "base_uri": "https://localhost:8080/"
        }
      },
      "execution_count": 86,
      "outputs": [
        {
          "output_type": "stream",
          "name": "stdout",
          "text": [
            "Elija la forma de ordenar la lista  segun el apellido [a] Ascendente [d] Descendente:  d\n",
            "{'nombre': 'Santino Stefano', 'apellido': 'Zalazar', 'curso': 5, 'division': 'D', 'fecha de nacimiento': '30/09/2006'}\n",
            "{'nombre': 'Emanuel Tobias', 'apellido': 'Voltolini', 'curso': 5, 'division': 'D', 'fecha de nacimiento': '17/09/2006'}\n",
            "{'nombre': 'Katya Milena', 'apellido': 'Virgillito', 'curso': 5, 'division': 'C', 'fecha de nacimiento': '19/06/2007'}\n",
            "{'nombre': 'Mia Antonella Alondra', 'apellido': 'Vilte', 'curso': 5, 'division': 'C', 'fecha de nacimiento': '10/09/2005'}\n",
            "{'nombre': 'Irina', 'apellido': 'Villalba', 'curso': 5, 'division': 'D', 'fecha de nacimiento': '09/09/2006'}\n",
            "{'nombre': 'Martin Gabriel', 'apellido': 'Tapia', 'curso': 5, 'division': 'C', 'fecha de nacimiento': '30/05/2006'}\n",
            "{'nombre': 'Agustin Ignacio', 'apellido': 'Soto Camara', 'curso': 5, 'division': 'D', 'fecha de nacimiento': '07/11/2005'}\n",
            "{'nombre': 'Lucas Mauricio', 'apellido': 'Sierra', 'curso': 5, 'division': 'C', 'fecha de nacimiento': '03/04/2005'}\n",
            "{'nombre': 'Renato Marcelo', 'apellido': 'Scarano', 'curso': 5, 'division': 'C', 'fecha de nacimiento': '06/12/2006'}\n",
            "{'nombre': 'Matías Agustín', 'apellido': 'Sanchez Flores', 'curso': 5, 'division': 'C', 'fecha de nacimiento': '15/02/2007'}\n",
            "{'nombre': 'Mahia', 'apellido': 'Salem Barba', 'curso': 5, 'division': 'D', 'fecha de nacimiento': '14/10/2005'}\n",
            "{'nombre': 'Francisco Gabriel', 'apellido': 'Rosales', 'curso': 5, 'division': 'D', 'fecha de nacimiento': '14/11/2006'}\n",
            "{'nombre': 'Lucia Magali', 'apellido': 'Rios', 'curso': 5, 'division': 'C', 'fecha de nacimiento': '22/09/2006'}\n",
            "{'nombre': 'Zacarias Josue', 'apellido': 'Retamal Cisneros', 'curso': 5, 'division': 'D', 'fecha de nacimiento': '24/02/2007'}\n",
            "{'nombre': 'Karim', 'apellido': 'Rasuk', 'curso': 5, 'division': 'C', 'fecha de nacimiento': '13/07/2007'}\n",
            "{'nombre': 'Pedro Francisco', 'apellido': 'Portella Valdivia', 'curso': 5, 'division': 'D', 'fecha de nacimiento': '24/01/2007'}\n",
            "{'nombre': 'Martina', 'apellido': 'Messina', 'curso': 5, 'division': 'C', 'fecha de nacimiento': '13/07/2005'}\n",
            "{'nombre': 'Ignacio', 'apellido': 'Merluzzi Dagum', 'curso': 5, 'division': 'D', 'fecha de nacimiento': '22/12/2005'}\n",
            "{'nombre': 'Tomas Andres', 'apellido': 'Martinez', 'curso': 5, 'division': 'D', 'fecha de nacimiento': '22/03/2007'}\n",
            "{'nombre': 'Martin Ezequiel', 'apellido': 'Marinaro', 'curso': 5, 'division': 'C', 'fecha de nacimiento': '03/11/2006'}\n",
            "{'nombre': 'Rosario Agostina', 'apellido': 'Mamani Garrido', 'curso': 5, 'division': 'C', 'fecha de nacimiento': '24/10/2006'}\n",
            "{'nombre': 'Victoria Constanza', 'apellido': 'Lopez', 'curso': 5, 'division': 'C', 'fecha de nacimiento': '12/11/2007'}\n",
            "{'nombre': 'Celia Morena', 'apellido': 'Lezcano', 'curso': 5, 'division': 'D', 'fecha de nacimiento': '01/07/2005'}\n",
            "{'nombre': 'Marcelo Fabricio', 'apellido': 'Lascano Guanca', 'curso': 5, 'division': 'D', 'fecha de nacimiento': '17/02/2006'}\n",
            "{'nombre': 'Nazarena', 'apellido': 'Lacour Polo', 'curso': 5, 'division': 'D', 'fecha de nacimiento': '19/12/2005'}\n",
            "{'nombre': 'Anita Maria Belen', 'apellido': 'Jaime', 'curso': 5, 'division': 'D', 'fecha de nacimiento': '19/04/2007'}\n",
            "{'nombre': 'Jazmin Esmeralda Belen', 'apellido': 'Guzman', 'curso': 5, 'division': 'D', 'fecha de nacimiento': '31/07/2006'}\n",
            "{'nombre': 'Angélica Morena', 'apellido': 'Guzman', 'curso': 5, 'division': 'D', 'fecha de nacimiento': '11/04/2007'}\n",
            "{'nombre': 'Sara Elizabeth', 'apellido': 'Guanca', 'curso': 5, 'division': 'C', 'fecha de nacimiento': '17/01/2007'}\n",
            "{'nombre': 'Martina Luna', 'apellido': 'Grancara', 'curso': 5, 'division': 'C', 'fecha de nacimiento': '15/12/2006'}\n",
            "{'nombre': 'Vitto Tomasso', 'apellido': 'Giangreco', 'curso': 5, 'division': 'C', 'fecha de nacimiento': '21/03/2007'}\n",
            "{'nombre': 'Lizzie Amaya', 'apellido': 'Geronimo Soriano', 'curso': 5, 'division': 'D', 'fecha de nacimiento': '20/01/2007'}\n",
            "{'nombre': 'Lourdes Yamila', 'apellido': 'Galvan', 'curso': 5, 'division': 'C', 'fecha de nacimiento': '19/08/2005'}\n",
            "{'nombre': 'Octavio Ismael', 'apellido': 'Gallo', 'curso': 5, 'division': 'D', 'fecha de nacimiento': '04/08/2006'}\n",
            "{'nombre': 'Agustina Tiara', 'apellido': 'Flores Cardozo', 'curso': 5, 'division': 'C', 'fecha de nacimiento': '18/03/2006'}\n",
            "{'nombre': 'Victoria Agustina', 'apellido': 'Flores', 'curso': 5, 'division': 'D', 'fecha de nacimiento': '12/12/2006'}\n",
            "{'nombre': 'Santino Josue', 'apellido': 'Figueroa', 'curso': 5, 'division': 'C', 'fecha de nacimiento': '12/05/2007'}\n",
            "{'nombre': 'Dulce Maitena', 'apellido': 'Diaz', 'curso': 5, 'division': 'C', 'fecha de nacimiento': '11/12/2006'}\n",
            "{'nombre': 'Alvaro Tadeo', 'apellido': 'D Elia', 'curso': 5, 'division': 'D', 'fecha de nacimiento': '27/08/2006'}\n",
            "{'nombre': 'Hugo Mariano', 'apellido': 'Correa Segovia', 'curso': 5, 'division': 'D', 'fecha de nacimiento': '04/12/2006'}\n",
            "{'nombre': 'Ariana Zoe Del Valle', 'apellido': 'Colque Rivero', 'curso': 5, 'division': 'C', 'fecha de nacimiento': '27/12/2006'}\n",
            "{'nombre': 'Paulina Milagros', 'apellido': 'Castillo', 'curso': 5, 'division': 'D', 'fecha de nacimiento': '01/06/2007'}\n",
            "{'nombre': 'Maria Antonia', 'apellido': 'Caseres', 'curso': 5, 'division': 'D', 'fecha de nacimiento': '01/07/2006'}\n",
            "{'nombre': 'Salvador', 'apellido': 'Bracamonte Martinez', 'curso': 5, 'division': 'C', 'fecha de nacimiento': '02/11/2005'}\n",
            "{'nombre': 'Valentino', 'apellido': 'Bettinelli', 'curso': 5, 'division': 'C', 'fecha de nacimiento': '12/07/2006'}\n",
            "{'nombre': 'Joaquin Nicolas', 'apellido': 'Barrozo Vedia', 'curso': 5, 'division': 'C', 'fecha de nacimiento': '15/04/2006'}\n",
            "{'nombre': 'Matias Ezequiel', 'apellido': 'Barrera', 'curso': 5, 'division': 'C', 'fecha de nacimiento': '27/02/2007'}\n",
            "{'nombre': 'Agostina Abril', 'apellido': 'Argañaraz', 'curso': 5, 'division': 'C', 'fecha de nacimiento': '11/10/2006'}\n",
            "{'nombre': 'Lucas Gabriel', 'apellido': 'Arenas', 'curso': 5, 'division': 'D', 'fecha de nacimiento': '26/06/2007'}\n",
            "{'nombre': 'Lautaro Nahuel', 'apellido': 'Araoz Sanchez', 'curso': 5, 'division': 'C', 'fecha de nacimiento': '28/12/2005'}\n",
            "{'nombre': 'Camila Juliana', 'apellido': 'Angel', 'curso': 5, 'division': 'D', 'fecha de nacimiento': '07/03/2007'}\n",
            "{'nombre': 'Leonardo Ezequiel', 'apellido': 'Anaquin', 'curso': 5, 'division': 'C', 'fecha de nacimiento': '06/09/2005'}\n",
            "{'nombre': 'Luana Micaela', 'apellido': 'Amador', 'curso': 5, 'division': 'C', 'fecha de nacimiento': '09/12/2006'}\n",
            "{'nombre': 'Ludmila Del Milagro', 'apellido': 'Alvarado', 'curso': 5, 'division': 'D', 'fecha de nacimiento': '06/09/2006'}\n",
            "{'nombre': 'Solange Stefania', 'apellido': 'Alurralde', 'curso': 5, 'division': 'D', 'fecha de nacimiento': '02/04/2007'}\n",
            "{'nombre': 'Lourdes Mariel', 'apellido': 'Abud Laspiur', 'curso': 5, 'division': 'C', 'fecha de nacimiento': '05/12/2006'}\n"
          ]
        }
      ]
    },
    {
      "cell_type": "markdown",
      "source": [],
      "metadata": {
        "id": "NvgEVeMap3AQ"
      }
    },
    {
      "cell_type": "markdown",
      "source": [
        "10. Ordena la lista por fecha de nacimiento, de manera ascendente y descendente."
      ],
      "metadata": {
        "id": "E24lH7x5Xbur"
      }
    },
    {
      "cell_type": "code",
      "source": [
        "opcion = input(\"Elija la forma de ordenar la lista  segun la fecha de nacimiento [a] Ascendente [d] Descendente:  \")\n",
        "if opcion == \"a\":\n",
        "  estudiantes_informatica.sort(key=lambda x: x.get(\"fecha_nacimiento\", \"\"))\n",
        "  for estudiante in estudiantes_informatica:\n",
        "    print(estudiante)\n",
        "elif opcion == \"d\":\n",
        "  estudiantes_informatica.sort(key=lambda x: x.get(\"fecha_nacimiento\", \"\"), reverse=True)\n",
        "  for estudiante in estudiantes_informatica:\n",
        "    print(estudiante)\n",
        "else:\n",
        "  print(\"Opcion invalida\")"
      ],
      "metadata": {
        "id": "9SeI3GBGXims",
        "outputId": "467eedaa-d5dc-486c-d977-c88f15f64cff",
        "colab": {
          "base_uri": "https://localhost:8080/"
        }
      },
      "execution_count": 89,
      "outputs": [
        {
          "output_type": "stream",
          "name": "stdout",
          "text": [
            "Elija la forma de ordenar la lista  segun la fecha de nacimiento [a] Ascendente [d] Descendente:  d\n",
            "{'nombre': 'Santino Stefano', 'apellido': 'Zalazar', 'curso': 5, 'division': 'D', 'fecha de nacimiento': '30/09/2006'}\n",
            "{'nombre': 'Emanuel Tobias', 'apellido': 'Voltolini', 'curso': 5, 'division': 'D', 'fecha de nacimiento': '17/09/2006'}\n",
            "{'nombre': 'Katya Milena', 'apellido': 'Virgillito', 'curso': 5, 'division': 'C', 'fecha de nacimiento': '19/06/2007'}\n",
            "{'nombre': 'Mia Antonella Alondra', 'apellido': 'Vilte', 'curso': 5, 'division': 'C', 'fecha de nacimiento': '10/09/2005'}\n",
            "{'nombre': 'Irina', 'apellido': 'Villalba', 'curso': 5, 'division': 'D', 'fecha de nacimiento': '09/09/2006'}\n",
            "{'nombre': 'Martin Gabriel', 'apellido': 'Tapia', 'curso': 5, 'division': 'C', 'fecha de nacimiento': '30/05/2006'}\n",
            "{'nombre': 'Agustin Ignacio', 'apellido': 'Soto Camara', 'curso': 5, 'division': 'D', 'fecha de nacimiento': '07/11/2005'}\n",
            "{'nombre': 'Lucas Mauricio', 'apellido': 'Sierra', 'curso': 5, 'division': 'C', 'fecha de nacimiento': '03/04/2005'}\n",
            "{'nombre': 'Renato Marcelo', 'apellido': 'Scarano', 'curso': 5, 'division': 'C', 'fecha de nacimiento': '06/12/2006'}\n",
            "{'nombre': 'Matías Agustín', 'apellido': 'Sanchez Flores', 'curso': 5, 'division': 'C', 'fecha de nacimiento': '15/02/2007'}\n",
            "{'nombre': 'Mahia', 'apellido': 'Salem Barba', 'curso': 5, 'division': 'D', 'fecha de nacimiento': '14/10/2005'}\n",
            "{'nombre': 'Francisco Gabriel', 'apellido': 'Rosales', 'curso': 5, 'division': 'D', 'fecha de nacimiento': '14/11/2006'}\n",
            "{'nombre': 'Lucia Magali', 'apellido': 'Rios', 'curso': 5, 'division': 'C', 'fecha de nacimiento': '22/09/2006'}\n",
            "{'nombre': 'Zacarias Josue', 'apellido': 'Retamal Cisneros', 'curso': 5, 'division': 'D', 'fecha de nacimiento': '24/02/2007'}\n",
            "{'nombre': 'Karim', 'apellido': 'Rasuk', 'curso': 5, 'division': 'C', 'fecha de nacimiento': '13/07/2007'}\n",
            "{'nombre': 'Pedro Francisco', 'apellido': 'Portella Valdivia', 'curso': 5, 'division': 'D', 'fecha de nacimiento': '24/01/2007'}\n",
            "{'nombre': 'Martina', 'apellido': 'Messina', 'curso': 5, 'division': 'C', 'fecha de nacimiento': '13/07/2005'}\n",
            "{'nombre': 'Ignacio', 'apellido': 'Merluzzi Dagum', 'curso': 5, 'division': 'D', 'fecha de nacimiento': '22/12/2005'}\n",
            "{'nombre': 'Tomas Andres', 'apellido': 'Martinez', 'curso': 5, 'division': 'D', 'fecha de nacimiento': '22/03/2007'}\n",
            "{'nombre': 'Martin Ezequiel', 'apellido': 'Marinaro', 'curso': 5, 'division': 'C', 'fecha de nacimiento': '03/11/2006'}\n",
            "{'nombre': 'Rosario Agostina', 'apellido': 'Mamani Garrido', 'curso': 5, 'division': 'C', 'fecha de nacimiento': '24/10/2006'}\n",
            "{'nombre': 'Victoria Constanza', 'apellido': 'Lopez', 'curso': 5, 'division': 'C', 'fecha de nacimiento': '12/11/2007'}\n",
            "{'nombre': 'Celia Morena', 'apellido': 'Lezcano', 'curso': 5, 'division': 'D', 'fecha de nacimiento': '01/07/2005'}\n",
            "{'nombre': 'Marcelo Fabricio', 'apellido': 'Lascano Guanca', 'curso': 5, 'division': 'D', 'fecha de nacimiento': '17/02/2006'}\n",
            "{'nombre': 'Nazarena', 'apellido': 'Lacour Polo', 'curso': 5, 'division': 'D', 'fecha de nacimiento': '19/12/2005'}\n",
            "{'nombre': 'Anita Maria Belen', 'apellido': 'Jaime', 'curso': 5, 'division': 'D', 'fecha de nacimiento': '19/04/2007'}\n",
            "{'nombre': 'Jazmin Esmeralda Belen', 'apellido': 'Guzman', 'curso': 5, 'division': 'D', 'fecha de nacimiento': '31/07/2006'}\n",
            "{'nombre': 'Angélica Morena', 'apellido': 'Guzman', 'curso': 5, 'division': 'D', 'fecha de nacimiento': '11/04/2007'}\n",
            "{'nombre': 'Sara Elizabeth', 'apellido': 'Guanca', 'curso': 5, 'division': 'C', 'fecha de nacimiento': '17/01/2007'}\n",
            "{'nombre': 'Martina Luna', 'apellido': 'Grancara', 'curso': 5, 'division': 'C', 'fecha de nacimiento': '15/12/2006'}\n",
            "{'nombre': 'Vitto Tomasso', 'apellido': 'Giangreco', 'curso': 5, 'division': 'C', 'fecha de nacimiento': '21/03/2007'}\n",
            "{'nombre': 'Lizzie Amaya', 'apellido': 'Geronimo Soriano', 'curso': 5, 'division': 'D', 'fecha de nacimiento': '20/01/2007'}\n",
            "{'nombre': 'Lourdes Yamila', 'apellido': 'Galvan', 'curso': 5, 'division': 'C', 'fecha de nacimiento': '19/08/2005'}\n",
            "{'nombre': 'Octavio Ismael', 'apellido': 'Gallo', 'curso': 5, 'division': 'D', 'fecha de nacimiento': '04/08/2006'}\n",
            "{'nombre': 'Agustina Tiara', 'apellido': 'Flores Cardozo', 'curso': 5, 'division': 'C', 'fecha de nacimiento': '18/03/2006'}\n",
            "{'nombre': 'Victoria Agustina', 'apellido': 'Flores', 'curso': 5, 'division': 'D', 'fecha de nacimiento': '12/12/2006'}\n",
            "{'nombre': 'Santino Josue', 'apellido': 'Figueroa', 'curso': 5, 'division': 'C', 'fecha de nacimiento': '12/05/2007'}\n",
            "{'nombre': 'Dulce Maitena', 'apellido': 'Diaz', 'curso': 5, 'division': 'C', 'fecha de nacimiento': '11/12/2006'}\n",
            "{'nombre': 'Alvaro Tadeo', 'apellido': 'D Elia', 'curso': 5, 'division': 'D', 'fecha de nacimiento': '27/08/2006'}\n",
            "{'nombre': 'Hugo Mariano', 'apellido': 'Correa Segovia', 'curso': 5, 'division': 'D', 'fecha de nacimiento': '04/12/2006'}\n",
            "{'nombre': 'Ariana Zoe Del Valle', 'apellido': 'Colque Rivero', 'curso': 5, 'division': 'C', 'fecha de nacimiento': '27/12/2006'}\n",
            "{'nombre': 'Paulina Milagros', 'apellido': 'Castillo', 'curso': 5, 'division': 'D', 'fecha de nacimiento': '01/06/2007'}\n",
            "{'nombre': 'Maria Antonia', 'apellido': 'Caseres', 'curso': 5, 'division': 'D', 'fecha de nacimiento': '01/07/2006'}\n",
            "{'nombre': 'Salvador', 'apellido': 'Bracamonte Martinez', 'curso': 5, 'division': 'C', 'fecha de nacimiento': '02/11/2005'}\n",
            "{'nombre': 'Valentino', 'apellido': 'Bettinelli', 'curso': 5, 'division': 'C', 'fecha de nacimiento': '12/07/2006'}\n",
            "{'nombre': 'Joaquin Nicolas', 'apellido': 'Barrozo Vedia', 'curso': 5, 'division': 'C', 'fecha de nacimiento': '15/04/2006'}\n",
            "{'nombre': 'Matias Ezequiel', 'apellido': 'Barrera', 'curso': 5, 'division': 'C', 'fecha de nacimiento': '27/02/2007'}\n",
            "{'nombre': 'Agostina Abril', 'apellido': 'Argañaraz', 'curso': 5, 'division': 'C', 'fecha de nacimiento': '11/10/2006'}\n",
            "{'nombre': 'Lucas Gabriel', 'apellido': 'Arenas', 'curso': 5, 'division': 'D', 'fecha de nacimiento': '26/06/2007'}\n",
            "{'nombre': 'Lautaro Nahuel', 'apellido': 'Araoz Sanchez', 'curso': 5, 'division': 'C', 'fecha de nacimiento': '28/12/2005'}\n",
            "{'nombre': 'Camila Juliana', 'apellido': 'Angel', 'curso': 5, 'division': 'D', 'fecha de nacimiento': '07/03/2007'}\n",
            "{'nombre': 'Leonardo Ezequiel', 'apellido': 'Anaquin', 'curso': 5, 'division': 'C', 'fecha de nacimiento': '06/09/2005'}\n",
            "{'nombre': 'Luana Micaela', 'apellido': 'Amador', 'curso': 5, 'division': 'C', 'fecha de nacimiento': '09/12/2006'}\n",
            "{'nombre': 'Ludmila Del Milagro', 'apellido': 'Alvarado', 'curso': 5, 'division': 'D', 'fecha de nacimiento': '06/09/2006'}\n",
            "{'nombre': 'Solange Stefania', 'apellido': 'Alurralde', 'curso': 5, 'division': 'D', 'fecha de nacimiento': '02/04/2007'}\n",
            "{'nombre': 'Lourdes Mariel', 'apellido': 'Abud Laspiur', 'curso': 5, 'division': 'C', 'fecha de nacimiento': '05/12/2006'}\n"
          ]
        }
      ]
    },
    {
      "cell_type": "markdown",
      "source": [
        "11. Generar una estuctura de diccionario anidado en donde la clave sea el nombre del estudiante y el valor sea un diccionario con los datos del mismo, de la siguiente manera:\n",
        "\n",
        "\n",
        "\n",
        "\n",
        "```python\n",
        "estudiantes = {\n",
        "    \"Juan Perez\": {\n",
        "        \"año\": 2024,\n",
        "        \"división\": \"5D\",\n",
        "        \"fecha de nacimiento\": \"15/03/2006\"\n",
        "    },\n",
        "    \"Maria Gomez\": {\n",
        "        \"año\": 2024,\n",
        "        \"división\": \"5D\",\n",
        "        \"fecha de nacimiento\": \"22/07/2006\"\n",
        "    },\n",
        "    \"Carlos Lopez\": {\n",
        "        \"año\": 2024,\n",
        "        \"división\": \"5D\",\n",
        "        \"fecha de nacimiento\": \"05/10/2006\"\n",
        "    }\n",
        "}\n",
        "```\n",
        "\n",
        "\n",
        "\n",
        "\n"
      ],
      "metadata": {
        "id": "vOY6K_ydRc3Q"
      }
    },
    {
      "cell_type": "code",
      "source": [],
      "metadata": {
        "id": "9JDrd3WqRdTi"
      },
      "execution_count": null,
      "outputs": []
    }
  ]
}