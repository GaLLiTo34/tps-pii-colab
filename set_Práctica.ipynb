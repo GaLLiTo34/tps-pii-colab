{
  "nbformat": 4,
  "nbformat_minor": 0,
  "metadata": {
    "colab": {
      "provenance": [],
      "include_colab_link": true
    },
    "kernelspec": {
      "name": "python3",
      "display_name": "Python 3"
    },
    "language_info": {
      "name": "python"
    }
  },
  "cells": [
    {
      "cell_type": "markdown",
      "metadata": {
        "id": "view-in-github",
        "colab_type": "text"
      },
      "source": [
        "<a href=\"https://colab.research.google.com/github/GaLLiTo34/tps-pii-colab/blob/main/set_Pr%C3%A1ctica.ipynb\" target=\"_parent\"><img src=\"https://colab.research.google.com/assets/colab-badge.svg\" alt=\"Open In Colab\"/></a>"
      ]
    },
    {
      "cell_type": "code",
      "execution_count": null,
      "metadata": {
        "id": "8VOD-zpMJovw"
      },
      "outputs": [],
      "source": [
        "estudiantes = [\n",
        "    {'name': 'Abud Laspiur, Lourdes Mariel', 'section': 'C', 'dob': '05/12/2006'},\n",
        "    {'name': 'Amador, Luana Micaela', 'section': 'C', 'dob': '09/12/2006'},\n",
        "    {'name': 'Anaquin, Leonardo Ezequiel', 'section': 'C', 'dob': '06/09/2005'},\n",
        "    {'name': 'Araoz Sanchez, Lautaro Nahuel', 'section': 'C', 'dob': '28/12/2005'},\n",
        "    {'name': 'Argañaraz, Agostina Abril', 'section': 'C', 'dob': '11/10/2006'},\n",
        "    {'name': 'Barrera, Matias Ezequiel', 'section': 'C', 'dob': '27/02/2007'},\n",
        "    {'name': 'Barrera, Matias Ezequiel', 'section': 'C', 'dob': '27/02/2007'},  # Repetido\n",
        "    {'name': 'Barrozo Vedia, Joaquin Nicolas', 'section': 'C', 'dob': '15/04/2006'},\n",
        "    {'name': 'Bettinelli, Valentino', 'section': 'C', 'dob': '12/07/2006'},\n",
        "    {'name': 'Bracamonte Martinez, Salvador', 'section': 'C', 'dob': '02/11/2005'},\n",
        "    {'name': 'Colque Rivero, Ariana Zoe Del Valle', 'section': 'C', 'dob': '27/12/2006'},\n",
        "    {'name': 'Diaz, Dulce Maitena', 'section': 'C', 'dob': '11/12/2006'},\n",
        "    {'name': 'Figueroa, Santino Josue', 'section': 'C', 'dob': '12/05/2007'},\n",
        "    {'name': 'Figueroa, Santino Josue', 'section': 'C', 'dob': '12/05/2007'},  # Repetido\n",
        "    {'name': 'Flores Cardozo, Agustina Tiara', 'section': 'C', 'dob': '18/03/2006'},\n",
        "    {'name': 'Gallo, Octavio Ismael', 'section': 'C', 'dob': '04/08/2006'},\n",
        "    {'name': 'Galvan, Lourdes Yamila', 'section': 'C', 'dob': '19/08/2005'},\n",
        "    {'name': 'Giangreco, Vitto Tomasso', 'section': 'C', 'dob': '21/03/2007'},\n",
        "    {'name': 'Grancara, Martina Luna', 'section': 'C', 'dob': '15/12/2006'},\n",
        "    {'name': 'Guanca, Sara Elizabeth', 'section': 'C', 'dob': '17/01/2007'},\n",
        "    {'name': 'Lopez, Victoria Constanza', 'section': 'C', 'dob': '12/11/2007'},\n",
        "    {'name': 'Mamani Garrido, Rosario Agostina', 'section': 'C', 'dob': '24/10/2006'},\n",
        "    {'name': 'Marinaro, Martin Ezequiel', 'section': 'C', 'dob': '03/11/2006'},\n",
        "    {'name': 'Merluzzi Dagum, Ignacio', 'section': 'C', 'dob': '22/12/2005'},\n",
        "    {'name': 'Messina, Martina', 'section': 'C', 'dob': '13/07/2005'},\n",
        "    {'name': 'Rasuk, Karim', 'section': 'C', 'dob': '13/07/2007'},\n",
        "    {'name': 'Rasuk, Karim', 'section': 'C', 'dob': '13/07/2007'},  # Repetido\n",
        "    {'name': 'Rios, Lucia Magali', 'section': 'C', 'dob': '22/09/2006'},\n",
        "    {'name': 'Sanchez Flores, Matías Agustín', 'section': 'C', 'dob': '15/02/2007'},\n",
        "    {'name': 'Scarano, Renato Marcelo', 'section': 'C', 'dob': '06/12/2006'},\n",
        "    {'name': 'Sierra, Lucas Mauricio', 'section': 'C', 'dob': '03/04/2005'},\n",
        "    {'name': 'Tapia, Martin Gabriel', 'section': 'C', 'dob': '30/05/2006'},\n",
        "    {'name': 'Vilte, Mia Antonella Alondra', 'section': 'C', 'dob': '10/09/2005'},\n",
        "    {'name': 'Virgillito, Katya Milena', 'section': 'C', 'dob': '19/06/2007'},\n",
        "    {'name': 'Alurralde, Solange Stefania', 'section': 'D', 'dob': '02/04/2007'},\n",
        "    {'name': 'Alvarado, Ludmila Del Milagro', 'section': 'D', 'dob': '06/09/2006'},\n",
        "    {'name': 'Angel, Camila Juliana', 'section': 'D', 'dob': '07/03/2007'},\n",
        "    {'name': 'Arenas, Lucas Gabriel', 'section': 'D', 'dob': '26/06/2007'},\n",
        "    {'name': 'Caseres, Maria Antonia', 'section': 'D', 'dob': '01/07/2006'},\n",
        "    {'name': 'Castillo, Paulina Milagros', 'section': 'D', 'dob': '01/06/2007'},\n",
        "    {'name': 'Correa Segovia, Hugo Mariano', 'section': 'D', 'dob': '04/12/2006'},\n",
        "    {'name': 'Correa Segovia, Hugo Mariano', 'section': 'D', 'dob': '04/12/2006'},  # Repetido\n",
        "    {'name': 'D Elia, Alvaro Tadeo', 'section': 'D', 'dob': '27/08/2006'},\n",
        "    {'name': 'Flores, Victoria Agustina', 'section': 'D', 'dob': '12/12/2006'},\n",
        "    {'name': 'Geronimo Soriano, Lizzie Amaya', 'section': 'D', 'dob': '20/01/2007'},\n",
        "    {'name': 'Guzman, Angélica Morena', 'section': 'D', 'dob': '11/04/2007'},\n",
        "    {'name': 'Guzman, Jazmin Esmeralda Belen', 'section': 'D', 'dob': '31/07/2006'},\n",
        "    {'name': 'Jaime, Anita Maria Belen', 'section': 'D', 'dob': '19/04/2007'},\n",
        "    {'name': 'Lacour Polo, Nazarena', 'section': 'D', 'dob': '19/12/2005'},\n",
        "    {'name': 'Lascano Guanca, Marcelo Fabricio', 'section': 'D', 'dob': '17/02/2006'},\n",
        "    {'name': 'Lezcano, Celia Morena', 'section': 'D', 'dob': '01/07/2005'},\n",
        "    {'name': 'Martinez, Tomas Andres', 'section': 'D', 'dob': '22/03/2007'},\n",
        "    {'name': 'Portella Valdivia, Pedro Francisco', 'section': 'D', 'dob': '24/01/2007'},\n",
        "    {'name': 'Retamal Cisneros, Zacarias Josue', 'section': 'D', 'dob': '24/02/2007'},\n",
        "    {'name': 'Rosales, Francisco Gabriel', 'section': 'D', 'dob': '14/11/2006'},\n",
        "    {'name': 'Salem Barba, Mahia', 'section': 'D', 'dob': '14/10/2005'},\n",
        "    {'name': 'Soto Camara, Agustin Ignacio', 'section': 'D', 'dob': '07/11/2005'},\n",
        "    {'name': 'Villalba, Irina', 'section': 'D', 'dob': '09/09/2006'},\n",
        "    {'name': 'Voltolini, Emanuel Tobias', 'section': 'D', 'dob': '17/09/2006'},\n",
        "    {'name': 'Zalazar, Santino Stefano', 'section': 'D', 'dob': '30/09/2006'},\n",
        "    {'name': 'Zalazar, Santino Stefano', 'section': 'D', 'dob': '30/09/2006'}  # Repetido\n",
        "]\n"
      ]
    },
    {
      "cell_type": "code",
      "source": [
        "# Spoiler de estructura que veremos en los siguientes TPs\n",
        "import json\n",
        "for estudiante in estudiantes:\n",
        "  alumno_json = json.dumps(estudiante,indent=4,ensure_ascii=False)\n",
        "  print(alumno_json,\",\")"
      ],
      "metadata": {
        "id": "7lcHoIqemYFH"
      },
      "execution_count": null,
      "outputs": []
    },
    {
      "cell_type": "markdown",
      "source": [
        "## Dada la lista estudiantes:\n",
        "> - Hacer una celda para resolver cada punto.\n",
        "- El TP resuelto será revisado en tu repositorio, no es necesario que lo envíes, pero sí que lo pushees correctamente.\n",
        "- En la nota inicial se contempla:\n",
        "  - La incorporación de este documento a tu propio respositorio.\n",
        "  - El pusheo de los cambios realizados.\n",
        "  - La resolución de los ejercicios propuestos.\n"
      ],
      "metadata": {
        "id": "rd6Ug6v3J4uN"
      }
    },
    {
      "cell_type": "markdown",
      "source": [
        "1. Dada la lista de estudiantes, elimina los elementos repetidos de la misma, usando para ello una estructura set. El resultado final debe ser una lista, con la misma estructura de la original, pero sin datos repetidos.\n",
        "\n",
        "Para esto tener en cuenta que:\n",
        "- Los conjuntos solo pueden almacenar datos inmutables.\n",
        "- Los diccionarios son estructuras mutables.\n",
        "- dict.items() devuelve una lista de tuplas.\n",
        "- dict(tupla) genera un diccionario, donde el primer elemento de la tupla es la clave, y el segundo el valor. Ej:\n",
        "  -\n",
        "  ```python\n",
        "  dict([(\"Alberto\", 10), (\"José\", 7), (\"Dario\", 14), (\"Ana\", 8), (\"Maria\", 9), (\"Emilia\", 10)])\n",
        "\n",
        "  va a generar el siguiente diccionario:\n",
        "\n",
        "  ```python\n",
        "  {'Alberto': 10, 'José': 7, 'Dario': 14, 'Ana': 8, 'Maria': 9, 'Emilia': 10}\n",
        "  ```\n",
        "\n"
      ],
      "metadata": {
        "id": "wRLng-uURyJ3"
      }
    },
    {
      "cell_type": "code",
      "source": [
        "lista_tuplas = []\n",
        "estudiantes_sin_repetidos = []\n",
        "for estudiante in estudiantes:\n",
        "  tupla = tuple(estudiante.items())\n",
        "  lista_tuplas.append(tupla)\n",
        "conjunto_tuplas = set(lista_tuplas)\n",
        "print(conjunto_tuplas)\n",
        "for estudiante in conjunto_tuplas:\n",
        "  un_estudiante = dict(estudiante)\n",
        "  estudiantes_sin_repetidos.append(un_estudiante)\n",
        "for estudiante in estudiantes_sin_repetidos:\n",
        "  print(estudiante)"
      ],
      "metadata": {
        "id": "KqaKGL--0DRA",
        "outputId": "573bc22c-9b8e-4dd8-dd0a-037d6cf7f572",
        "colab": {
          "base_uri": "https://localhost:8080/"
        }
      },
      "execution_count": 4,
      "outputs": [
        {
          "output_type": "stream",
          "name": "stdout",
          "text": [
            "{(('name', 'Merluzzi Dagum, Ignacio'), ('section', 'C'), ('dob', '22/12/2005')), (('name', 'Zalazar, Santino Stefano'), ('section', 'D'), ('dob', '30/09/2006')), (('name', 'Arenas, Lucas Gabriel'), ('section', 'D'), ('dob', '26/06/2007')), (('name', 'Abud Laspiur, Lourdes Mariel'), ('section', 'C'), ('dob', '05/12/2006')), (('name', 'Retamal Cisneros, Zacarias Josue'), ('section', 'D'), ('dob', '24/02/2007')), (('name', 'Sanchez Flores, Matías Agustín'), ('section', 'C'), ('dob', '15/02/2007')), (('name', 'Alurralde, Solange Stefania'), ('section', 'D'), ('dob', '02/04/2007')), (('name', 'Anaquin, Leonardo Ezequiel'), ('section', 'C'), ('dob', '06/09/2005')), (('name', 'Messina, Martina'), ('section', 'C'), ('dob', '13/07/2005')), (('name', 'Lezcano, Celia Morena'), ('section', 'D'), ('dob', '01/07/2005')), (('name', 'Araoz Sanchez, Lautaro Nahuel'), ('section', 'C'), ('dob', '28/12/2005')), (('name', 'Giangreco, Vitto Tomasso'), ('section', 'C'), ('dob', '21/03/2007')), (('name', 'Virgillito, Katya Milena'), ('section', 'C'), ('dob', '19/06/2007')), (('name', 'Argañaraz, Agostina Abril'), ('section', 'C'), ('dob', '11/10/2006')), (('name', 'Portella Valdivia, Pedro Francisco'), ('section', 'D'), ('dob', '24/01/2007')), (('name', 'Tapia, Martin Gabriel'), ('section', 'C'), ('dob', '30/05/2006')), (('name', 'Diaz, Dulce Maitena'), ('section', 'C'), ('dob', '11/12/2006')), (('name', 'Voltolini, Emanuel Tobias'), ('section', 'D'), ('dob', '17/09/2006')), (('name', 'Mamani Garrido, Rosario Agostina'), ('section', 'C'), ('dob', '24/10/2006')), (('name', 'Bracamonte Martinez, Salvador'), ('section', 'C'), ('dob', '02/11/2005')), (('name', 'Galvan, Lourdes Yamila'), ('section', 'C'), ('dob', '19/08/2005')), (('name', 'Flores Cardozo, Agustina Tiara'), ('section', 'C'), ('dob', '18/03/2006')), (('name', 'Lopez, Victoria Constanza'), ('section', 'C'), ('dob', '12/11/2007')), (('name', 'Rasuk, Karim'), ('section', 'C'), ('dob', '13/07/2007')), (('name', 'Salem Barba, Mahia'), ('section', 'D'), ('dob', '14/10/2005')), (('name', 'Scarano, Renato Marcelo'), ('section', 'C'), ('dob', '06/12/2006')), (('name', 'Vilte, Mia Antonella Alondra'), ('section', 'C'), ('dob', '10/09/2005')), (('name', 'Villalba, Irina'), ('section', 'D'), ('dob', '09/09/2006')), (('name', 'Barrozo Vedia, Joaquin Nicolas'), ('section', 'C'), ('dob', '15/04/2006')), (('name', 'Colque Rivero, Ariana Zoe Del Valle'), ('section', 'C'), ('dob', '27/12/2006')), (('name', 'Gallo, Octavio Ismael'), ('section', 'C'), ('dob', '04/08/2006')), (('name', 'Alvarado, Ludmila Del Milagro'), ('section', 'D'), ('dob', '06/09/2006')), (('name', 'Caseres, Maria Antonia'), ('section', 'D'), ('dob', '01/07/2006')), (('name', 'Martinez, Tomas Andres'), ('section', 'D'), ('dob', '22/03/2007')), (('name', 'Grancara, Martina Luna'), ('section', 'C'), ('dob', '15/12/2006')), (('name', 'Castillo, Paulina Milagros'), ('section', 'D'), ('dob', '01/06/2007')), (('name', 'Correa Segovia, Hugo Mariano'), ('section', 'D'), ('dob', '04/12/2006')), (('name', 'Lacour Polo, Nazarena'), ('section', 'D'), ('dob', '19/12/2005')), (('name', 'Jaime, Anita Maria Belen'), ('section', 'D'), ('dob', '19/04/2007')), (('name', 'Barrera, Matias Ezequiel'), ('section', 'C'), ('dob', '27/02/2007')), (('name', 'Bettinelli, Valentino'), ('section', 'C'), ('dob', '12/07/2006')), (('name', 'Guanca, Sara Elizabeth'), ('section', 'C'), ('dob', '17/01/2007')), (('name', 'Geronimo Soriano, Lizzie Amaya'), ('section', 'D'), ('dob', '20/01/2007')), (('name', 'Guzman, Jazmin Esmeralda Belen'), ('section', 'D'), ('dob', '31/07/2006')), (('name', 'Angel, Camila Juliana'), ('section', 'D'), ('dob', '07/03/2007')), (('name', 'Guzman, Angélica Morena'), ('section', 'D'), ('dob', '11/04/2007')), (('name', 'Sierra, Lucas Mauricio'), ('section', 'C'), ('dob', '03/04/2005')), (('name', 'Lascano Guanca, Marcelo Fabricio'), ('section', 'D'), ('dob', '17/02/2006')), (('name', 'Figueroa, Santino Josue'), ('section', 'C'), ('dob', '12/05/2007')), (('name', 'Rosales, Francisco Gabriel'), ('section', 'D'), ('dob', '14/11/2006')), (('name', 'Flores, Victoria Agustina'), ('section', 'D'), ('dob', '12/12/2006')), (('name', 'Marinaro, Martin Ezequiel'), ('section', 'C'), ('dob', '03/11/2006')), (('name', 'Soto Camara, Agustin Ignacio'), ('section', 'D'), ('dob', '07/11/2005')), (('name', 'Amador, Luana Micaela'), ('section', 'C'), ('dob', '09/12/2006')), (('name', 'D Elia, Alvaro Tadeo'), ('section', 'D'), ('dob', '27/08/2006')), (('name', 'Rios, Lucia Magali'), ('section', 'C'), ('dob', '22/09/2006'))}\n",
            "{'name': 'Merluzzi Dagum, Ignacio', 'section': 'C', 'dob': '22/12/2005'}\n",
            "{'name': 'Zalazar, Santino Stefano', 'section': 'D', 'dob': '30/09/2006'}\n",
            "{'name': 'Arenas, Lucas Gabriel', 'section': 'D', 'dob': '26/06/2007'}\n",
            "{'name': 'Abud Laspiur, Lourdes Mariel', 'section': 'C', 'dob': '05/12/2006'}\n",
            "{'name': 'Retamal Cisneros, Zacarias Josue', 'section': 'D', 'dob': '24/02/2007'}\n",
            "{'name': 'Sanchez Flores, Matías Agustín', 'section': 'C', 'dob': '15/02/2007'}\n",
            "{'name': 'Alurralde, Solange Stefania', 'section': 'D', 'dob': '02/04/2007'}\n",
            "{'name': 'Anaquin, Leonardo Ezequiel', 'section': 'C', 'dob': '06/09/2005'}\n",
            "{'name': 'Messina, Martina', 'section': 'C', 'dob': '13/07/2005'}\n",
            "{'name': 'Lezcano, Celia Morena', 'section': 'D', 'dob': '01/07/2005'}\n",
            "{'name': 'Araoz Sanchez, Lautaro Nahuel', 'section': 'C', 'dob': '28/12/2005'}\n",
            "{'name': 'Giangreco, Vitto Tomasso', 'section': 'C', 'dob': '21/03/2007'}\n",
            "{'name': 'Virgillito, Katya Milena', 'section': 'C', 'dob': '19/06/2007'}\n",
            "{'name': 'Argañaraz, Agostina Abril', 'section': 'C', 'dob': '11/10/2006'}\n",
            "{'name': 'Portella Valdivia, Pedro Francisco', 'section': 'D', 'dob': '24/01/2007'}\n",
            "{'name': 'Tapia, Martin Gabriel', 'section': 'C', 'dob': '30/05/2006'}\n",
            "{'name': 'Diaz, Dulce Maitena', 'section': 'C', 'dob': '11/12/2006'}\n",
            "{'name': 'Voltolini, Emanuel Tobias', 'section': 'D', 'dob': '17/09/2006'}\n",
            "{'name': 'Mamani Garrido, Rosario Agostina', 'section': 'C', 'dob': '24/10/2006'}\n",
            "{'name': 'Bracamonte Martinez, Salvador', 'section': 'C', 'dob': '02/11/2005'}\n",
            "{'name': 'Galvan, Lourdes Yamila', 'section': 'C', 'dob': '19/08/2005'}\n",
            "{'name': 'Flores Cardozo, Agustina Tiara', 'section': 'C', 'dob': '18/03/2006'}\n",
            "{'name': 'Lopez, Victoria Constanza', 'section': 'C', 'dob': '12/11/2007'}\n",
            "{'name': 'Rasuk, Karim', 'section': 'C', 'dob': '13/07/2007'}\n",
            "{'name': 'Salem Barba, Mahia', 'section': 'D', 'dob': '14/10/2005'}\n",
            "{'name': 'Scarano, Renato Marcelo', 'section': 'C', 'dob': '06/12/2006'}\n",
            "{'name': 'Vilte, Mia Antonella Alondra', 'section': 'C', 'dob': '10/09/2005'}\n",
            "{'name': 'Villalba, Irina', 'section': 'D', 'dob': '09/09/2006'}\n",
            "{'name': 'Barrozo Vedia, Joaquin Nicolas', 'section': 'C', 'dob': '15/04/2006'}\n",
            "{'name': 'Colque Rivero, Ariana Zoe Del Valle', 'section': 'C', 'dob': '27/12/2006'}\n",
            "{'name': 'Gallo, Octavio Ismael', 'section': 'C', 'dob': '04/08/2006'}\n",
            "{'name': 'Alvarado, Ludmila Del Milagro', 'section': 'D', 'dob': '06/09/2006'}\n",
            "{'name': 'Caseres, Maria Antonia', 'section': 'D', 'dob': '01/07/2006'}\n",
            "{'name': 'Martinez, Tomas Andres', 'section': 'D', 'dob': '22/03/2007'}\n",
            "{'name': 'Grancara, Martina Luna', 'section': 'C', 'dob': '15/12/2006'}\n",
            "{'name': 'Castillo, Paulina Milagros', 'section': 'D', 'dob': '01/06/2007'}\n",
            "{'name': 'Correa Segovia, Hugo Mariano', 'section': 'D', 'dob': '04/12/2006'}\n",
            "{'name': 'Lacour Polo, Nazarena', 'section': 'D', 'dob': '19/12/2005'}\n",
            "{'name': 'Jaime, Anita Maria Belen', 'section': 'D', 'dob': '19/04/2007'}\n",
            "{'name': 'Barrera, Matias Ezequiel', 'section': 'C', 'dob': '27/02/2007'}\n",
            "{'name': 'Bettinelli, Valentino', 'section': 'C', 'dob': '12/07/2006'}\n",
            "{'name': 'Guanca, Sara Elizabeth', 'section': 'C', 'dob': '17/01/2007'}\n",
            "{'name': 'Geronimo Soriano, Lizzie Amaya', 'section': 'D', 'dob': '20/01/2007'}\n",
            "{'name': 'Guzman, Jazmin Esmeralda Belen', 'section': 'D', 'dob': '31/07/2006'}\n",
            "{'name': 'Angel, Camila Juliana', 'section': 'D', 'dob': '07/03/2007'}\n",
            "{'name': 'Guzman, Angélica Morena', 'section': 'D', 'dob': '11/04/2007'}\n",
            "{'name': 'Sierra, Lucas Mauricio', 'section': 'C', 'dob': '03/04/2005'}\n",
            "{'name': 'Lascano Guanca, Marcelo Fabricio', 'section': 'D', 'dob': '17/02/2006'}\n",
            "{'name': 'Figueroa, Santino Josue', 'section': 'C', 'dob': '12/05/2007'}\n",
            "{'name': 'Rosales, Francisco Gabriel', 'section': 'D', 'dob': '14/11/2006'}\n",
            "{'name': 'Flores, Victoria Agustina', 'section': 'D', 'dob': '12/12/2006'}\n",
            "{'name': 'Marinaro, Martin Ezequiel', 'section': 'C', 'dob': '03/11/2006'}\n",
            "{'name': 'Soto Camara, Agustin Ignacio', 'section': 'D', 'dob': '07/11/2005'}\n",
            "{'name': 'Amador, Luana Micaela', 'section': 'C', 'dob': '09/12/2006'}\n",
            "{'name': 'D Elia, Alvaro Tadeo', 'section': 'D', 'dob': '27/08/2006'}\n",
            "{'name': 'Rios, Lucia Magali', 'section': 'C', 'dob': '22/09/2006'}\n"
          ]
        }
      ]
    },
    {
      "cell_type": "code",
      "source": [],
      "metadata": {
        "id": "wKYHCb_4AKYH"
      },
      "execution_count": null,
      "outputs": []
    },
    {
      "cell_type": "markdown",
      "source": [
        "2. Crea un conjunto de nombres y otro de apellidos para 5C y  para 5D.\n",
        "- Muestra los conjuntos generados\n",
        "\n",
        "> recordá que los conjuntos solo pueden almacenar datos inmutables"
      ],
      "metadata": {
        "id": "dYEGkYZyLy9I"
      }
    },
    {
      "cell_type": "code",
      "source": [
        "nombres_5c = set()\n",
        "apellidos_5c = set()\n",
        "nombres_5d = set()\n",
        "apellidos_5d = set()\n",
        "for estudiante in estudiantes:\n",
        "  nombre_completo = estudiante[\"name\"]\n",
        "  apellido,nombre = nombre_completo.split(\",\")\n",
        "  apellidos = apellido.split(\" \")\n",
        "  nombres = nombre.strip().split(\" \")\n",
        "  if estudiante[\"section\"] == \"C\":\n",
        "    for nombre in nombres:\n",
        "      nombres_5c.add(nombre)\n",
        "    for apellido in apellidos:\n",
        "      apellidos_5c.add(apellido)\n",
        "  else:\n",
        "    for nombre in nombres:\n",
        "      nombres_5d.add(nombre)\n",
        "    for apellido in apellidos:\n",
        "      apellidos_5d.add(apellido)\n",
        "print(f\"{nombres_5c= }\")\n",
        "print(f\"{apellidos_5c= }\")\n",
        "print(f\"{nombres_5d= }\")\n",
        "print(f\"{apellidos_5d= }\")"
      ],
      "metadata": {
        "id": "5hVrzFPgxs_E",
        "outputId": "ec319a59-b1ea-46a0-bd2a-78a111d8073d",
        "colab": {
          "base_uri": "https://localhost:8080/"
        }
      },
      "execution_count": 5,
      "outputs": [
        {
          "output_type": "stream",
          "name": "stdout",
          "text": [
            "nombres_5c= {'Micaela', 'Maitena', 'Agustina', 'Josue', 'Agustín', 'Alondra', 'Antonella', 'Nahuel', 'Sara', 'Dulce', 'Valle', 'Lucia', 'Lucas', 'Luna', 'Mariel', 'Valentino', 'Martin', 'Karim', 'Vitto', 'Abril', 'Marcelo', 'Ignacio', 'Ezequiel', 'Salvador', 'Tiara', 'Ismael', 'Elizabeth', 'Magali', 'Matías', 'Leonardo', 'Mia', 'Mauricio', 'Joaquin', 'Del', 'Victoria', 'Rosario', 'Ariana', 'Agostina', 'Luana', 'Matias', 'Martina', 'Santino', 'Lourdes', 'Constanza', 'Katya', 'Renato', 'Yamila', 'Gabriel', 'Tomasso', 'Lautaro', 'Zoe', 'Nicolas', 'Milena', 'Octavio'}\n",
            "apellidos_5c= {'Araoz', 'Merluzzi', 'Lopez', 'Vilte', 'Barrera', 'Galvan', 'Sanchez', 'Mamani', 'Virgillito', 'Diaz', 'Colque', 'Figueroa', 'Dagum', 'Grancara', 'Flores', 'Abud', 'Tapia', 'Amador', 'Garrido', 'Messina', 'Martinez', 'Sierra', 'Cardozo', 'Bettinelli', 'Scarano', 'Giangreco', 'Rivero', 'Anaquin', 'Gallo', 'Marinaro', 'Bracamonte', 'Barrozo', 'Vedia', 'Argañaraz', 'Guanca', 'Rasuk', 'Laspiur', 'Rios'}\n",
            "nombres_5d= {'Agustina', 'Josue', 'Juliana', 'Alvaro', 'Francisco', 'Zacarias', 'Irina', 'Lucas', 'Milagros', 'Nazarena', 'Agustin', 'Antonia', 'Solange', 'Andres', 'Celia', 'Tomas', 'Maria', 'Mariano', 'Camila', 'Belen', 'Milagro', 'Jazmin', 'Marcelo', 'Stefania', 'Anita', 'Paulina', 'Ignacio', 'Esmeralda', 'Lizzie', 'Ludmila', 'Emanuel', 'Del', 'Victoria', 'Amaya', 'Santino', 'Mahia', 'Tobias', 'Hugo', 'Gabriel', 'Pedro', 'Stefano', 'Fabricio', 'Angélica', 'Morena', 'Tadeo'}\n",
            "apellidos_5d= {'Jaime', 'Alurralde', 'Lascano', 'Correa', 'Lacour', 'Guzman', 'Soriano', 'Rosales', 'Camara', 'Alvarado', 'Flores', 'Geronimo', 'D', 'Cisneros', 'Elia', 'Martinez', 'Castillo', 'Polo', 'Segovia', 'Barba', 'Villalba', 'Lezcano', 'Soto', 'Voltolini', 'Arenas', 'Caseres', 'Guanca', 'Portella', 'Angel', 'Zalazar', 'Retamal', 'Salem', 'Valdivia'}\n"
          ]
        }
      ]
    },
    {
      "cell_type": "markdown",
      "source": [
        "3. Muestra cuantos nombres únicos hay en cada curso."
      ],
      "metadata": {
        "id": "UW2dlBsGMAte"
      }
    },
    {
      "cell_type": "code",
      "source": [
        "lista_nombres_c = []\n",
        "for estudiante in estudiantes_sin_repetidos:\n",
        "  if estudiante[\"section\"] == \"C\":\n",
        "    nombre_completo = estudiante[\"name\"]\n",
        "    apellido, nombre = nombre_completo.split(\",\")\n",
        "    nombres = nombre.split(\" \")\n",
        "    for nombre in nombres:\n",
        "     lista_nombres_c.append(nombre)\n",
        "ocurrencias = {}\n",
        "for nombre in lista_nombres_c:\n",
        "  if nombre in ocurrencias:\n",
        "   ocurrencias[nombre] += 1\n",
        "  else:\n",
        "   ocurrencias[nombre] = 1\n",
        "for nombre,ocurrencias in ocurrencias.items():\n",
        "  if ocurrencias == 1:\n",
        "   print({nombre})"
      ],
      "metadata": {
        "id": "dfk6hqbY1dc6",
        "outputId": "f539eccf-337d-4012-e6f8-5544508e7dd0",
        "colab": {
          "base_uri": "https://localhost:8080/"
        }
      },
      "execution_count": 10,
      "outputs": [
        {
          "output_type": "stream",
          "name": "stdout",
          "text": [
            "{'Ignacio'}\n",
            "{'Mariel'}\n",
            "{'Matías'}\n",
            "{'Agustín'}\n",
            "{'Leonardo'}\n",
            "{'Lautaro'}\n",
            "{'Nahuel'}\n",
            "{'Vitto'}\n",
            "{'Tomasso'}\n",
            "{'Katya'}\n",
            "{'Milena'}\n",
            "{'Abril'}\n",
            "{'Gabriel'}\n",
            "{'Dulce'}\n",
            "{'Maitena'}\n",
            "{'Rosario'}\n",
            "{'Salvador'}\n",
            "{'Yamila'}\n",
            "{'Agustina'}\n",
            "{'Tiara'}\n",
            "{'Victoria'}\n",
            "{'Constanza'}\n",
            "{'Karim'}\n",
            "{'Renato'}\n",
            "{'Marcelo'}\n",
            "{'Mia'}\n",
            "{'Antonella'}\n",
            "{'Alondra'}\n",
            "{'Joaquin'}\n",
            "{'Nicolas'}\n",
            "{'Ariana'}\n",
            "{'Zoe'}\n",
            "{'Del'}\n",
            "{'Valle'}\n",
            "{'Octavio'}\n",
            "{'Ismael'}\n",
            "{'Luna'}\n",
            "{'Matias'}\n",
            "{'Valentino'}\n",
            "{'Sara'}\n",
            "{'Elizabeth'}\n",
            "{'Lucas'}\n",
            "{'Mauricio'}\n",
            "{'Santino'}\n",
            "{'Josue'}\n",
            "{'Luana'}\n",
            "{'Micaela'}\n",
            "{'Lucia'}\n",
            "{'Magali'}\n"
          ]
        }
      ]
    },
    {
      "cell_type": "code",
      "source": [
        "lista_nombres_d = []\n",
        "for estudiante in estudiantes_sin_repetidos:\n",
        "  if estudiante[\"section\"] == \"D\":\n",
        "    nombre_completo = estudiante[\"name\"]\n",
        "    apellido, nombre = nombre_completo.split(\",\")\n",
        "    nombres = nombre.split(\" \")\n",
        "    for nombre in nombres:\n",
        "      lista_nombres_d.append(nombre)\n",
        "ocurrencias= {}\n",
        "for nombre in lista_nombres_d:\n",
        "  if nombre in ocurrencias:\n",
        "   ocurrencias[nombre] += 1\n",
        "  else:\n",
        "   ocurrencias[nombre] = 1\n",
        "for nombre,ocurrencias in ocurrencias.items():\n",
        "  if ocurrencias == 1:\n",
        "   print({nombre})"
      ],
      "metadata": {
        "id": "OB_sWtwQ2H0o",
        "outputId": "db4587dd-6505-4854-ccd5-775d5fc7fd06",
        "colab": {
          "base_uri": "https://localhost:8080/"
        }
      },
      "execution_count": 9,
      "outputs": [
        {
          "output_type": "stream",
          "name": "stdout",
          "text": [
            "{'Santino'}\n",
            "{'Stefano'}\n",
            "{'Lucas'}\n",
            "{'Zacarias'}\n",
            "{'Josue'}\n",
            "{'Solange'}\n",
            "{'Stefania'}\n",
            "{'Celia'}\n",
            "{'Pedro'}\n",
            "{'Emanuel'}\n",
            "{'Tobias'}\n",
            "{'Mahia'}\n",
            "{'Irina'}\n",
            "{'Ludmila'}\n",
            "{'Del'}\n",
            "{'Milagro'}\n",
            "{'Antonia'}\n",
            "{'Tomas'}\n",
            "{'Andres'}\n",
            "{'Paulina'}\n",
            "{'Milagros'}\n",
            "{'Hugo'}\n",
            "{'Mariano'}\n",
            "{'Nazarena'}\n",
            "{'Anita'}\n",
            "{'Lizzie'}\n",
            "{'Amaya'}\n",
            "{'Jazmin'}\n",
            "{'Esmeralda'}\n",
            "{'Camila'}\n",
            "{'Juliana'}\n",
            "{'Angélica'}\n",
            "{'Marcelo'}\n",
            "{'Fabricio'}\n",
            "{'Victoria'}\n",
            "{'Agustina'}\n",
            "{'Agustin'}\n",
            "{'Ignacio'}\n",
            "{'Alvaro'}\n",
            "{'Tadeo'}\n"
          ]
        }
      ]
    },
    {
      "cell_type": "markdown",
      "source": [
        "4. Muestra cuantos apellidos únicos hay en cada curso."
      ],
      "metadata": {
        "id": "kZeEHUYVNwGV"
      }
    },
    {
      "cell_type": "code",
      "source": [
        "lista_apellidos_c = []\n",
        "for estudiante in estudiantes_sin_repetidos:\n",
        "  if estudiante[\"section\"] == \"C\":\n",
        "    nombre_completo = estudiante[\"name\"]\n",
        "    apellido, nombre = nombre_completo.split(\",\")\n",
        "    apellidos = apellido.split(\" \")\n",
        "    for apellido in apellidos:\n",
        "      lista_apellidos_c.append(apellido)\n",
        "ocurrencias = {}\n",
        "for apellido in lista_apellidos_c:\n",
        "  if apellido in ocurrencias:\n",
        "   ocurrencias[apellido] += 1\n",
        "  else:\n",
        "   ocurrencias[apellido] = 1\n",
        "for apellido,ocurrencias in ocurrencias.items():\n",
        "  if ocurrencias == 1:\n",
        "   print({apellido})"
      ],
      "metadata": {
        "id": "q05GnxXgORzt",
        "outputId": "3b10486c-6412-47ec-f633-f6c130d485a1",
        "colab": {
          "base_uri": "https://localhost:8080/"
        }
      },
      "execution_count": 11,
      "outputs": [
        {
          "output_type": "stream",
          "name": "stdout",
          "text": [
            "{'Merluzzi'}\n",
            "{'Dagum'}\n",
            "{'Abud'}\n",
            "{'Laspiur'}\n",
            "{'Anaquin'}\n",
            "{'Messina'}\n",
            "{'Araoz'}\n",
            "{'Giangreco'}\n",
            "{'Virgillito'}\n",
            "{'Argañaraz'}\n",
            "{'Tapia'}\n",
            "{'Diaz'}\n",
            "{'Mamani'}\n",
            "{'Garrido'}\n",
            "{'Bracamonte'}\n",
            "{'Martinez'}\n",
            "{'Galvan'}\n",
            "{'Cardozo'}\n",
            "{'Lopez'}\n",
            "{'Rasuk'}\n",
            "{'Scarano'}\n",
            "{'Vilte'}\n",
            "{'Barrozo'}\n",
            "{'Vedia'}\n",
            "{'Colque'}\n",
            "{'Rivero'}\n",
            "{'Gallo'}\n",
            "{'Grancara'}\n",
            "{'Barrera'}\n",
            "{'Bettinelli'}\n",
            "{'Guanca'}\n",
            "{'Sierra'}\n",
            "{'Figueroa'}\n",
            "{'Marinaro'}\n",
            "{'Amador'}\n",
            "{'Rios'}\n"
          ]
        }
      ]
    },
    {
      "cell_type": "code",
      "source": [
        "lista_apellidos_d = []\n",
        "for estudiante in estudiantes_sin_repetidos:\n",
        "  if estudiante[\"section\"] == \"D\":\n",
        "    nombre_completo = estudiante[\"name\"]\n",
        "    apellido, nombre = nombre_completo.split(\",\")\n",
        "    apellidos = apellido.split(\" \")\n",
        "    for apellido in apellidos:\n",
        "      lista_apellidos_d.append(apellido)\n",
        "ocurrencias = {}\n",
        "for apellido in lista_apellidos_d:\n",
        "  if apellido in ocurrencias:\n",
        "   ocurrencias[apellido] += 1\n",
        "  else:\n",
        "   ocurrencias[apellido] = 1\n",
        "for apellido,ocurrencias in ocurrencias.items():\n",
        "  if ocurrencias == 1:\n",
        "   print({apellido})"
      ],
      "metadata": {
        "id": "Wt801k6n3PFU",
        "outputId": "dca105d7-b8f1-4dd1-c71f-ade5ca6dd81c",
        "colab": {
          "base_uri": "https://localhost:8080/"
        }
      },
      "execution_count": 12,
      "outputs": [
        {
          "output_type": "stream",
          "name": "stdout",
          "text": [
            "{'Zalazar'}\n",
            "{'Arenas'}\n",
            "{'Retamal'}\n",
            "{'Cisneros'}\n",
            "{'Alurralde'}\n",
            "{'Lezcano'}\n",
            "{'Portella'}\n",
            "{'Valdivia'}\n",
            "{'Voltolini'}\n",
            "{'Salem'}\n",
            "{'Barba'}\n",
            "{'Villalba'}\n",
            "{'Alvarado'}\n",
            "{'Caseres'}\n",
            "{'Martinez'}\n",
            "{'Castillo'}\n",
            "{'Correa'}\n",
            "{'Segovia'}\n",
            "{'Lacour'}\n",
            "{'Polo'}\n",
            "{'Jaime'}\n",
            "{'Geronimo'}\n",
            "{'Soriano'}\n",
            "{'Angel'}\n",
            "{'Lascano'}\n",
            "{'Guanca'}\n",
            "{'Rosales'}\n",
            "{'Flores'}\n",
            "{'Soto'}\n",
            "{'Camara'}\n",
            "{'D'}\n",
            "{'Elia'}\n"
          ]
        }
      ]
    },
    {
      "cell_type": "markdown",
      "source": [
        "5. Mostrá los nombres que se aparecen em ambos cursos"
      ],
      "metadata": {
        "id": "ywYmA2JQNp3T"
      }
    },
    {
      "cell_type": "code",
      "source": [
        "nombres_ambos_cursos = nombres_5c.intersection(nombres_5d)\n",
        "print(f\" Los nombres que aparencen en ambos cursos son: {nombres_ambos_cursos}\")\n"
      ],
      "metadata": {
        "id": "Cnp334ZrOCjK",
        "outputId": "b33c85d2-6b28-4151-efce-c709193df525",
        "colab": {
          "base_uri": "https://localhost:8080/"
        }
      },
      "execution_count": 15,
      "outputs": [
        {
          "output_type": "stream",
          "name": "stdout",
          "text": [
            " Los nombres que aparencen en ambos cursos son: {'Ignacio', 'Agustina', 'Josue', 'Gabriel', 'Victoria', 'Del', 'Lucas', 'Marcelo', 'Santino'}\n"
          ]
        }
      ]
    },
    {
      "cell_type": "markdown",
      "source": [
        "6. Mostrá los apellidos que se aparecen en ambos cursos"
      ],
      "metadata": {
        "id": "iAXts6saODoU"
      }
    },
    {
      "cell_type": "code",
      "source": [
        "apellido_ambos_cursos = apellidos_5c.intersection(apellidos_5d)\n",
        "print(f\" Los nombres que aparencen en ambos cursos son: {apellido_ambos_cursos}\")\n"
      ],
      "metadata": {
        "id": "FMRsUlvtOJS_",
        "outputId": "f2a9acee-fd69-4b68-e475-f54c55caa05c",
        "colab": {
          "base_uri": "https://localhost:8080/"
        }
      },
      "execution_count": 17,
      "outputs": [
        {
          "output_type": "stream",
          "name": "stdout",
          "text": [
            " Los nombres que aparencen en ambos cursos son: {'Martinez', 'Flores', 'Guanca'}\n"
          ]
        }
      ]
    },
    {
      "cell_type": "markdown",
      "source": [
        "7. Mostrá los nombres de los estudiantes de 5C que no existen en 5D y viceversa."
      ],
      "metadata": {
        "id": "T4PFiwwdOK27"
      }
    },
    {
      "cell_type": "code",
      "source": [
        "nombres_5c_no_en_5d = nombres_5c.difference(nombres_5d)\n",
        "nombres_5d_no_en_5c = nombres_5d.difference(nombres_5c)\n",
        "print(f\"Los nombres de los estudiantes de 5C que no existen en 5D son: {nombres_5c_no_en_5d}\")\n",
        "print(f\"Los nombres de los estudiantes de 5D que no existen en 5C son: {nombres_5d_no_en_5c}\")\n"
      ],
      "metadata": {
        "id": "vjQ2X9x3OmFr",
        "outputId": "b5d6a845-cb8e-46e1-fe23-3e969e03dee3",
        "colab": {
          "base_uri": "https://localhost:8080/"
        }
      },
      "execution_count": 18,
      "outputs": [
        {
          "output_type": "stream",
          "name": "stdout",
          "text": [
            "Los nombres de los estudiantes de 5C que no existen en 5D son: {'Micaela', 'Maitena', 'Agustín', 'Alondra', 'Antonella', 'Nahuel', 'Sara', 'Dulce', 'Lucia', 'Valle', 'Luna', 'Mariel', 'Valentino', 'Martin', 'Karim', 'Vitto', 'Abril', 'Ezequiel', 'Salvador', 'Tiara', 'Ismael', 'Elizabeth', 'Magali', 'Matías', 'Leonardo', 'Mia', 'Mauricio', 'Joaquin', 'Rosario', 'Ariana', 'Agostina', 'Luana', 'Matias', 'Martina', 'Lourdes', 'Constanza', 'Katya', 'Renato', 'Yamila', 'Tomasso', 'Lautaro', 'Zoe', 'Nicolas', 'Milena', 'Octavio'}\n",
            "Los nombres de los estudiantes de 5D que no existen en 5C son: {'Juliana', 'Alvaro', 'Francisco', 'Zacarias', 'Irina', 'Milagros', 'Nazarena', 'Agustin', 'Antonia', 'Solange', 'Andres', 'Celia', 'Tomas', 'Maria', 'Mariano', 'Camila', 'Belen', 'Milagro', 'Jazmin', 'Stefania', 'Anita', 'Paulina', 'Esmeralda', 'Lizzie', 'Ludmila', 'Emanuel', 'Amaya', 'Mahia', 'Tobias', 'Hugo', 'Pedro', 'Stefano', 'Fabricio', 'Angélica', 'Morena', 'Tadeo'}\n"
          ]
        }
      ]
    },
    {
      "cell_type": "markdown",
      "source": [
        "8. Mostrá los apellidos de los estudiantes de 5C que no existen en 5D y viceversa.\n"
      ],
      "metadata": {
        "id": "xfy8SFlZRVGf"
      }
    },
    {
      "cell_type": "code",
      "source": [
        "apellidos_5c_no_en_5d = apellidos_5c.difference(apellidos_5d)\n",
        "apellidos_5d_no_en_5c = apellidos_5d.difference(apellidos_5c)\n",
        "print(f\"Los apellidos de los estudiantes de 5C que no existen en 5D son: {apellidos_5c_no_en_5d}\")\n",
        "print(f\"Los apellidos de los estudiantes de 5D que no existen en 5C son: {apellidos_5d_no_en_5c}\")"
      ],
      "metadata": {
        "id": "E4Onk1FNRUa2",
        "outputId": "e59919f8-3dd8-4354-b7da-03375d395a75",
        "colab": {
          "base_uri": "https://localhost:8080/"
        }
      },
      "execution_count": 20,
      "outputs": [
        {
          "output_type": "stream",
          "name": "stdout",
          "text": [
            "Los apellidos de los estudiantes de 5C que no existen en 5D son: {'Araoz', 'Merluzzi', 'Lopez', 'Vilte', 'Barrera', 'Galvan', 'Mamani', 'Sanchez', 'Virgillito', 'Diaz', 'Colque', 'Figueroa', 'Dagum', 'Grancara', 'Abud', 'Tapia', 'Amador', 'Garrido', 'Messina', 'Sierra', 'Cardozo', 'Bettinelli', 'Scarano', 'Giangreco', 'Rivero', 'Anaquin', 'Gallo', 'Marinaro', 'Bracamonte', 'Barrozo', 'Vedia', 'Argañaraz', 'Rasuk', 'Laspiur', 'Rios'}\n",
            "Los apellidos de los estudiantes de 5D que no existen en 5C son: {'Jaime', 'Alurralde', 'Lascano', 'Correa', 'Lacour', 'Soriano', 'Guzman', 'Rosales', 'Camara', 'Alvarado', 'Salem', 'Geronimo', 'D', 'Cisneros', 'Elia', 'Castillo', 'Polo', 'Segovia', 'Barba', 'Villalba', 'Lezcano', 'Soto', 'Arenas', 'Caseres', 'Portella', 'Angel', 'Zalazar', 'Retamal', 'Voltolini', 'Valdivia'}\n"
          ]
        }
      ]
    },
    {
      "cell_type": "markdown",
      "source": [
        "9. Mostrá todos los nombres, menos aquellos que existen en ambos cursos.\n"
      ],
      "metadata": {
        "id": "lW18NgPjRcGP"
      }
    },
    {
      "cell_type": "code",
      "source": [
        "nombres_informatica = nombres_5c.union(nombres_5d)\n",
        "nombres_iguales = nombres_5c.intersection(nombres_5d)\n",
        "nombres_finales = nombres_informatica.difference(nombres_iguales)\n",
        "print(f\"Todos los nombres, menos aquellos que existen en ambos cursos son: {nombres_finales}\")\n"
      ],
      "metadata": {
        "id": "jTtWBnalRcoC",
        "outputId": "dbb73571-8420-4037-bd72-fae33f47cdc1",
        "colab": {
          "base_uri": "https://localhost:8080/"
        }
      },
      "execution_count": 21,
      "outputs": [
        {
          "output_type": "stream",
          "name": "stdout",
          "text": [
            "Todos los nombres, menos aquellos que existen en ambos cursos son: {'Agustín', 'Sara', 'Juliana', 'Zacarias', 'Luna', 'Mariel', 'Milagros', 'Nazarena', 'Andres', 'Celia', 'Maria', 'Mariano', 'Milagro', 'Abril', 'Stefania', 'Ezequiel', 'Paulina', 'Elizabeth', 'Matías', 'Mia', 'Mauricio', 'Emanuel', 'Joaquin', 'Rosario', 'Agostina', 'Luana', 'Amaya', 'Constanza', 'Katya', 'Renato', 'Yamila', 'Hugo', 'Lautaro', 'Milena', 'Micaela', 'Maitena', 'Alondra', 'Antonella', 'Nahuel', 'Alvaro', 'Dulce', 'Francisco', 'Valle', 'Lucia', 'Irina', 'Agustin', 'Antonia', 'Solange', 'Valentino', 'Martin', 'Tomas', 'Karim', 'Vitto', 'Camila', 'Belen', 'Jazmin', 'Anita', 'Salvador', 'Tiara', 'Esmeralda', 'Ismael', 'Magali', 'Lizzie', 'Leonardo', 'Ludmila', 'Ariana', 'Martina', 'Matias', 'Lourdes', 'Mahia', 'Tobias', 'Pedro', 'Tomasso', 'Zoe', 'Nicolas', 'Stefano', 'Fabricio', 'Octavio', 'Angélica', 'Morena', 'Tadeo'}\n"
          ]
        }
      ]
    },
    {
      "cell_type": "markdown",
      "source": [
        "10. elimina tu nombre del conjunto al que pertenece"
      ],
      "metadata": {
        "id": "E24lH7x5Xbur"
      }
    },
    {
      "cell_type": "code",
      "source": [
        "\n",
        "nombre = input(\"Ingrese su nombre: \").title()\n",
        "if nombre in nombres_5c:\n",
        "  nombres_5c.remove(nombre)\n",
        "  print(f\"Se eliminó el nombre '{nombre}' del conjunto de nombres de 5C.\")\n",
        "elif nombre in nombres_5d:\n",
        "  nombres_5d.remove(nombre)\n",
        "  print(f\"Se eliminó  el nombre '{nombre}' del conjunto de nombres de 5D.\")\n",
        "else:\n",
        "  print(f\"El nombre '{nombre}' no se encontró en ningún conjunto.\")\n",
        "\n",
        "print(f\"{nombres_5c= }\")\n",
        "print(f\"{nombres_5d= }\")\n"
      ],
      "metadata": {
        "id": "9SeI3GBGXims"
      },
      "execution_count": null,
      "outputs": []
    },
    {
      "cell_type": "markdown",
      "source": [
        "11. Solicita al usuario un nombre y un apellido y agregalos a los correspondientes conjuntos de tu curso.\n",
        "\n",
        "\n",
        "\n"
      ],
      "metadata": {
        "id": "vOY6K_ydRc3Q"
      }
    },
    {
      "cell_type": "code",
      "source": [
        "nombre_nuevo = input(\"Ingrese un nombre: \").title()\n",
        "apellido_nuevo = input(\"Ingrese un apellido: \").title()\n",
        "\n",
        "curso = input(\"Ingrese su curso (C o D): \").upper()\n",
        "\n",
        "if curso == \"C\":\n",
        "  nombres_5c.add(nombre_nuevo)\n",
        "  apellidos_5c.add(apellido_nuevo)\n",
        "elif curso == \"D\":\n",
        "  nombres_5d.add(nombre_nuevo)\n",
        "  apellidos_5d.add(apellido_nuevo)\n",
        "else:\n",
        "  print(\"Curso inválido. Ingrese C o D.\")\n",
        "\n",
        "print(f\"Nombres 5C: {nombres_5c}\")\n",
        "print(f\"Apellidos 5C: {apellidos_5c}\")\n",
        "print(f\"Nombres 5D: {nombres_5d}\")\n",
        "print(f\"Apellidos 5D: {apellidos_5d}\")\n"
      ],
      "metadata": {
        "id": "9JDrd3WqRdTi",
        "outputId": "38a0c423-cb11-46bc-f016-bb57ba1439da",
        "colab": {
          "base_uri": "https://localhost:8080/"
        }
      },
      "execution_count": 32,
      "outputs": [
        {
          "output_type": "stream",
          "name": "stdout",
          "text": [
            "Ingrese un nombre: Pablo\n",
            "Ingrese un apellido: ESCobar\n",
            "Ingrese su curso (C o D): c\n",
            "Nombres 5C: {'Micaela', 'Maitena', 'Agustina', 'Josue', 'Agustín', 'Alondra', 'Antonella', 'Nahuel', 'Sara', 'Pablo', 'Dulce', 'Valle', 'Lucia', 'Lucas', 'Luna', 'Mariel', 'Valentino', 'Martin', 'Karim', 'Vitto', 'Abril', 'Marcelo', 'Ignacio', 'Ezequiel', 'Salvador', 'Tiara', 'Ismael', 'Elizabeth', 'Magali', 'Matías', 'Leonardo', 'Mia', 'Mauricio', 'Joaquin', 'Del', 'Victoria', 'Rosario', 'Ariana', 'Agostina', 'Luana', 'Matias', 'Martina', 'Santino', 'Lourdes', 'Constanza', 'Katya', 'Renato', 'Yamila', 'Gabriel', 'Tomasso', 'Lautaro', 'Zoe', 'Nicolas', 'Milena', <built-in method title of str object at 0x7899051b46b0>}\n",
            "Apellidos 5C: {'Araoz', 'Merluzzi', 'Lopez', 'Vilte', 'Barrera', 'Galvan', 'Sanchez', 'Mamani', 'Virgillito', 'Diaz', 'Colque', 'Figueroa', 'Dagum', 'Grancara', 'Flores', 'Abud', 'Tapia', 'Amador', 'Garrido', 'Messina', 'Martinez', 'Sierra', 'Cardozo', 'Bettinelli', 'Scarano', 'Giangreco', 'Rivero', <built-in method title of str object at 0x789905129470>, 'Anaquin', 'Gallo', 'Marinaro', 'Bracamonte', 'Barrozo', 'Vedia', 'Argañaraz', 'Guanca', 'Rasuk', 'Escobar', 'Laspiur', 'Rios'}\n",
            "Nombres 5D: {'Agustina', 'Josue', 'Juliana', 'Alvaro', 'Francisco', 'Zacarias', 'Irina', 'Lucas', 'Milagros', 'Nazarena', 'Agustin', 'Antonia', 'Solange', 'Andres', 'Celia', 'Tomas', 'Maria', 'Mariano', 'Camila', 'Belen', 'Milagro', 'Jazmin', 'Marcelo', 'Stefania', 'Anita', 'Paulina', 'Ignacio', 'Esmeralda', 'Lizzie', 'Ludmila', 'Emanuel', 'Del', 'Victoria', 'Amaya', 'Santino', 'Mahia', 'Tobias', 'Hugo', 'Gabriel', 'Pedro', 'Stefano', 'Fabricio', 'Angélica', 'Morena', 'Tadeo'}\n",
            "Apellidos 5D: {'Jaime', 'Alurralde', 'Lascano', 'Correa', 'Lacour', 'Guzman', 'Soriano', 'Rosales', 'Camara', 'Alvarado', 'Flores', 'Geronimo', 'D', 'Cisneros', 'Elia', 'Martinez', 'Castillo', 'Polo', 'Segovia', 'Barba', 'Villalba', 'Lezcano', 'Soto', 'Voltolini', 'Arenas', 'Caseres', 'Guanca', 'Portella', 'Angel', 'Zalazar', 'Retamal', 'Salem', 'Valdivia'}\n"
          ]
        }
      ]
    },
    {
      "cell_type": "markdown",
      "source": [
        "12. Solicita un nombre y verifica si este existe en el diccionario"
      ],
      "metadata": {
        "id": "hs1vGDrX2wHq"
      }
    },
    {
      "cell_type": "code",
      "source": [
        "nombre_buscado = input(\"Ingrese un nombre para buscar: \").title()\n",
        "encontrado = False\n",
        "for estudiante in estudiantes:\n",
        "  nombre_completo = estudiante[\"name\"]\n",
        "  apellido, nombre = nombre_completo.split(\",\")\n",
        "  nombres = nombre.strip().split(\" \")\n",
        "  if nombre_buscado in nombres:\n",
        "    encontrado = True\n",
        "    break\n",
        "if encontrado:\n",
        "  print(f\"El nombre {nombre_buscado} existe en el diccionario.\")\n",
        "else:\n",
        "  print(f\"El nombre {nombre_buscado} no existe en el diccionario.\")\n"
      ],
      "metadata": {
        "id": "4bbRCYWt2vDO",
        "outputId": "6222eb61-d46e-4367-9199-379eebb0b8cb",
        "colab": {
          "base_uri": "https://localhost:8080/"
        }
      },
      "execution_count": 33,
      "outputs": [
        {
          "output_type": "stream",
          "name": "stdout",
          "text": [
            "Ingrese un nombre para buscar: ocTavio\n",
            "El nombre Octavio existe en el diccionario.\n"
          ]
        }
      ]
    }
  ]
}