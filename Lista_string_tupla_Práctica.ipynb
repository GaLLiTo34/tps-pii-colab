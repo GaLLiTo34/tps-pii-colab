{
  "nbformat": 4,
  "nbformat_minor": 0,
  "metadata": {
    "colab": {
      "provenance": [],
      "include_colab_link": true
    },
    "kernelspec": {
      "name": "python3",
      "display_name": "Python 3"
    },
    "language_info": {
      "name": "python"
    }
  },
  "cells": [
    {
      "cell_type": "markdown",
      "metadata": {
        "id": "view-in-github",
        "colab_type": "text"
      },
      "source": [
        "<a href=\"https://colab.research.google.com/github/GaLLiTo34/tps-pii-colab/blob/main/Lista_string_tupla_Pr%C3%A1ctica.ipynb\" target=\"_parent\"><img src=\"https://colab.research.google.com/assets/colab-badge.svg\" alt=\"Open In Colab\"/></a>"
      ]
    },
    {
      "cell_type": "code",
      "execution_count": 24,
      "metadata": {
        "id": "8VOD-zpMJovw"
      },
      "outputs": [],
      "source": [
        "# Lista de alumnos\n",
        "alumnos = [\n",
        "    \"Alurralde, Solange Stefania\",\n",
        "    \"Alvarado, Ludmila Del Milagro\",\n",
        "    \"Angel, Camila Juliana\",\n",
        "    \"Arenas, Lucas Gabriel\",\n",
        "    \"Caseres, Maria Antonia\",\n",
        "    \"Castillo, Paulina Milagros\",\n",
        "    \"Correa Segovia, Hugo Mariano\",\n",
        "    \"D Elia, Alvaro Tadeo\",\n",
        "    \"Flores, Victoria Agustina\",\n",
        "    \"Geronimo Soriano, Lizzie Amaya\",\n",
        "    \"GUZMAN, ANGÉLICA MORENA\",\n",
        "    \"Guzman, Jazmin Esmeralda Belen\",\n",
        "    \"Jaime, Anita Maria Belen\",\n",
        "    \"Lacour Polo, Nazarena\",\n",
        "    \"Lascano Guanca, Marcelo Fabricio\",\n",
        "    \"Lezcano, Celia Morena\",\n",
        "    \"Mamani Kynast, Nicolas Mauricio\",\n",
        "    \"Martinez, Tomas Andres\",\n",
        "    \"PORTELLA VALDIVIA, PEDRO FRANCISCO\",\n",
        "    \"Retamal Cisneros, Zacarias Josue\",\n",
        "    \"Rosales, Francisco Gabriel\",\n",
        "    \"Salem Barba, Mahia\",\n",
        "    \"Soto Camara, Agustin Ignacio\",\n",
        "    \"Villalba, Irina\",\n",
        "    \"Voltolini, Emanuel Tobias\",\n",
        "    \"Zalazar, Santino Stefano\",\n",
        "    \"ABUD LASPIUR, LOURDES MARIEL\",\n",
        "    \"Amador, Luana Micaela\",\n",
        "    \"Anaquin, Leonardo Ezequiel\",\n",
        "    \"Araoz Sanchez, Lautaro Nahuel\",\n",
        "    \"Argañaraz, Agostina Abril\",\n",
        "    \"Barrera, Matias Ezequiel\",\n",
        "    \"Barrozo Vedia, Joaquin Nicolas\",\n",
        "    \"Bettinelli, Valentino\",\n",
        "    \"Bracamonte Martinez, Salvador\",\n",
        "    \"Colque Rivero, Ariana Zoe Del Valle\",\n",
        "    \"Diaz, Dulce Maitena\",\n",
        "    \"FIGUEROA, SANTINO JOSUE\",\n",
        "    \"Flores Cardozo, Agustina Tiara\",\n",
        "    \"Gallo, Octavio Ismael\",\n",
        "    \"Galvan, Lourdes Yamila\",\n",
        "    \"Giangreco, Vitto Tomasso\",\n",
        "    \"Grancara, Martina Luna\",\n",
        "    \"Guanca, Sara Elizabeth\",\n",
        "    \"Lopez, Victoria Constanza\",\n",
        "    \"Mamani Garrido, Rosario Agostina\",\n",
        "    \"Marinaro, Martin Ezequiel\",\n",
        "    \"Merluzzi Dagum, Ignacio\",\n",
        "    \"Messina, Martina\",\n",
        "    \"RASUK, KARIM\", \"Rios, Lucia Magali\",\n",
        "    \"Sanchez Flores, Matías Agustín\",\n",
        "    \"Scarano, Renato Marcelo\",\n",
        "    \"Sierra, Lucas Mauricio\",\n",
        "    \"Tapia, Martin Gabriel\",\n",
        "    \"Vilte, Mia Antonella Alondra\",\n",
        "    \"Virgillito, Katya Milena\"\n",
        "]"
      ]
    },
    {
      "cell_type": "markdown",
      "source": [
        "## Dada la lista estudiantes:\n",
        "> - Hacer una celda para resolver cada punto.\n",
        "- El TP resuelto será revisado en tu repositorio, no es necesario que lo envíes, pero sí que lo pushees correctamente.\n",
        "- En la nota inicial se contempla:\n",
        "  - La creación del fork.\n",
        "  - El pusheo de los cambios realizados.\n",
        "  - La resolución de los ejercicios propuestos.\n"
      ],
      "metadata": {
        "id": "rd6Ug6v3J4uN"
      }
    },
    {
      "cell_type": "markdown",
      "source": [
        "1. Reemplaza todos los valores por los que obtengas del método title(). De esta manera tu lista quedara con los datos más homogéneos."
      ],
      "metadata": {
        "id": "wRLng-uURyJ3"
      }
    },
    {
      "cell_type": "code",
      "source": [
        "for alumno in alumnos:\n",
        "  if alumno.istitle() == False:\n",
        "    alumno = alumno.title()\n",
        "  print(alumno)"
      ],
      "metadata": {
        "id": "8_-pTJ7UmqPY",
        "colab": {
          "base_uri": "https://localhost:8080/"
        },
        "outputId": "a5c9994d-6f41-45a2-ae17-ff89d9fa0124"
      },
      "execution_count": 25,
      "outputs": [
        {
          "output_type": "stream",
          "name": "stdout",
          "text": [
            "Alurralde, Solange Stefania\n",
            "Alvarado, Ludmila Del Milagro\n",
            "Angel, Camila Juliana\n",
            "Arenas, Lucas Gabriel\n",
            "Caseres, Maria Antonia\n",
            "Castillo, Paulina Milagros\n",
            "Correa Segovia, Hugo Mariano\n",
            "D Elia, Alvaro Tadeo\n",
            "Flores, Victoria Agustina\n",
            "Geronimo Soriano, Lizzie Amaya\n",
            "Guzman, Angélica Morena\n",
            "Guzman, Jazmin Esmeralda Belen\n",
            "Jaime, Anita Maria Belen\n",
            "Lacour Polo, Nazarena\n",
            "Lascano Guanca, Marcelo Fabricio\n",
            "Lezcano, Celia Morena\n",
            "Mamani Kynast, Nicolas Mauricio\n",
            "Martinez, Tomas Andres\n",
            "Portella Valdivia, Pedro Francisco\n",
            "Retamal Cisneros, Zacarias Josue\n",
            "Rosales, Francisco Gabriel\n",
            "Salem Barba, Mahia\n",
            "Soto Camara, Agustin Ignacio\n",
            "Villalba, Irina\n",
            "Voltolini, Emanuel Tobias\n",
            "Zalazar, Santino Stefano\n",
            "Abud Laspiur, Lourdes Mariel\n",
            "Amador, Luana Micaela\n",
            "Anaquin, Leonardo Ezequiel\n",
            "Araoz Sanchez, Lautaro Nahuel\n",
            "Argañaraz, Agostina Abril\n",
            "Barrera, Matias Ezequiel\n",
            "Barrozo Vedia, Joaquin Nicolas\n",
            "Bettinelli, Valentino\n",
            "Bracamonte Martinez, Salvador\n",
            "Colque Rivero, Ariana Zoe Del Valle\n",
            "Diaz, Dulce Maitena\n",
            "Figueroa, Santino Josue\n",
            "Flores Cardozo, Agustina Tiara\n",
            "Gallo, Octavio Ismael\n",
            "Galvan, Lourdes Yamila\n",
            "Giangreco, Vitto Tomasso\n",
            "Grancara, Martina Luna\n",
            "Guanca, Sara Elizabeth\n",
            "Lopez, Victoria Constanza\n",
            "Mamani Garrido, Rosario Agostina\n",
            "Marinaro, Martin Ezequiel\n",
            "Merluzzi Dagum, Ignacio\n",
            "Messina, Martina\n",
            "Rasuk, Karim\n",
            "Rios, Lucia Magali\n",
            "Sanchez Flores, Matías Agustín\n",
            "Scarano, Renato Marcelo\n",
            "Sierra, Lucas Mauricio\n",
            "Tapia, Martin Gabriel\n",
            "Vilte, Mia Antonella Alondra\n",
            "Virgillito, Katya Milena\n"
          ]
        }
      ]
    },
    {
      "cell_type": "code",
      "source": [
        "for i in range(len(alumnos)):\n",
        "   if alumnos[i].istitle() == False:\n",
        "      alumnos[i] = alumnos[i].title()\n",
        "print(alumnos)"
      ],
      "metadata": {
        "colab": {
          "base_uri": "https://localhost:8080/"
        },
        "id": "Sck0b4Ls461t",
        "outputId": "4b3737d3-66a9-48a0-859d-4cee7b3b2ece"
      },
      "execution_count": 26,
      "outputs": [
        {
          "output_type": "stream",
          "name": "stdout",
          "text": [
            "['Alurralde, Solange Stefania', 'Alvarado, Ludmila Del Milagro', 'Angel, Camila Juliana', 'Arenas, Lucas Gabriel', 'Caseres, Maria Antonia', 'Castillo, Paulina Milagros', 'Correa Segovia, Hugo Mariano', 'D Elia, Alvaro Tadeo', 'Flores, Victoria Agustina', 'Geronimo Soriano, Lizzie Amaya', 'Guzman, Angélica Morena', 'Guzman, Jazmin Esmeralda Belen', 'Jaime, Anita Maria Belen', 'Lacour Polo, Nazarena', 'Lascano Guanca, Marcelo Fabricio', 'Lezcano, Celia Morena', 'Mamani Kynast, Nicolas Mauricio', 'Martinez, Tomas Andres', 'Portella Valdivia, Pedro Francisco', 'Retamal Cisneros, Zacarias Josue', 'Rosales, Francisco Gabriel', 'Salem Barba, Mahia', 'Soto Camara, Agustin Ignacio', 'Villalba, Irina', 'Voltolini, Emanuel Tobias', 'Zalazar, Santino Stefano', 'Abud Laspiur, Lourdes Mariel', 'Amador, Luana Micaela', 'Anaquin, Leonardo Ezequiel', 'Araoz Sanchez, Lautaro Nahuel', 'Argañaraz, Agostina Abril', 'Barrera, Matias Ezequiel', 'Barrozo Vedia, Joaquin Nicolas', 'Bettinelli, Valentino', 'Bracamonte Martinez, Salvador', 'Colque Rivero, Ariana Zoe Del Valle', 'Diaz, Dulce Maitena', 'Figueroa, Santino Josue', 'Flores Cardozo, Agustina Tiara', 'Gallo, Octavio Ismael', 'Galvan, Lourdes Yamila', 'Giangreco, Vitto Tomasso', 'Grancara, Martina Luna', 'Guanca, Sara Elizabeth', 'Lopez, Victoria Constanza', 'Mamani Garrido, Rosario Agostina', 'Marinaro, Martin Ezequiel', 'Merluzzi Dagum, Ignacio', 'Messina, Martina', 'Rasuk, Karim', 'Rios, Lucia Magali', 'Sanchez Flores, Matías Agustín', 'Scarano, Renato Marcelo', 'Sierra, Lucas Mauricio', 'Tapia, Martin Gabriel', 'Vilte, Mia Antonella Alondra', 'Virgillito, Katya Milena']\n"
          ]
        }
      ]
    },
    {
      "cell_type": "markdown",
      "source": [
        "2. Desarrolla un script que permita ingresar un nombre y muestre cuantas veces aparece este en la lista\n"
      ],
      "metadata": {
        "id": "dYEGkYZyLy9I"
      }
    },
    {
      "cell_type": "code",
      "source": [
        "nombre1 = input(\"Ingrese un nombre \").capitalize()\n",
        "contador = 0\n",
        "for alumno in alumnos:\n",
        "   if nombre1 in alumno:\n",
        "     contador += 1\n",
        "print(f\"El nombre {nombre1} aparece en la lista {contador} veces\")"
      ],
      "metadata": {
        "id": "2EzQjUqbmvTB",
        "colab": {
          "base_uri": "https://localhost:8080/"
        },
        "outputId": "173ac4ca-2782-4382-c0e7-1e63a8afaf63"
      },
      "execution_count": 4,
      "outputs": [
        {
          "output_type": "stream",
          "name": "stdout",
          "text": [
            "Ingrese un nombre octavio\n",
            "El nombre Octavio aparece en la lista 1 veces\n"
          ]
        }
      ]
    },
    {
      "cell_type": "code",
      "source": [
        "nombre1 = input(\"Ingrese un nombre: \").capitalize()\n",
        "contador = 0\n",
        "for estudiante in alumnos:\n",
        "  if nombre1 in estudiante:\n",
        "    contador += 1\n",
        "if contador == 1:\n",
        "  print(f\"El nombre {nombre1} aparece {contador} vez\")\n",
        "else:\n",
        "  print(f\"El nombre {nombre1} aparece {contador} veces\")"
      ],
      "metadata": {
        "colab": {
          "base_uri": "https://localhost:8080/"
        },
        "id": "FssRBDse4Kz1",
        "outputId": "d90c3e97-ff58-41f9-f819-57fd84d03bdc"
      },
      "execution_count": 5,
      "outputs": [
        {
          "output_type": "stream",
          "name": "stdout",
          "text": [
            "Ingrese un nombre: lourdes\n",
            "El nombre Lourdes aparece 2 veces\n"
          ]
        }
      ]
    },
    {
      "cell_type": "markdown",
      "source": [
        "3. Desarrolla un script en python que permita ingresar un nombre y mostrar en que posición de la lista se encuentra el mismo. Realiza las combinaciones necesarias para que no se genere un error si es que el nombre no existe."
      ],
      "metadata": {
        "id": "UW2dlBsGMAte"
      }
    },
    {
      "cell_type": "code",
      "source": [
        "nombre_completo = input(\"Escriba un nombre completo: \").title()\n",
        "if nombre_completo in alumnos:\n",
        "  print(f\"El nombre {nombre_completo} se encuentra en la posicion {alumnos.index(nombre_completo)}\")\n",
        "else:\n",
        "  print(f\"El nombre {nombre_completo} no existe en la lista\")\n"
      ],
      "metadata": {
        "id": "WG4Eae3PnAog",
        "colab": {
          "base_uri": "https://localhost:8080/"
        },
        "outputId": "bc229cf4-57df-4295-b29b-dfb78b9ebd2e"
      },
      "execution_count": 6,
      "outputs": [
        {
          "output_type": "stream",
          "name": "stdout",
          "text": [
            "Escriba un nombre completo: gallo, octavio ismael\n",
            "El nombre Gallo, Octavio Ismael se encuentra en la posicion 39\n"
          ]
        }
      ]
    },
    {
      "cell_type": "markdown",
      "source": [
        "4. Agrega un nombre al final de la lista, otro al principio y otro en la posición anterior a la de tu nombre en la lista. Tene en cuenta el formato usado para ingresar los datos: \"apellidos, nombres\""
      ],
      "metadata": {
        "id": "kZeEHUYVNwGV"
      }
    },
    {
      "cell_type": "code",
      "source": [
        "nombre_inicio = input(\"Ingresé un nombre para agregar  al principio de la lista: \").title()\n",
        "alumnos.insert(0,nombre_inicio)\n",
        "nombre_antes = input(\"Ingresé un nombre para agregar antes del tuyo en la lista: \").title()\n",
        "alumnos.insert(40, nombre_antes)\n",
        "nombre_final = input(\"Ingresé un nombre para agregar al final de la lista: \").title()\n",
        "alumnos.append(nombre_final)\n",
        "for alumno in alumnos:\n",
        "   print(alumno)"
      ],
      "metadata": {
        "id": "A9u8sTsKnDEx",
        "colab": {
          "base_uri": "https://localhost:8080/"
        },
        "outputId": "70eb2940-7b26-4405-dbea-d70358e36a7e"
      },
      "execution_count": 7,
      "outputs": [
        {
          "output_type": "stream",
          "name": "stdout",
          "text": [
            "Ingresé un nombre para agregar  al principio de la lista: juarez, alejandra\n",
            "Ingresé un nombre para agregar antes del tuyo en la lista: escobar, pablo\n",
            "Ingresé un nombre para agregar al final de la lista: da vinci, leonardo\n",
            "Juarez, Alejandra\n",
            "Alurralde, Solange Stefania\n",
            "Alvarado, Ludmila Del Milagro\n",
            "Angel, Camila Juliana\n",
            "Arenas, Lucas Gabriel\n",
            "Caseres, Maria Antonia\n",
            "Castillo, Paulina Milagros\n",
            "Correa Segovia, Hugo Mariano\n",
            "D Elia, Alvaro Tadeo\n",
            "Flores, Victoria Agustina\n",
            "Geronimo Soriano, Lizzie Amaya\n",
            "Guzman, Angélica Morena\n",
            "Guzman, Jazmin Esmeralda Belen\n",
            "Jaime, Anita Maria Belen\n",
            "Lacour Polo, Nazarena\n",
            "Lascano Guanca, Marcelo Fabricio\n",
            "Lezcano, Celia Morena\n",
            "Mamani Kynast, Nicolas Mauricio\n",
            "Martinez, Tomas Andres\n",
            "Portella Valdivia, Pedro Francisco\n",
            "Retamal Cisneros, Zacarias Josue\n",
            "Rosales, Francisco Gabriel\n",
            "Salem Barba, Mahia\n",
            "Soto Camara, Agustin Ignacio\n",
            "Villalba, Irina\n",
            "Voltolini, Emanuel Tobias\n",
            "Zalazar, Santino Stefano\n",
            "Abud Laspiur, Lourdes Mariel\n",
            "Amador, Luana Micaela\n",
            "Anaquin, Leonardo Ezequiel\n",
            "Araoz Sanchez, Lautaro Nahuel\n",
            "Argañaraz, Agostina Abril\n",
            "Barrera, Matias Ezequiel\n",
            "Barrozo Vedia, Joaquin Nicolas\n",
            "Bettinelli, Valentino\n",
            "Bracamonte Martinez, Salvador\n",
            "Colque Rivero, Ariana Zoe Del Valle\n",
            "Diaz, Dulce Maitena\n",
            "Figueroa, Santino Josue\n",
            "Flores Cardozo, Agustina Tiara\n",
            "Escobar, Pablo\n",
            "Gallo, Octavio Ismael\n",
            "Galvan, Lourdes Yamila\n",
            "Giangreco, Vitto Tomasso\n",
            "Grancara, Martina Luna\n",
            "Guanca, Sara Elizabeth\n",
            "Lopez, Victoria Constanza\n",
            "Mamani Garrido, Rosario Agostina\n",
            "Marinaro, Martin Ezequiel\n",
            "Merluzzi Dagum, Ignacio\n",
            "Messina, Martina\n",
            "Rasuk, Karim\n",
            "Rios, Lucia Magali\n",
            "Sanchez Flores, Matías Agustín\n",
            "Scarano, Renato Marcelo\n",
            "Sierra, Lucas Mauricio\n",
            "Tapia, Martin Gabriel\n",
            "Vilte, Mia Antonella Alondra\n",
            "Virgillito, Katya Milena\n",
            "Da Vinci, Leonardo\n"
          ]
        }
      ]
    },
    {
      "cell_type": "markdown",
      "source": [
        "5. Mostrá cada elemento de la lista mientras la vacias usando el metodo pop(). Para lograr esto usá la estructura while.\n",
        "\n",
        "Tene en cuenta que:\n",
        "\n",
        "\n",
        ">```python\n",
        "bool([]) = False\n",
        "```\n",
        "\n"
      ],
      "metadata": {
        "id": "b_we1Oz4OUBN"
      }
    },
    {
      "cell_type": "code",
      "source": [
        "while alumnos :\n",
        "  alumno = alumnos.pop()\n",
        "  print(alumno)"
      ],
      "metadata": {
        "id": "bjn9DhewPhWF",
        "colab": {
          "base_uri": "https://localhost:8080/"
        },
        "outputId": "96307a56-5bce-492b-c4cb-4577b75da324"
      },
      "execution_count": 8,
      "outputs": [
        {
          "output_type": "stream",
          "name": "stdout",
          "text": [
            "Da Vinci, Leonardo\n",
            "Virgillito, Katya Milena\n",
            "Vilte, Mia Antonella Alondra\n",
            "Tapia, Martin Gabriel\n",
            "Sierra, Lucas Mauricio\n",
            "Scarano, Renato Marcelo\n",
            "Sanchez Flores, Matías Agustín\n",
            "Rios, Lucia Magali\n",
            "Rasuk, Karim\n",
            "Messina, Martina\n",
            "Merluzzi Dagum, Ignacio\n",
            "Marinaro, Martin Ezequiel\n",
            "Mamani Garrido, Rosario Agostina\n",
            "Lopez, Victoria Constanza\n",
            "Guanca, Sara Elizabeth\n",
            "Grancara, Martina Luna\n",
            "Giangreco, Vitto Tomasso\n",
            "Galvan, Lourdes Yamila\n",
            "Gallo, Octavio Ismael\n",
            "Escobar, Pablo\n",
            "Flores Cardozo, Agustina Tiara\n",
            "Figueroa, Santino Josue\n",
            "Diaz, Dulce Maitena\n",
            "Colque Rivero, Ariana Zoe Del Valle\n",
            "Bracamonte Martinez, Salvador\n",
            "Bettinelli, Valentino\n",
            "Barrozo Vedia, Joaquin Nicolas\n",
            "Barrera, Matias Ezequiel\n",
            "Argañaraz, Agostina Abril\n",
            "Araoz Sanchez, Lautaro Nahuel\n",
            "Anaquin, Leonardo Ezequiel\n",
            "Amador, Luana Micaela\n",
            "Abud Laspiur, Lourdes Mariel\n",
            "Zalazar, Santino Stefano\n",
            "Voltolini, Emanuel Tobias\n",
            "Villalba, Irina\n",
            "Soto Camara, Agustin Ignacio\n",
            "Salem Barba, Mahia\n",
            "Rosales, Francisco Gabriel\n",
            "Retamal Cisneros, Zacarias Josue\n",
            "Portella Valdivia, Pedro Francisco\n",
            "Martinez, Tomas Andres\n",
            "Mamani Kynast, Nicolas Mauricio\n",
            "Lezcano, Celia Morena\n",
            "Lascano Guanca, Marcelo Fabricio\n",
            "Lacour Polo, Nazarena\n",
            "Jaime, Anita Maria Belen\n",
            "Guzman, Jazmin Esmeralda Belen\n",
            "Guzman, Angélica Morena\n",
            "Geronimo Soriano, Lizzie Amaya\n",
            "Flores, Victoria Agustina\n",
            "D Elia, Alvaro Tadeo\n",
            "Correa Segovia, Hugo Mariano\n",
            "Castillo, Paulina Milagros\n",
            "Caseres, Maria Antonia\n",
            "Arenas, Lucas Gabriel\n",
            "Angel, Camila Juliana\n",
            "Alvarado, Ludmila Del Milagro\n",
            "Alurralde, Solange Stefania\n",
            "Juarez, Alejandra\n"
          ]
        }
      ]
    },
    {
      "cell_type": "markdown",
      "source": [
        "6. Crea un menú para ordenar la lista de manera ascendente o descendente. Realiza esta acción y muestra el resultado según la opción elegida por el usuario."
      ],
      "metadata": {
        "id": "xY4BuqGdQBF1"
      }
    },
    {
      "cell_type": "code",
      "source": [
        "opción = input(\"Elija la forma de ordenar la lista [a] Ascendente [d] Descendente:  \")\n",
        "if opción.lower() == 'a':\n",
        "   alumnos.sort()\n",
        "if opción.lower() == 'd':\n",
        "   alumnos.sort(reverse = True)\n",
        "for alumno in alumnos:\n",
        "  print(alumno)"
      ],
      "metadata": {
        "id": "NKR3ciBKSjhr",
        "colab": {
          "base_uri": "https://localhost:8080/"
        },
        "outputId": "3af553a8-f2c3-4886-cdf4-1c7b1c76da76"
      },
      "execution_count": 27,
      "outputs": [
        {
          "output_type": "stream",
          "name": "stdout",
          "text": [
            "Elija la forma de ordenar la lista [a] Ascendente [d] Descendente:  a\n",
            "Abud Laspiur, Lourdes Mariel\n",
            "Alurralde, Solange Stefania\n",
            "Alvarado, Ludmila Del Milagro\n",
            "Amador, Luana Micaela\n",
            "Anaquin, Leonardo Ezequiel\n",
            "Angel, Camila Juliana\n",
            "Araoz Sanchez, Lautaro Nahuel\n",
            "Arenas, Lucas Gabriel\n",
            "Argañaraz, Agostina Abril\n",
            "Barrera, Matias Ezequiel\n",
            "Barrozo Vedia, Joaquin Nicolas\n",
            "Bettinelli, Valentino\n",
            "Bracamonte Martinez, Salvador\n",
            "Caseres, Maria Antonia\n",
            "Castillo, Paulina Milagros\n",
            "Colque Rivero, Ariana Zoe Del Valle\n",
            "Correa Segovia, Hugo Mariano\n",
            "D Elia, Alvaro Tadeo\n",
            "Diaz, Dulce Maitena\n",
            "Figueroa, Santino Josue\n",
            "Flores Cardozo, Agustina Tiara\n",
            "Flores, Victoria Agustina\n",
            "Gallo, Octavio Ismael\n",
            "Galvan, Lourdes Yamila\n",
            "Geronimo Soriano, Lizzie Amaya\n",
            "Giangreco, Vitto Tomasso\n",
            "Grancara, Martina Luna\n",
            "Guanca, Sara Elizabeth\n",
            "Guzman, Angélica Morena\n",
            "Guzman, Jazmin Esmeralda Belen\n",
            "Jaime, Anita Maria Belen\n",
            "Lacour Polo, Nazarena\n",
            "Lascano Guanca, Marcelo Fabricio\n",
            "Lezcano, Celia Morena\n",
            "Lopez, Victoria Constanza\n",
            "Mamani Garrido, Rosario Agostina\n",
            "Mamani Kynast, Nicolas Mauricio\n",
            "Marinaro, Martin Ezequiel\n",
            "Martinez, Tomas Andres\n",
            "Merluzzi Dagum, Ignacio\n",
            "Messina, Martina\n",
            "Portella Valdivia, Pedro Francisco\n",
            "Rasuk, Karim\n",
            "Retamal Cisneros, Zacarias Josue\n",
            "Rios, Lucia Magali\n",
            "Rosales, Francisco Gabriel\n",
            "Salem Barba, Mahia\n",
            "Sanchez Flores, Matías Agustín\n",
            "Scarano, Renato Marcelo\n",
            "Sierra, Lucas Mauricio\n",
            "Soto Camara, Agustin Ignacio\n",
            "Tapia, Martin Gabriel\n",
            "Villalba, Irina\n",
            "Vilte, Mia Antonella Alondra\n",
            "Virgillito, Katya Milena\n",
            "Voltolini, Emanuel Tobias\n",
            "Zalazar, Santino Stefano\n"
          ]
        }
      ]
    },
    {
      "cell_type": "markdown",
      "source": [
        "7. - Crea, a partir de la lista estudiantes, una nueva lista tupla_estudiantes que contenga los nombres en formato de tuplas, donde el primer elemento sea el apellido y el segundo el nombre.\n",
        "  - Muestra cada tupla de la nueva lista.\n"
      ],
      "metadata": {
        "id": "7wb4sRbOSkdM"
      }
    },
    {
      "cell_type": "code",
      "source": [
        "tupla_estudiantes = []\n",
        "for alumno in alumnos:\n",
        "   apellido , nombre = alumno.split(\",\")\n",
        "   nombre = nombre.strip()\n",
        "   tupla_estudiantes.append((apellido, nombre))\n",
        "for estudiante in tupla_estudiantes:\n",
        "   print(estudiante)"
      ],
      "metadata": {
        "id": "f9v0mfoZS9_s",
        "colab": {
          "base_uri": "https://localhost:8080/"
        },
        "outputId": "37ecc5d6-e727-4744-a1f4-a79fe3bf4e93"
      },
      "execution_count": 28,
      "outputs": [
        {
          "output_type": "stream",
          "name": "stdout",
          "text": [
            "('Abud Laspiur', 'Lourdes Mariel')\n",
            "('Alurralde', 'Solange Stefania')\n",
            "('Alvarado', 'Ludmila Del Milagro')\n",
            "('Amador', 'Luana Micaela')\n",
            "('Anaquin', 'Leonardo Ezequiel')\n",
            "('Angel', 'Camila Juliana')\n",
            "('Araoz Sanchez', 'Lautaro Nahuel')\n",
            "('Arenas', 'Lucas Gabriel')\n",
            "('Argañaraz', 'Agostina Abril')\n",
            "('Barrera', 'Matias Ezequiel')\n",
            "('Barrozo Vedia', 'Joaquin Nicolas')\n",
            "('Bettinelli', 'Valentino')\n",
            "('Bracamonte Martinez', 'Salvador')\n",
            "('Caseres', 'Maria Antonia')\n",
            "('Castillo', 'Paulina Milagros')\n",
            "('Colque Rivero', 'Ariana Zoe Del Valle')\n",
            "('Correa Segovia', 'Hugo Mariano')\n",
            "('D Elia', 'Alvaro Tadeo')\n",
            "('Diaz', 'Dulce Maitena')\n",
            "('Figueroa', 'Santino Josue')\n",
            "('Flores Cardozo', 'Agustina Tiara')\n",
            "('Flores', 'Victoria Agustina')\n",
            "('Gallo', 'Octavio Ismael')\n",
            "('Galvan', 'Lourdes Yamila')\n",
            "('Geronimo Soriano', 'Lizzie Amaya')\n",
            "('Giangreco', 'Vitto Tomasso')\n",
            "('Grancara', 'Martina Luna')\n",
            "('Guanca', 'Sara Elizabeth')\n",
            "('Guzman', 'Angélica Morena')\n",
            "('Guzman', 'Jazmin Esmeralda Belen')\n",
            "('Jaime', 'Anita Maria Belen')\n",
            "('Lacour Polo', 'Nazarena')\n",
            "('Lascano Guanca', 'Marcelo Fabricio')\n",
            "('Lezcano', 'Celia Morena')\n",
            "('Lopez', 'Victoria Constanza')\n",
            "('Mamani Garrido', 'Rosario Agostina')\n",
            "('Mamani Kynast', 'Nicolas Mauricio')\n",
            "('Marinaro', 'Martin Ezequiel')\n",
            "('Martinez', 'Tomas Andres')\n",
            "('Merluzzi Dagum', 'Ignacio')\n",
            "('Messina', 'Martina')\n",
            "('Portella Valdivia', 'Pedro Francisco')\n",
            "('Rasuk', 'Karim')\n",
            "('Retamal Cisneros', 'Zacarias Josue')\n",
            "('Rios', 'Lucia Magali')\n",
            "('Rosales', 'Francisco Gabriel')\n",
            "('Salem Barba', 'Mahia')\n",
            "('Sanchez Flores', 'Matías Agustín')\n",
            "('Scarano', 'Renato Marcelo')\n",
            "('Sierra', 'Lucas Mauricio')\n",
            "('Soto Camara', 'Agustin Ignacio')\n",
            "('Tapia', 'Martin Gabriel')\n",
            "('Villalba', 'Irina')\n",
            "('Vilte', 'Mia Antonella Alondra')\n",
            "('Virgillito', 'Katya Milena')\n",
            "('Voltolini', 'Emanuel Tobias')\n",
            "('Zalazar', 'Santino Stefano')\n"
          ]
        }
      ]
    },
    {
      "cell_type": "markdown",
      "source": [
        "8. Crea un menú como el del ejercicio 6, pero ahora permite elegir si ordenar alfabéticamente por nombre o por apellido.\n",
        "> Para resolver este ejercicio, solicitar ayuda en clase o en el foro\n"
      ],
      "metadata": {
        "id": "PziNZOOBS_UQ"
      }
    },
    {
      "cell_type": "code",
      "source": [
        "def segundo_elemento(tupla):\n",
        "   return tupla[1]"
      ],
      "metadata": {
        "id": "v72o7Pix76H9"
      },
      "execution_count": 29,
      "outputs": []
    },
    {
      "cell_type": "code",
      "source": [
        "opcion = input(\"\"\"\n",
        "[aa] Ascendente según Apellido\n",
        "[da] Descendente según Apellido\n",
        "[an] Ascendente según Nombre\n",
        "[dn] Descendente según Nombre\n",
        "\"\"\")\n",
        "if opcion.lower() == \"aa\":\n",
        "   tupla_estudiantes.sort()\n",
        "if opcion.lower() == \"da\":\n",
        "   tupla_estudiantes.sort(reverse = True)\n",
        "if opcion.lower() == \"an\":\n",
        "   tupla_estudiantes.sort(key = segundo_elemento)\n",
        "if opcion.lower() == \"dn\":\n",
        "   tupla_estudiantes.sort(key = segundo_elemento, reverse = True)\n",
        "for estudiante in tupla_estudiantes:\n",
        "  print(estudiante)"
      ],
      "metadata": {
        "id": "X7Xu-KyaTWth",
        "colab": {
          "base_uri": "https://localhost:8080/"
        },
        "outputId": "42b81910-1e76-4ffe-e331-9b428eb52e02"
      },
      "execution_count": 30,
      "outputs": [
        {
          "output_type": "stream",
          "name": "stdout",
          "text": [
            "\n",
            "[aa] Ascendente según Apellido\n",
            "[da] Descendente según Apellido\n",
            "[an] Ascendente según Nombre\n",
            "[dn] Descendente según Nombre\n",
            "an\n",
            "('Argañaraz', 'Agostina Abril')\n",
            "('Soto Camara', 'Agustin Ignacio')\n",
            "('Flores Cardozo', 'Agustina Tiara')\n",
            "('D Elia', 'Alvaro Tadeo')\n",
            "('Guzman', 'Angélica Morena')\n",
            "('Jaime', 'Anita Maria Belen')\n",
            "('Colque Rivero', 'Ariana Zoe Del Valle')\n",
            "('Angel', 'Camila Juliana')\n",
            "('Lezcano', 'Celia Morena')\n",
            "('Diaz', 'Dulce Maitena')\n",
            "('Voltolini', 'Emanuel Tobias')\n",
            "('Rosales', 'Francisco Gabriel')\n",
            "('Correa Segovia', 'Hugo Mariano')\n",
            "('Merluzzi Dagum', 'Ignacio')\n",
            "('Villalba', 'Irina')\n",
            "('Guzman', 'Jazmin Esmeralda Belen')\n",
            "('Barrozo Vedia', 'Joaquin Nicolas')\n",
            "('Rasuk', 'Karim')\n",
            "('Virgillito', 'Katya Milena')\n",
            "('Araoz Sanchez', 'Lautaro Nahuel')\n",
            "('Anaquin', 'Leonardo Ezequiel')\n",
            "('Geronimo Soriano', 'Lizzie Amaya')\n",
            "('Abud Laspiur', 'Lourdes Mariel')\n",
            "('Galvan', 'Lourdes Yamila')\n",
            "('Amador', 'Luana Micaela')\n",
            "('Arenas', 'Lucas Gabriel')\n",
            "('Sierra', 'Lucas Mauricio')\n",
            "('Rios', 'Lucia Magali')\n",
            "('Alvarado', 'Ludmila Del Milagro')\n",
            "('Salem Barba', 'Mahia')\n",
            "('Lascano Guanca', 'Marcelo Fabricio')\n",
            "('Caseres', 'Maria Antonia')\n",
            "('Marinaro', 'Martin Ezequiel')\n",
            "('Tapia', 'Martin Gabriel')\n",
            "('Messina', 'Martina')\n",
            "('Grancara', 'Martina Luna')\n",
            "('Barrera', 'Matias Ezequiel')\n",
            "('Sanchez Flores', 'Matías Agustín')\n",
            "('Vilte', 'Mia Antonella Alondra')\n",
            "('Lacour Polo', 'Nazarena')\n",
            "('Mamani Kynast', 'Nicolas Mauricio')\n",
            "('Gallo', 'Octavio Ismael')\n",
            "('Castillo', 'Paulina Milagros')\n",
            "('Portella Valdivia', 'Pedro Francisco')\n",
            "('Scarano', 'Renato Marcelo')\n",
            "('Mamani Garrido', 'Rosario Agostina')\n",
            "('Bracamonte Martinez', 'Salvador')\n",
            "('Figueroa', 'Santino Josue')\n",
            "('Zalazar', 'Santino Stefano')\n",
            "('Guanca', 'Sara Elizabeth')\n",
            "('Alurralde', 'Solange Stefania')\n",
            "('Martinez', 'Tomas Andres')\n",
            "('Bettinelli', 'Valentino')\n",
            "('Flores', 'Victoria Agustina')\n",
            "('Lopez', 'Victoria Constanza')\n",
            "('Giangreco', 'Vitto Tomasso')\n",
            "('Retamal Cisneros', 'Zacarias Josue')\n"
          ]
        }
      ]
    },
    {
      "cell_type": "markdown",
      "source": [
        "9. Agrega un dato en la posición siguiente a la de tu nombre en el nuevo formato de tupla. Para esto solicita al usuario su nombre y apellido, almacena estos datos en una tupla y agrega la misma a la lista \"tupla_estudiantes\""
      ],
      "metadata": {
        "id": "mtnmvoZ9TXii"
      }
    },
    {
      "cell_type": "code",
      "source": [
        "nombre_nuevo = input(\"Ingrese un nuevo nombre para agregarlo a la lista :  \").title()\n",
        "apellido_nuevo = input(\"Ingrese un nuevo apellido para agregalo a la lista : \").title()\n",
        "nueva_tupla = (apellido_nuevo , nombre_nuevo)\n",
        "tupla_estudiantes.insert(40 , nueva_tupla)\n",
        "for estudiante in tupla_estudiantes:\n",
        "   print(estudiante)"
      ],
      "metadata": {
        "id": "RSXz_XcvT0Nc",
        "colab": {
          "base_uri": "https://localhost:8080/"
        },
        "outputId": "88060525-e117-4c32-a641-1b1ddda81fd9"
      },
      "execution_count": 31,
      "outputs": [
        {
          "output_type": "stream",
          "name": "stdout",
          "text": [
            "Ingrese un nuevo nombre para agregarlo a la lista :  Sofia\n",
            "Ingrese un nuevo apellido para agregalo a la lista : Enriquez\n",
            "('Argañaraz', 'Agostina Abril')\n",
            "('Soto Camara', 'Agustin Ignacio')\n",
            "('Flores Cardozo', 'Agustina Tiara')\n",
            "('D Elia', 'Alvaro Tadeo')\n",
            "('Guzman', 'Angélica Morena')\n",
            "('Jaime', 'Anita Maria Belen')\n",
            "('Colque Rivero', 'Ariana Zoe Del Valle')\n",
            "('Angel', 'Camila Juliana')\n",
            "('Lezcano', 'Celia Morena')\n",
            "('Diaz', 'Dulce Maitena')\n",
            "('Voltolini', 'Emanuel Tobias')\n",
            "('Rosales', 'Francisco Gabriel')\n",
            "('Correa Segovia', 'Hugo Mariano')\n",
            "('Merluzzi Dagum', 'Ignacio')\n",
            "('Villalba', 'Irina')\n",
            "('Guzman', 'Jazmin Esmeralda Belen')\n",
            "('Barrozo Vedia', 'Joaquin Nicolas')\n",
            "('Rasuk', 'Karim')\n",
            "('Virgillito', 'Katya Milena')\n",
            "('Araoz Sanchez', 'Lautaro Nahuel')\n",
            "('Anaquin', 'Leonardo Ezequiel')\n",
            "('Geronimo Soriano', 'Lizzie Amaya')\n",
            "('Abud Laspiur', 'Lourdes Mariel')\n",
            "('Galvan', 'Lourdes Yamila')\n",
            "('Amador', 'Luana Micaela')\n",
            "('Arenas', 'Lucas Gabriel')\n",
            "('Sierra', 'Lucas Mauricio')\n",
            "('Rios', 'Lucia Magali')\n",
            "('Alvarado', 'Ludmila Del Milagro')\n",
            "('Salem Barba', 'Mahia')\n",
            "('Lascano Guanca', 'Marcelo Fabricio')\n",
            "('Caseres', 'Maria Antonia')\n",
            "('Marinaro', 'Martin Ezequiel')\n",
            "('Tapia', 'Martin Gabriel')\n",
            "('Messina', 'Martina')\n",
            "('Grancara', 'Martina Luna')\n",
            "('Barrera', 'Matias Ezequiel')\n",
            "('Sanchez Flores', 'Matías Agustín')\n",
            "('Vilte', 'Mia Antonella Alondra')\n",
            "('Lacour Polo', 'Nazarena')\n",
            "('Enriquez', 'Sofia')\n",
            "('Mamani Kynast', 'Nicolas Mauricio')\n",
            "('Gallo', 'Octavio Ismael')\n",
            "('Castillo', 'Paulina Milagros')\n",
            "('Portella Valdivia', 'Pedro Francisco')\n",
            "('Scarano', 'Renato Marcelo')\n",
            "('Mamani Garrido', 'Rosario Agostina')\n",
            "('Bracamonte Martinez', 'Salvador')\n",
            "('Figueroa', 'Santino Josue')\n",
            "('Zalazar', 'Santino Stefano')\n",
            "('Guanca', 'Sara Elizabeth')\n",
            "('Alurralde', 'Solange Stefania')\n",
            "('Martinez', 'Tomas Andres')\n",
            "('Bettinelli', 'Valentino')\n",
            "('Flores', 'Victoria Agustina')\n",
            "('Lopez', 'Victoria Constanza')\n",
            "('Giangreco', 'Vitto Tomasso')\n",
            "('Retamal Cisneros', 'Zacarias Josue')\n"
          ]
        }
      ]
    },
    {
      "cell_type": "markdown",
      "source": [
        "10. - Pedir al usuario un nombre y mostrar todos los estudiantes que tengan ese nombre.\n",
        "  - Hacer lo mismo con un apellido.\n"
      ],
      "metadata": {
        "id": "dY4y7OVPT1FT"
      }
    },
    {
      "cell_type": "code",
      "source": [
        "nombre0 = input(\"Ingrese un nombre para mostrar todos los estudiastes con ese nombre: \").title()\n",
        "for estudiante in tupla_estudiantes:\n",
        "  if nombre0 in segundo_elemento(estudiante):\n",
        "     print(estudiante)"
      ],
      "metadata": {
        "id": "bVTVfjH4VMBM",
        "colab": {
          "base_uri": "https://localhost:8080/"
        },
        "outputId": "9d918c39-45af-4926-e565-dc58194438eb"
      },
      "execution_count": 32,
      "outputs": [
        {
          "output_type": "stream",
          "name": "stdout",
          "text": [
            "Ingrese un nombre para mostrar todos los estudiastes con ese nombre: lourdes\n",
            "('Abud Laspiur', 'Lourdes Mariel')\n",
            "('Galvan', 'Lourdes Yamila')\n"
          ]
        }
      ]
    },
    {
      "cell_type": "code",
      "source": [
        "apellido0 =input (\"Ingrese un apellido para motrar todos los estudiantes con ese apellido: \").title()\n",
        "for estudiante in tupla_estudiantes:\n",
        "  if apellido0 in estudiante:\n",
        "     print(estudiante)"
      ],
      "metadata": {
        "colab": {
          "base_uri": "https://localhost:8080/"
        },
        "id": "vvg7y4sL6Kv-",
        "outputId": "7c6f10b3-5b78-4148-9067-c37dbb411a6f"
      },
      "execution_count": 34,
      "outputs": [
        {
          "output_type": "stream",
          "name": "stdout",
          "text": [
            "Ingrese un apellido para motrar todos los estudiantes con ese apellido: rasuk\n",
            "('Rasuk', 'Karim')\n"
          ]
        }
      ]
    },
    {
      "cell_type": "markdown",
      "source": [
        "11. Pedir un nombre al usuario y eliminar todos los registros donde se encuentre un estudiante con el nombre ingresado.\n"
      ],
      "metadata": {
        "id": "7zdJLrqXVM30"
      }
    },
    {
      "cell_type": "code",
      "source": [
        "nombre_e = input(\"Ingrese un nombre del alumno que quiera eliminar: \").title()\n",
        "for i in range(len(tupla_estudiantes)):\n",
        "  if nombre_e in tupla_estudiantes[i][1]:\n",
        "    tupla_estudiantes.pop(i)"
      ],
      "metadata": {
        "id": "3_rnimG_VQr6"
      },
      "execution_count": null,
      "outputs": []
    },
    {
      "cell_type": "markdown",
      "source": [
        "12. Pedir dos apellidos al usuario, y reemplazar el primer apellido por el segundo en todos los registros donde se encuentre."
      ],
      "metadata": {
        "id": "DGU_hs0BVRfa"
      }
    },
    {
      "cell_type": "code",
      "source": [
        "pass"
      ],
      "metadata": {
        "id": "ghxBxrzTV6aL"
      },
      "execution_count": null,
      "outputs": []
    }
  ]
}