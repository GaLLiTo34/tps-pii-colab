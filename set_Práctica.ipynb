{
  "nbformat": 4,
  "nbformat_minor": 0,
  "metadata": {
    "colab": {
      "provenance": [],
      "include_colab_link": true
    },
    "kernelspec": {
      "name": "python3",
      "display_name": "Python 3"
    },
    "language_info": {
      "name": "python"
    }
  },
  "cells": [
    {
      "cell_type": "markdown",
      "metadata": {
        "id": "view-in-github",
        "colab_type": "text"
      },
      "source": [
        "<a href=\"https://colab.research.google.com/github/GaLLiTo34/tps-pii-colab/blob/main/set_Pr%C3%A1ctica.ipynb\" target=\"_parent\"><img src=\"https://colab.research.google.com/assets/colab-badge.svg\" alt=\"Open In Colab\"/></a>"
      ]
    },
    {
      "cell_type": "code",
      "execution_count": 1,
      "metadata": {
        "id": "8VOD-zpMJovw"
      },
      "outputs": [],
      "source": [
        "estudiantes = [\n",
        "    {'name': 'Abud Laspiur, Lourdes Mariel', 'section': 'C', 'dob': '05/12/2006'},\n",
        "    {'name': 'Amador, Luana Micaela', 'section': 'C', 'dob': '09/12/2006'},\n",
        "    {'name': 'Anaquin, Leonardo Ezequiel', 'section': 'C', 'dob': '06/09/2005'},\n",
        "    {'name': 'Araoz Sanchez, Lautaro Nahuel', 'section': 'C', 'dob': '28/12/2005'},\n",
        "    {'name': 'Argañaraz, Agostina Abril', 'section': 'C', 'dob': '11/10/2006'},\n",
        "    {'name': 'Barrera, Matias Ezequiel', 'section': 'C', 'dob': '27/02/2007'},\n",
        "    {'name': 'Barrera, Matias Ezequiel', 'section': 'C', 'dob': '27/02/2007'},  # Repetido\n",
        "    {'name': 'Barrozo Vedia, Joaquin Nicolas', 'section': 'C', 'dob': '15/04/2006'},\n",
        "    {'name': 'Bettinelli, Valentino', 'section': 'C', 'dob': '12/07/2006'},\n",
        "    {'name': 'Bracamonte Martinez, Salvador', 'section': 'C', 'dob': '02/11/2005'},\n",
        "    {'name': 'Colque Rivero, Ariana Zoe Del Valle', 'section': 'C', 'dob': '27/12/2006'},\n",
        "    {'name': 'Diaz, Dulce Maitena', 'section': 'C', 'dob': '11/12/2006'},\n",
        "    {'name': 'Figueroa, Santino Josue', 'section': 'C', 'dob': '12/05/2007'},\n",
        "    {'name': 'Figueroa, Santino Josue', 'section': 'C', 'dob': '12/05/2007'},  # Repetido\n",
        "    {'name': 'Flores Cardozo, Agustina Tiara', 'section': 'C', 'dob': '18/03/2006'},\n",
        "    {'name': 'Gallo, Octavio Ismael', 'section': 'C', 'dob': '04/08/2006'},\n",
        "    {'name': 'Galvan, Lourdes Yamila', 'section': 'C', 'dob': '19/08/2005'},\n",
        "    {'name': 'Giangreco, Vitto Tomasso', 'section': 'C', 'dob': '21/03/2007'},\n",
        "    {'name': 'Grancara, Martina Luna', 'section': 'C', 'dob': '15/12/2006'},\n",
        "    {'name': 'Guanca, Sara Elizabeth', 'section': 'C', 'dob': '17/01/2007'},\n",
        "    {'name': 'Lopez, Victoria Constanza', 'section': 'C', 'dob': '12/11/2007'},\n",
        "    {'name': 'Mamani Garrido, Rosario Agostina', 'section': 'C', 'dob': '24/10/2006'},\n",
        "    {'name': 'Marinaro, Martin Ezequiel', 'section': 'C', 'dob': '03/11/2006'},\n",
        "    {'name': 'Merluzzi Dagum, Ignacio', 'section': 'C', 'dob': '22/12/2005'},\n",
        "    {'name': 'Messina, Martina', 'section': 'C', 'dob': '13/07/2005'},\n",
        "    {'name': 'Rasuk, Karim', 'section': 'C', 'dob': '13/07/2007'},\n",
        "    {'name': 'Rasuk, Karim', 'section': 'C', 'dob': '13/07/2007'},  # Repetido\n",
        "    {'name': 'Rios, Lucia Magali', 'section': 'C', 'dob': '22/09/2006'},\n",
        "    {'name': 'Sanchez Flores, Matías Agustín', 'section': 'C', 'dob': '15/02/2007'},\n",
        "    {'name': 'Scarano, Renato Marcelo', 'section': 'C', 'dob': '06/12/2006'},\n",
        "    {'name': 'Sierra, Lucas Mauricio', 'section': 'C', 'dob': '03/04/2005'},\n",
        "    {'name': 'Tapia, Martin Gabriel', 'section': 'C', 'dob': '30/05/2006'},\n",
        "    {'name': 'Vilte, Mia Antonella Alondra', 'section': 'C', 'dob': '10/09/2005'},\n",
        "    {'name': 'Virgillito, Katya Milena', 'section': 'C', 'dob': '19/06/2007'},\n",
        "    {'name': 'Alurralde, Solange Stefania', 'section': 'D', 'dob': '02/04/2007'},\n",
        "    {'name': 'Alvarado, Ludmila Del Milagro', 'section': 'D', 'dob': '06/09/2006'},\n",
        "    {'name': 'Angel, Camila Juliana', 'section': 'D', 'dob': '07/03/2007'},\n",
        "    {'name': 'Arenas, Lucas Gabriel', 'section': 'D', 'dob': '26/06/2007'},\n",
        "    {'name': 'Caseres, Maria Antonia', 'section': 'D', 'dob': '01/07/2006'},\n",
        "    {'name': 'Castillo, Paulina Milagros', 'section': 'D', 'dob': '01/06/2007'},\n",
        "    {'name': 'Correa Segovia, Hugo Mariano', 'section': 'D', 'dob': '04/12/2006'},\n",
        "    {'name': 'Correa Segovia, Hugo Mariano', 'section': 'D', 'dob': '04/12/2006'},  # Repetido\n",
        "    {'name': 'D Elia, Alvaro Tadeo', 'section': 'D', 'dob': '27/08/2006'},\n",
        "    {'name': 'Flores, Victoria Agustina', 'section': 'D', 'dob': '12/12/2006'},\n",
        "    {'name': 'Geronimo Soriano, Lizzie Amaya', 'section': 'D', 'dob': '20/01/2007'},\n",
        "    {'name': 'Guzman, Angélica Morena', 'section': 'D', 'dob': '11/04/2007'},\n",
        "    {'name': 'Guzman, Jazmin Esmeralda Belen', 'section': 'D', 'dob': '31/07/2006'},\n",
        "    {'name': 'Jaime, Anita Maria Belen', 'section': 'D', 'dob': '19/04/2007'},\n",
        "    {'name': 'Lacour Polo, Nazarena', 'section': 'D', 'dob': '19/12/2005'},\n",
        "    {'name': 'Lascano Guanca, Marcelo Fabricio', 'section': 'D', 'dob': '17/02/2006'},\n",
        "    {'name': 'Lezcano, Celia Morena', 'section': 'D', 'dob': '01/07/2005'},\n",
        "    {'name': 'Martinez, Tomas Andres', 'section': 'D', 'dob': '22/03/2007'},\n",
        "    {'name': 'Portella Valdivia, Pedro Francisco', 'section': 'D', 'dob': '24/01/2007'},\n",
        "    {'name': 'Retamal Cisneros, Zacarias Josue', 'section': 'D', 'dob': '24/02/2007'},\n",
        "    {'name': 'Rosales, Francisco Gabriel', 'section': 'D', 'dob': '14/11/2006'},\n",
        "    {'name': 'Salem Barba, Mahia', 'section': 'D', 'dob': '14/10/2005'},\n",
        "    {'name': 'Soto Camara, Agustin Ignacio', 'section': 'D', 'dob': '07/11/2005'},\n",
        "    {'name': 'Villalba, Irina', 'section': 'D', 'dob': '09/09/2006'},\n",
        "    {'name': 'Voltolini, Emanuel Tobias', 'section': 'D', 'dob': '17/09/2006'},\n",
        "    {'name': 'Zalazar, Santino Stefano', 'section': 'D', 'dob': '30/09/2006'},\n",
        "    {'name': 'Zalazar, Santino Stefano', 'section': 'D', 'dob': '30/09/2006'}  # Repetido\n",
        "]\n"
      ]
    },
    {
      "cell_type": "code",
      "source": [
        "# Spoiler de estructura que veremos en los siguientes TPs\n",
        "import json\n",
        "for estudiante in estudiantes:\n",
        "  alumno_json = json.dumps(estudiante,indent=4,ensure_ascii=False)\n",
        "  print(alumno_json,\",\")"
      ],
      "metadata": {
        "id": "7lcHoIqemYFH",
        "outputId": "29901cc3-730c-431a-9a25-6c5e9ff26862",
        "colab": {
          "base_uri": "https://localhost:8080/"
        }
      },
      "execution_count": 2,
      "outputs": [
        {
          "output_type": "stream",
          "name": "stdout",
          "text": [
            "{\n",
            "    \"name\": \"Abud Laspiur, Lourdes Mariel\",\n",
            "    \"section\": \"C\",\n",
            "    \"dob\": \"05/12/2006\"\n",
            "} ,\n",
            "{\n",
            "    \"name\": \"Amador, Luana Micaela\",\n",
            "    \"section\": \"C\",\n",
            "    \"dob\": \"09/12/2006\"\n",
            "} ,\n",
            "{\n",
            "    \"name\": \"Anaquin, Leonardo Ezequiel\",\n",
            "    \"section\": \"C\",\n",
            "    \"dob\": \"06/09/2005\"\n",
            "} ,\n",
            "{\n",
            "    \"name\": \"Araoz Sanchez, Lautaro Nahuel\",\n",
            "    \"section\": \"C\",\n",
            "    \"dob\": \"28/12/2005\"\n",
            "} ,\n",
            "{\n",
            "    \"name\": \"Argañaraz, Agostina Abril\",\n",
            "    \"section\": \"C\",\n",
            "    \"dob\": \"11/10/2006\"\n",
            "} ,\n",
            "{\n",
            "    \"name\": \"Barrera, Matias Ezequiel\",\n",
            "    \"section\": \"C\",\n",
            "    \"dob\": \"27/02/2007\"\n",
            "} ,\n",
            "{\n",
            "    \"name\": \"Barrera, Matias Ezequiel\",\n",
            "    \"section\": \"C\",\n",
            "    \"dob\": \"27/02/2007\"\n",
            "} ,\n",
            "{\n",
            "    \"name\": \"Barrozo Vedia, Joaquin Nicolas\",\n",
            "    \"section\": \"C\",\n",
            "    \"dob\": \"15/04/2006\"\n",
            "} ,\n",
            "{\n",
            "    \"name\": \"Bettinelli, Valentino\",\n",
            "    \"section\": \"C\",\n",
            "    \"dob\": \"12/07/2006\"\n",
            "} ,\n",
            "{\n",
            "    \"name\": \"Bracamonte Martinez, Salvador\",\n",
            "    \"section\": \"C\",\n",
            "    \"dob\": \"02/11/2005\"\n",
            "} ,\n",
            "{\n",
            "    \"name\": \"Colque Rivero, Ariana Zoe Del Valle\",\n",
            "    \"section\": \"C\",\n",
            "    \"dob\": \"27/12/2006\"\n",
            "} ,\n",
            "{\n",
            "    \"name\": \"Diaz, Dulce Maitena\",\n",
            "    \"section\": \"C\",\n",
            "    \"dob\": \"11/12/2006\"\n",
            "} ,\n",
            "{\n",
            "    \"name\": \"Figueroa, Santino Josue\",\n",
            "    \"section\": \"C\",\n",
            "    \"dob\": \"12/05/2007\"\n",
            "} ,\n",
            "{\n",
            "    \"name\": \"Figueroa, Santino Josue\",\n",
            "    \"section\": \"C\",\n",
            "    \"dob\": \"12/05/2007\"\n",
            "} ,\n",
            "{\n",
            "    \"name\": \"Flores Cardozo, Agustina Tiara\",\n",
            "    \"section\": \"C\",\n",
            "    \"dob\": \"18/03/2006\"\n",
            "} ,\n",
            "{\n",
            "    \"name\": \"Gallo, Octavio Ismael\",\n",
            "    \"section\": \"C\",\n",
            "    \"dob\": \"04/08/2006\"\n",
            "} ,\n",
            "{\n",
            "    \"name\": \"Galvan, Lourdes Yamila\",\n",
            "    \"section\": \"C\",\n",
            "    \"dob\": \"19/08/2005\"\n",
            "} ,\n",
            "{\n",
            "    \"name\": \"Giangreco, Vitto Tomasso\",\n",
            "    \"section\": \"C\",\n",
            "    \"dob\": \"21/03/2007\"\n",
            "} ,\n",
            "{\n",
            "    \"name\": \"Grancara, Martina Luna\",\n",
            "    \"section\": \"C\",\n",
            "    \"dob\": \"15/12/2006\"\n",
            "} ,\n",
            "{\n",
            "    \"name\": \"Guanca, Sara Elizabeth\",\n",
            "    \"section\": \"C\",\n",
            "    \"dob\": \"17/01/2007\"\n",
            "} ,\n",
            "{\n",
            "    \"name\": \"Lopez, Victoria Constanza\",\n",
            "    \"section\": \"C\",\n",
            "    \"dob\": \"12/11/2007\"\n",
            "} ,\n",
            "{\n",
            "    \"name\": \"Mamani Garrido, Rosario Agostina\",\n",
            "    \"section\": \"C\",\n",
            "    \"dob\": \"24/10/2006\"\n",
            "} ,\n",
            "{\n",
            "    \"name\": \"Marinaro, Martin Ezequiel\",\n",
            "    \"section\": \"C\",\n",
            "    \"dob\": \"03/11/2006\"\n",
            "} ,\n",
            "{\n",
            "    \"name\": \"Merluzzi Dagum, Ignacio\",\n",
            "    \"section\": \"C\",\n",
            "    \"dob\": \"22/12/2005\"\n",
            "} ,\n",
            "{\n",
            "    \"name\": \"Messina, Martina\",\n",
            "    \"section\": \"C\",\n",
            "    \"dob\": \"13/07/2005\"\n",
            "} ,\n",
            "{\n",
            "    \"name\": \"Rasuk, Karim\",\n",
            "    \"section\": \"C\",\n",
            "    \"dob\": \"13/07/2007\"\n",
            "} ,\n",
            "{\n",
            "    \"name\": \"Rasuk, Karim\",\n",
            "    \"section\": \"C\",\n",
            "    \"dob\": \"13/07/2007\"\n",
            "} ,\n",
            "{\n",
            "    \"name\": \"Rios, Lucia Magali\",\n",
            "    \"section\": \"C\",\n",
            "    \"dob\": \"22/09/2006\"\n",
            "} ,\n",
            "{\n",
            "    \"name\": \"Sanchez Flores, Matías Agustín\",\n",
            "    \"section\": \"C\",\n",
            "    \"dob\": \"15/02/2007\"\n",
            "} ,\n",
            "{\n",
            "    \"name\": \"Scarano, Renato Marcelo\",\n",
            "    \"section\": \"C\",\n",
            "    \"dob\": \"06/12/2006\"\n",
            "} ,\n",
            "{\n",
            "    \"name\": \"Sierra, Lucas Mauricio\",\n",
            "    \"section\": \"C\",\n",
            "    \"dob\": \"03/04/2005\"\n",
            "} ,\n",
            "{\n",
            "    \"name\": \"Tapia, Martin Gabriel\",\n",
            "    \"section\": \"C\",\n",
            "    \"dob\": \"30/05/2006\"\n",
            "} ,\n",
            "{\n",
            "    \"name\": \"Vilte, Mia Antonella Alondra\",\n",
            "    \"section\": \"C\",\n",
            "    \"dob\": \"10/09/2005\"\n",
            "} ,\n",
            "{\n",
            "    \"name\": \"Virgillito, Katya Milena\",\n",
            "    \"section\": \"C\",\n",
            "    \"dob\": \"19/06/2007\"\n",
            "} ,\n",
            "{\n",
            "    \"name\": \"Alurralde, Solange Stefania\",\n",
            "    \"section\": \"D\",\n",
            "    \"dob\": \"02/04/2007\"\n",
            "} ,\n",
            "{\n",
            "    \"name\": \"Alvarado, Ludmila Del Milagro\",\n",
            "    \"section\": \"D\",\n",
            "    \"dob\": \"06/09/2006\"\n",
            "} ,\n",
            "{\n",
            "    \"name\": \"Angel, Camila Juliana\",\n",
            "    \"section\": \"D\",\n",
            "    \"dob\": \"07/03/2007\"\n",
            "} ,\n",
            "{\n",
            "    \"name\": \"Arenas, Lucas Gabriel\",\n",
            "    \"section\": \"D\",\n",
            "    \"dob\": \"26/06/2007\"\n",
            "} ,\n",
            "{\n",
            "    \"name\": \"Caseres, Maria Antonia\",\n",
            "    \"section\": \"D\",\n",
            "    \"dob\": \"01/07/2006\"\n",
            "} ,\n",
            "{\n",
            "    \"name\": \"Castillo, Paulina Milagros\",\n",
            "    \"section\": \"D\",\n",
            "    \"dob\": \"01/06/2007\"\n",
            "} ,\n",
            "{\n",
            "    \"name\": \"Correa Segovia, Hugo Mariano\",\n",
            "    \"section\": \"D\",\n",
            "    \"dob\": \"04/12/2006\"\n",
            "} ,\n",
            "{\n",
            "    \"name\": \"Correa Segovia, Hugo Mariano\",\n",
            "    \"section\": \"D\",\n",
            "    \"dob\": \"04/12/2006\"\n",
            "} ,\n",
            "{\n",
            "    \"name\": \"D Elia, Alvaro Tadeo\",\n",
            "    \"section\": \"D\",\n",
            "    \"dob\": \"27/08/2006\"\n",
            "} ,\n",
            "{\n",
            "    \"name\": \"Flores, Victoria Agustina\",\n",
            "    \"section\": \"D\",\n",
            "    \"dob\": \"12/12/2006\"\n",
            "} ,\n",
            "{\n",
            "    \"name\": \"Geronimo Soriano, Lizzie Amaya\",\n",
            "    \"section\": \"D\",\n",
            "    \"dob\": \"20/01/2007\"\n",
            "} ,\n",
            "{\n",
            "    \"name\": \"Guzman, Angélica Morena\",\n",
            "    \"section\": \"D\",\n",
            "    \"dob\": \"11/04/2007\"\n",
            "} ,\n",
            "{\n",
            "    \"name\": \"Guzman, Jazmin Esmeralda Belen\",\n",
            "    \"section\": \"D\",\n",
            "    \"dob\": \"31/07/2006\"\n",
            "} ,\n",
            "{\n",
            "    \"name\": \"Jaime, Anita Maria Belen\",\n",
            "    \"section\": \"D\",\n",
            "    \"dob\": \"19/04/2007\"\n",
            "} ,\n",
            "{\n",
            "    \"name\": \"Lacour Polo, Nazarena\",\n",
            "    \"section\": \"D\",\n",
            "    \"dob\": \"19/12/2005\"\n",
            "} ,\n",
            "{\n",
            "    \"name\": \"Lascano Guanca, Marcelo Fabricio\",\n",
            "    \"section\": \"D\",\n",
            "    \"dob\": \"17/02/2006\"\n",
            "} ,\n",
            "{\n",
            "    \"name\": \"Lezcano, Celia Morena\",\n",
            "    \"section\": \"D\",\n",
            "    \"dob\": \"01/07/2005\"\n",
            "} ,\n",
            "{\n",
            "    \"name\": \"Martinez, Tomas Andres\",\n",
            "    \"section\": \"D\",\n",
            "    \"dob\": \"22/03/2007\"\n",
            "} ,\n",
            "{\n",
            "    \"name\": \"Portella Valdivia, Pedro Francisco\",\n",
            "    \"section\": \"D\",\n",
            "    \"dob\": \"24/01/2007\"\n",
            "} ,\n",
            "{\n",
            "    \"name\": \"Retamal Cisneros, Zacarias Josue\",\n",
            "    \"section\": \"D\",\n",
            "    \"dob\": \"24/02/2007\"\n",
            "} ,\n",
            "{\n",
            "    \"name\": \"Rosales, Francisco Gabriel\",\n",
            "    \"section\": \"D\",\n",
            "    \"dob\": \"14/11/2006\"\n",
            "} ,\n",
            "{\n",
            "    \"name\": \"Salem Barba, Mahia\",\n",
            "    \"section\": \"D\",\n",
            "    \"dob\": \"14/10/2005\"\n",
            "} ,\n",
            "{\n",
            "    \"name\": \"Soto Camara, Agustin Ignacio\",\n",
            "    \"section\": \"D\",\n",
            "    \"dob\": \"07/11/2005\"\n",
            "} ,\n",
            "{\n",
            "    \"name\": \"Villalba, Irina\",\n",
            "    \"section\": \"D\",\n",
            "    \"dob\": \"09/09/2006\"\n",
            "} ,\n",
            "{\n",
            "    \"name\": \"Voltolini, Emanuel Tobias\",\n",
            "    \"section\": \"D\",\n",
            "    \"dob\": \"17/09/2006\"\n",
            "} ,\n",
            "{\n",
            "    \"name\": \"Zalazar, Santino Stefano\",\n",
            "    \"section\": \"D\",\n",
            "    \"dob\": \"30/09/2006\"\n",
            "} ,\n",
            "{\n",
            "    \"name\": \"Zalazar, Santino Stefano\",\n",
            "    \"section\": \"D\",\n",
            "    \"dob\": \"30/09/2006\"\n",
            "} ,\n"
          ]
        }
      ]
    },
    {
      "cell_type": "markdown",
      "source": [
        "## Dada la lista estudiantes:\n",
        "> - Hacer una celda para resolver cada punto.\n",
        "- El TP resuelto será revisado en tu repositorio, no es necesario que lo envíes, pero sí que lo pushees correctamente.\n",
        "- En la nota inicial se contempla:\n",
        "  - La incorporación de este documento a tu propio respositorio.\n",
        "  - El pusheo de los cambios realizados.\n",
        "  - La resolución de los ejercicios propuestos.\n"
      ],
      "metadata": {
        "id": "rd6Ug6v3J4uN"
      }
    },
    {
      "cell_type": "markdown",
      "source": [
        "1. Dada la lista de estudiantes, elimina los elementos repetidos de la misma, usando para ello una estructura set. El resultado final debe ser una lista, con la misma estructura de la original, pero sin datos repetidos.\n",
        "\n",
        "Para esto tener en cuenta que:\n",
        "- Los conjuntos solo pueden almacenar datos inmutables.\n",
        "- Los diccionarios son estructuras mutables.\n",
        "- dict.items() devuelve una lista de tuplas.\n",
        "- dict(tupla) genera un diccionario, donde el primer elemento de la tupla es la clave, y el segundo el valor. Ej:\n",
        "  -\n",
        "  ```python\n",
        "  dict([(\"Alberto\", 10), (\"José\", 7), (\"Dario\", 14), (\"Ana\", 8), (\"Maria\", 9), (\"Emilia\", 10)])\n",
        "\n",
        "  va a generar el siguiente diccionario:\n",
        "\n",
        "  ```python\n",
        "  {'Alberto': 10, 'José': 7, 'Dario': 14, 'Ana': 8, 'Maria': 9, 'Emilia': 10}\n",
        "  ```\n",
        "\n"
      ],
      "metadata": {
        "id": "wRLng-uURyJ3"
      }
    },
    {
      "cell_type": "code",
      "source": [
        "lista_tuplas = []\n",
        "estudiantes_sin_repetidos = []\n",
        "for estudiante in estudiantes:\n",
        "  tupla = tuple(estudiante.items())\n",
        "  lista_tuplas.append(tupla)\n",
        "conjunto_tuplas = set(lista_tuplas)\n",
        "print(conjunto_tuplas)\n",
        "for estudiante in conjunto_tuplas:\n",
        "  un_estudiante = dict(estudiante)\n",
        "  estudiantes_sin_repetidos.append(un_estudiante)\n",
        "for estudiante in estudiantes_sin_repetidos:\n",
        "  print(estudiante)"
      ],
      "metadata": {
        "id": "KqaKGL--0DRA",
        "outputId": "3691fb9b-dea7-4249-a58f-bb61162cf5af",
        "colab": {
          "base_uri": "https://localhost:8080/"
        }
      },
      "execution_count": 3,
      "outputs": [
        {
          "output_type": "stream",
          "name": "stdout",
          "text": [
            "{(('name', 'Mamani Garrido, Rosario Agostina'), ('section', 'C'), ('dob', '24/10/2006')), (('name', 'Sanchez Flores, Matías Agustín'), ('section', 'C'), ('dob', '15/02/2007')), (('name', 'Alvarado, Ludmila Del Milagro'), ('section', 'D'), ('dob', '06/09/2006')), (('name', 'Soto Camara, Agustin Ignacio'), ('section', 'D'), ('dob', '07/11/2005')), (('name', 'Galvan, Lourdes Yamila'), ('section', 'C'), ('dob', '19/08/2005')), (('name', 'Castillo, Paulina Milagros'), ('section', 'D'), ('dob', '01/06/2007')), (('name', 'Bracamonte Martinez, Salvador'), ('section', 'C'), ('dob', '02/11/2005')), (('name', 'Jaime, Anita Maria Belen'), ('section', 'D'), ('dob', '19/04/2007')), (('name', 'Bettinelli, Valentino'), ('section', 'C'), ('dob', '12/07/2006')), (('name', 'Salem Barba, Mahia'), ('section', 'D'), ('dob', '14/10/2005')), (('name', 'D Elia, Alvaro Tadeo'), ('section', 'D'), ('dob', '27/08/2006')), (('name', 'Rosales, Francisco Gabriel'), ('section', 'D'), ('dob', '14/11/2006')), (('name', 'Giangreco, Vitto Tomasso'), ('section', 'C'), ('dob', '21/03/2007')), (('name', 'Rios, Lucia Magali'), ('section', 'C'), ('dob', '22/09/2006')), (('name', 'Retamal Cisneros, Zacarias Josue'), ('section', 'D'), ('dob', '24/02/2007')), (('name', 'Gallo, Octavio Ismael'), ('section', 'C'), ('dob', '04/08/2006')), (('name', 'Guzman, Angélica Morena'), ('section', 'D'), ('dob', '11/04/2007')), (('name', 'Vilte, Mia Antonella Alondra'), ('section', 'C'), ('dob', '10/09/2005')), (('name', 'Voltolini, Emanuel Tobias'), ('section', 'D'), ('dob', '17/09/2006')), (('name', 'Zalazar, Santino Stefano'), ('section', 'D'), ('dob', '30/09/2006')), (('name', 'Rasuk, Karim'), ('section', 'C'), ('dob', '13/07/2007')), (('name', 'Anaquin, Leonardo Ezequiel'), ('section', 'C'), ('dob', '06/09/2005')), (('name', 'Marinaro, Martin Ezequiel'), ('section', 'C'), ('dob', '03/11/2006')), (('name', 'Flores Cardozo, Agustina Tiara'), ('section', 'C'), ('dob', '18/03/2006')), (('name', 'Guanca, Sara Elizabeth'), ('section', 'C'), ('dob', '17/01/2007')), (('name', 'Martinez, Tomas Andres'), ('section', 'D'), ('dob', '22/03/2007')), (('name', 'Diaz, Dulce Maitena'), ('section', 'C'), ('dob', '11/12/2006')), (('name', 'Messina, Martina'), ('section', 'C'), ('dob', '13/07/2005')), (('name', 'Guzman, Jazmin Esmeralda Belen'), ('section', 'D'), ('dob', '31/07/2006')), (('name', 'Amador, Luana Micaela'), ('section', 'C'), ('dob', '09/12/2006')), (('name', 'Tapia, Martin Gabriel'), ('section', 'C'), ('dob', '30/05/2006')), (('name', 'Merluzzi Dagum, Ignacio'), ('section', 'C'), ('dob', '22/12/2005')), (('name', 'Colque Rivero, Ariana Zoe Del Valle'), ('section', 'C'), ('dob', '27/12/2006')), (('name', 'Lacour Polo, Nazarena'), ('section', 'D'), ('dob', '19/12/2005')), (('name', 'Arenas, Lucas Gabriel'), ('section', 'D'), ('dob', '26/06/2007')), (('name', 'Lopez, Victoria Constanza'), ('section', 'C'), ('dob', '12/11/2007')), (('name', 'Angel, Camila Juliana'), ('section', 'D'), ('dob', '07/03/2007')), (('name', 'Barrera, Matias Ezequiel'), ('section', 'C'), ('dob', '27/02/2007')), (('name', 'Correa Segovia, Hugo Mariano'), ('section', 'D'), ('dob', '04/12/2006')), (('name', 'Araoz Sanchez, Lautaro Nahuel'), ('section', 'C'), ('dob', '28/12/2005')), (('name', 'Lascano Guanca, Marcelo Fabricio'), ('section', 'D'), ('dob', '17/02/2006')), (('name', 'Caseres, Maria Antonia'), ('section', 'D'), ('dob', '01/07/2006')), (('name', 'Figueroa, Santino Josue'), ('section', 'C'), ('dob', '12/05/2007')), (('name', 'Scarano, Renato Marcelo'), ('section', 'C'), ('dob', '06/12/2006')), (('name', 'Virgillito, Katya Milena'), ('section', 'C'), ('dob', '19/06/2007')), (('name', 'Sierra, Lucas Mauricio'), ('section', 'C'), ('dob', '03/04/2005')), (('name', 'Flores, Victoria Agustina'), ('section', 'D'), ('dob', '12/12/2006')), (('name', 'Alurralde, Solange Stefania'), ('section', 'D'), ('dob', '02/04/2007')), (('name', 'Abud Laspiur, Lourdes Mariel'), ('section', 'C'), ('dob', '05/12/2006')), (('name', 'Lezcano, Celia Morena'), ('section', 'D'), ('dob', '01/07/2005')), (('name', 'Geronimo Soriano, Lizzie Amaya'), ('section', 'D'), ('dob', '20/01/2007')), (('name', 'Villalba, Irina'), ('section', 'D'), ('dob', '09/09/2006')), (('name', 'Grancara, Martina Luna'), ('section', 'C'), ('dob', '15/12/2006')), (('name', 'Barrozo Vedia, Joaquin Nicolas'), ('section', 'C'), ('dob', '15/04/2006')), (('name', 'Argañaraz, Agostina Abril'), ('section', 'C'), ('dob', '11/10/2006')), (('name', 'Portella Valdivia, Pedro Francisco'), ('section', 'D'), ('dob', '24/01/2007'))}\n",
            "{'name': 'Mamani Garrido, Rosario Agostina', 'section': 'C', 'dob': '24/10/2006'}\n",
            "{'name': 'Sanchez Flores, Matías Agustín', 'section': 'C', 'dob': '15/02/2007'}\n",
            "{'name': 'Alvarado, Ludmila Del Milagro', 'section': 'D', 'dob': '06/09/2006'}\n",
            "{'name': 'Soto Camara, Agustin Ignacio', 'section': 'D', 'dob': '07/11/2005'}\n",
            "{'name': 'Galvan, Lourdes Yamila', 'section': 'C', 'dob': '19/08/2005'}\n",
            "{'name': 'Castillo, Paulina Milagros', 'section': 'D', 'dob': '01/06/2007'}\n",
            "{'name': 'Bracamonte Martinez, Salvador', 'section': 'C', 'dob': '02/11/2005'}\n",
            "{'name': 'Jaime, Anita Maria Belen', 'section': 'D', 'dob': '19/04/2007'}\n",
            "{'name': 'Bettinelli, Valentino', 'section': 'C', 'dob': '12/07/2006'}\n",
            "{'name': 'Salem Barba, Mahia', 'section': 'D', 'dob': '14/10/2005'}\n",
            "{'name': 'D Elia, Alvaro Tadeo', 'section': 'D', 'dob': '27/08/2006'}\n",
            "{'name': 'Rosales, Francisco Gabriel', 'section': 'D', 'dob': '14/11/2006'}\n",
            "{'name': 'Giangreco, Vitto Tomasso', 'section': 'C', 'dob': '21/03/2007'}\n",
            "{'name': 'Rios, Lucia Magali', 'section': 'C', 'dob': '22/09/2006'}\n",
            "{'name': 'Retamal Cisneros, Zacarias Josue', 'section': 'D', 'dob': '24/02/2007'}\n",
            "{'name': 'Gallo, Octavio Ismael', 'section': 'C', 'dob': '04/08/2006'}\n",
            "{'name': 'Guzman, Angélica Morena', 'section': 'D', 'dob': '11/04/2007'}\n",
            "{'name': 'Vilte, Mia Antonella Alondra', 'section': 'C', 'dob': '10/09/2005'}\n",
            "{'name': 'Voltolini, Emanuel Tobias', 'section': 'D', 'dob': '17/09/2006'}\n",
            "{'name': 'Zalazar, Santino Stefano', 'section': 'D', 'dob': '30/09/2006'}\n",
            "{'name': 'Rasuk, Karim', 'section': 'C', 'dob': '13/07/2007'}\n",
            "{'name': 'Anaquin, Leonardo Ezequiel', 'section': 'C', 'dob': '06/09/2005'}\n",
            "{'name': 'Marinaro, Martin Ezequiel', 'section': 'C', 'dob': '03/11/2006'}\n",
            "{'name': 'Flores Cardozo, Agustina Tiara', 'section': 'C', 'dob': '18/03/2006'}\n",
            "{'name': 'Guanca, Sara Elizabeth', 'section': 'C', 'dob': '17/01/2007'}\n",
            "{'name': 'Martinez, Tomas Andres', 'section': 'D', 'dob': '22/03/2007'}\n",
            "{'name': 'Diaz, Dulce Maitena', 'section': 'C', 'dob': '11/12/2006'}\n",
            "{'name': 'Messina, Martina', 'section': 'C', 'dob': '13/07/2005'}\n",
            "{'name': 'Guzman, Jazmin Esmeralda Belen', 'section': 'D', 'dob': '31/07/2006'}\n",
            "{'name': 'Amador, Luana Micaela', 'section': 'C', 'dob': '09/12/2006'}\n",
            "{'name': 'Tapia, Martin Gabriel', 'section': 'C', 'dob': '30/05/2006'}\n",
            "{'name': 'Merluzzi Dagum, Ignacio', 'section': 'C', 'dob': '22/12/2005'}\n",
            "{'name': 'Colque Rivero, Ariana Zoe Del Valle', 'section': 'C', 'dob': '27/12/2006'}\n",
            "{'name': 'Lacour Polo, Nazarena', 'section': 'D', 'dob': '19/12/2005'}\n",
            "{'name': 'Arenas, Lucas Gabriel', 'section': 'D', 'dob': '26/06/2007'}\n",
            "{'name': 'Lopez, Victoria Constanza', 'section': 'C', 'dob': '12/11/2007'}\n",
            "{'name': 'Angel, Camila Juliana', 'section': 'D', 'dob': '07/03/2007'}\n",
            "{'name': 'Barrera, Matias Ezequiel', 'section': 'C', 'dob': '27/02/2007'}\n",
            "{'name': 'Correa Segovia, Hugo Mariano', 'section': 'D', 'dob': '04/12/2006'}\n",
            "{'name': 'Araoz Sanchez, Lautaro Nahuel', 'section': 'C', 'dob': '28/12/2005'}\n",
            "{'name': 'Lascano Guanca, Marcelo Fabricio', 'section': 'D', 'dob': '17/02/2006'}\n",
            "{'name': 'Caseres, Maria Antonia', 'section': 'D', 'dob': '01/07/2006'}\n",
            "{'name': 'Figueroa, Santino Josue', 'section': 'C', 'dob': '12/05/2007'}\n",
            "{'name': 'Scarano, Renato Marcelo', 'section': 'C', 'dob': '06/12/2006'}\n",
            "{'name': 'Virgillito, Katya Milena', 'section': 'C', 'dob': '19/06/2007'}\n",
            "{'name': 'Sierra, Lucas Mauricio', 'section': 'C', 'dob': '03/04/2005'}\n",
            "{'name': 'Flores, Victoria Agustina', 'section': 'D', 'dob': '12/12/2006'}\n",
            "{'name': 'Alurralde, Solange Stefania', 'section': 'D', 'dob': '02/04/2007'}\n",
            "{'name': 'Abud Laspiur, Lourdes Mariel', 'section': 'C', 'dob': '05/12/2006'}\n",
            "{'name': 'Lezcano, Celia Morena', 'section': 'D', 'dob': '01/07/2005'}\n",
            "{'name': 'Geronimo Soriano, Lizzie Amaya', 'section': 'D', 'dob': '20/01/2007'}\n",
            "{'name': 'Villalba, Irina', 'section': 'D', 'dob': '09/09/2006'}\n",
            "{'name': 'Grancara, Martina Luna', 'section': 'C', 'dob': '15/12/2006'}\n",
            "{'name': 'Barrozo Vedia, Joaquin Nicolas', 'section': 'C', 'dob': '15/04/2006'}\n",
            "{'name': 'Argañaraz, Agostina Abril', 'section': 'C', 'dob': '11/10/2006'}\n",
            "{'name': 'Portella Valdivia, Pedro Francisco', 'section': 'D', 'dob': '24/01/2007'}\n"
          ]
        }
      ]
    },
    {
      "cell_type": "code",
      "source": [],
      "metadata": {
        "id": "wKYHCb_4AKYH"
      },
      "execution_count": null,
      "outputs": []
    },
    {
      "cell_type": "markdown",
      "source": [
        "2. Crea un conjunto de nombres y otro de apellidos para 5C y  para 5D.\n",
        "- Muestra los conjuntos generados\n",
        "\n",
        "> recordá que los conjuntos solo pueden almacenar datos inmutables"
      ],
      "metadata": {
        "id": "dYEGkYZyLy9I"
      }
    },
    {
      "cell_type": "code",
      "source": [
        "nombres_5c = set()\n",
        "apellidos_5c = set()\n",
        "nombres_5d = set()\n",
        "apellidos_5d = set()\n",
        "for estudiante in estudiantes:\n",
        "  nombre_completo = estudiante[\"name\"]\n",
        "  apellido,nombre = nombre_completo.split(\",\")\n",
        "  apellidos = apellido.split(\" \")\n",
        "  nombres = nombre.strip().split(\" \")\n",
        "  if estudiante[\"section\"] == \"C\":\n",
        "    for nombre in nombres:\n",
        "      nombres_5c.add(nombre)\n",
        "    for apellido in apellidos:\n",
        "      apellidos_5c.add(apellido)\n",
        "  else:\n",
        "    for nombre in nombres:\n",
        "      nombres_5d.add(nombre)\n",
        "    for apellido in apellidos:\n",
        "      apellidos_5d.add(apellido)\n",
        "print(f\"{nombres_5c= }\")\n",
        "print(f\"{apellidos_5c= }\")\n",
        "print(f\"{nombres_5d= }\")\n",
        "print(f\"{apellidos_5d= }\")"
      ],
      "metadata": {
        "id": "5hVrzFPgxs_E",
        "outputId": "d4277908-925e-4d88-ed33-fd28dc29866a",
        "colab": {
          "base_uri": "https://localhost:8080/"
        }
      },
      "execution_count": 4,
      "outputs": [
        {
          "output_type": "stream",
          "name": "stdout",
          "text": [
            "nombres_5c= {'Ariana', 'Mauricio', 'Mia', 'Maitena', 'Constanza', 'Gabriel', 'Antonella', 'Nahuel', 'Salvador', 'Matias', 'Valle', 'Zoe', 'Agostina', 'Lautaro', 'Octavio', 'Tomasso', 'Renato', 'Agustina', 'Milena', 'Del', 'Agustín', 'Valentino', 'Lucia', 'Nicolas', 'Tiara', 'Martin', 'Abril', 'Karim', 'Santino', 'Alondra', 'Sara', 'Magali', 'Ismael', 'Elizabeth', 'Luna', 'Vitto', 'Lucas', 'Ezequiel', 'Lourdes', 'Yamila', 'Mariel', 'Joaquin', 'Rosario', 'Josue', 'Ignacio', 'Katya', 'Matías', 'Dulce', 'Leonardo', 'Victoria', 'Micaela', 'Martina', 'Luana', 'Marcelo'}\n",
            "apellidos_5c= {'Colque', 'Merluzzi', 'Galvan', 'Dagum', 'Bracamonte', 'Gallo', 'Tapia', 'Martinez', 'Araoz', 'Figueroa', 'Laspiur', 'Argañaraz', 'Lopez', 'Barrera', 'Rios', 'Rivero', 'Bettinelli', 'Marinaro', 'Barrozo', 'Anaquin', 'Abud', 'Amador', 'Garrido', 'Sanchez', 'Guanca', 'Virgillito', 'Grancara', 'Messina', 'Vilte', 'Diaz', 'Sierra', 'Giangreco', 'Mamani', 'Rasuk', 'Cardozo', 'Scarano', 'Vedia', 'Flores'}\n",
            "nombres_5d= {'Esmeralda', 'Morena', 'Tomas', 'Gabriel', 'Alvaro', 'Marcelo', 'Andres', 'Mahia', 'Ludmila', 'Agustina', 'Del', 'Pedro', 'Stefania', 'Celia', 'Agustin', 'Mariano', 'Zacarias', 'Juliana', 'Stefano', 'Hugo', 'Milagros', 'Antonia', 'Santino', 'Amaya', 'Lucas', 'Irina', 'Belen', 'Solange', 'Ignacio', 'Josue', 'Tobias', 'Camila', 'Paulina', 'Lizzie', 'Jazmin', 'Francisco', 'Emanuel', 'Maria', 'Victoria', 'Tadeo', 'Nazarena', 'Milagro', 'Angélica', 'Fabricio', 'Anita'}\n",
            "apellidos_5d= {'Segovia', 'Lezcano', 'Martinez', 'Lacour', 'Villalba', 'Rosales', 'Angel', 'Castillo', 'Jaime', 'Barba', 'D', 'Guzman', 'Polo', 'Cisneros', 'Zalazar', 'Lascano', 'Elia', 'Correa', 'Caseres', 'Guanca', 'Portella', 'Retamal', 'Voltolini', 'Geronimo', 'Alvarado', 'Soriano', 'Valdivia', 'Alurralde', 'Soto', 'Salem', 'Arenas', 'Camara', 'Flores'}\n"
          ]
        }
      ]
    },
    {
      "cell_type": "markdown",
      "source": [
        "3. Muestra cuantos nombres únicos hay en cada curso."
      ],
      "metadata": {
        "id": "UW2dlBsGMAte"
      }
    },
    {
      "cell_type": "code",
      "source": [
        "lista_nombres_c = []\n",
        "for estudiante in estudiantes_sin_repetidos:\n",
        "  if estudiante[\"section\"] == \"C\":\n",
        "    nombre_completo = estudiante[\"name\"]\n",
        "    apellido, nombre = nombre_completo.split(\",\")\n",
        "    nombres = nombre.split(\" \")\n",
        "    for nombre in nombres:\n",
        "     lista_nombres_c.append(nombre)\n",
        "ocurrencias = {}\n",
        "for nombre in lista_nombres_c:\n",
        "  if nombre in ocurrencias:\n",
        "   ocurrencias[nombre] += 1\n",
        "  else:\n",
        "   ocurrencias[nombre] = 1\n",
        "for nombre,ocurrencias in ocurrencias.items():\n",
        "  if ocurrencias == 1:\n",
        "   print({nombre})"
      ],
      "metadata": {
        "id": "dfk6hqbY1dc6",
        "outputId": "48c15e21-e773-4de4-bfac-612c7c6cbdaf",
        "colab": {
          "base_uri": "https://localhost:8080/"
        }
      },
      "execution_count": 5,
      "outputs": [
        {
          "output_type": "stream",
          "name": "stdout",
          "text": [
            "{'Rosario'}\n",
            "{'Matías'}\n",
            "{'Agustín'}\n",
            "{'Yamila'}\n",
            "{'Salvador'}\n",
            "{'Valentino'}\n",
            "{'Vitto'}\n",
            "{'Tomasso'}\n",
            "{'Lucia'}\n",
            "{'Magali'}\n",
            "{'Octavio'}\n",
            "{'Ismael'}\n",
            "{'Mia'}\n",
            "{'Antonella'}\n",
            "{'Alondra'}\n",
            "{'Karim'}\n",
            "{'Leonardo'}\n",
            "{'Agustina'}\n",
            "{'Tiara'}\n",
            "{'Sara'}\n",
            "{'Elizabeth'}\n",
            "{'Dulce'}\n",
            "{'Maitena'}\n",
            "{'Luana'}\n",
            "{'Micaela'}\n",
            "{'Gabriel'}\n",
            "{'Ignacio'}\n",
            "{'Ariana'}\n",
            "{'Zoe'}\n",
            "{'Del'}\n",
            "{'Valle'}\n",
            "{'Victoria'}\n",
            "{'Constanza'}\n",
            "{'Matias'}\n",
            "{'Lautaro'}\n",
            "{'Nahuel'}\n",
            "{'Santino'}\n",
            "{'Josue'}\n",
            "{'Renato'}\n",
            "{'Marcelo'}\n",
            "{'Katya'}\n",
            "{'Milena'}\n",
            "{'Lucas'}\n",
            "{'Mauricio'}\n",
            "{'Mariel'}\n",
            "{'Luna'}\n",
            "{'Joaquin'}\n",
            "{'Nicolas'}\n",
            "{'Abril'}\n"
          ]
        }
      ]
    },
    {
      "cell_type": "code",
      "source": [
        "lista_nombres_d = []\n",
        "for estudiante in estudiantes_sin_repetidos:\n",
        "  if estudiante[\"section\"] == \"D\":\n",
        "    nombre_completo = estudiante[\"name\"]\n",
        "    apellido, nombre = nombre_completo.split(\",\")\n",
        "    nombres = nombre.split(\" \")\n",
        "    for nombre in nombres:\n",
        "      lista_nombres_d.append(nombre)\n",
        "ocurrencias= {}\n",
        "for nombre in lista_nombres_d:\n",
        "  if nombre in ocurrencias:\n",
        "   ocurrencias[nombre] += 1\n",
        "  else:\n",
        "   ocurrencias[nombre] = 1\n",
        "for nombre,ocurrencias in ocurrencias.items():\n",
        "  if ocurrencias == 1:\n",
        "   print({nombre})"
      ],
      "metadata": {
        "id": "OB_sWtwQ2H0o",
        "outputId": "fd852bc8-09b9-4ddd-db46-8bf9ad40013f",
        "colab": {
          "base_uri": "https://localhost:8080/"
        }
      },
      "execution_count": 6,
      "outputs": [
        {
          "output_type": "stream",
          "name": "stdout",
          "text": [
            "{'Ludmila'}\n",
            "{'Del'}\n",
            "{'Milagro'}\n",
            "{'Agustin'}\n",
            "{'Ignacio'}\n",
            "{'Paulina'}\n",
            "{'Milagros'}\n",
            "{'Anita'}\n",
            "{'Mahia'}\n",
            "{'Alvaro'}\n",
            "{'Tadeo'}\n",
            "{'Zacarias'}\n",
            "{'Josue'}\n",
            "{'Angélica'}\n",
            "{'Emanuel'}\n",
            "{'Tobias'}\n",
            "{'Santino'}\n",
            "{'Stefano'}\n",
            "{'Tomas'}\n",
            "{'Andres'}\n",
            "{'Jazmin'}\n",
            "{'Esmeralda'}\n",
            "{'Nazarena'}\n",
            "{'Lucas'}\n",
            "{'Camila'}\n",
            "{'Juliana'}\n",
            "{'Hugo'}\n",
            "{'Mariano'}\n",
            "{'Marcelo'}\n",
            "{'Fabricio'}\n",
            "{'Antonia'}\n",
            "{'Victoria'}\n",
            "{'Agustina'}\n",
            "{'Solange'}\n",
            "{'Stefania'}\n",
            "{'Celia'}\n",
            "{'Lizzie'}\n",
            "{'Amaya'}\n",
            "{'Irina'}\n",
            "{'Pedro'}\n"
          ]
        }
      ]
    },
    {
      "cell_type": "markdown",
      "source": [
        "4. Muestra cuantos apellidos únicos hay en cada curso."
      ],
      "metadata": {
        "id": "kZeEHUYVNwGV"
      }
    },
    {
      "cell_type": "code",
      "source": [
        "lista_apellidos_c = []\n",
        "for estudiante in estudiantes_sin_repetidos:\n",
        "  if estudiante[\"section\"] == \"C\":\n",
        "    nombre_completo = estudiante[\"name\"]\n",
        "    apellido, nombre = nombre_completo.split(\",\")\n",
        "    apellidos = apellido.split(\" \")\n",
        "    for apellido in apellidos:\n",
        "      lista_apellidos_c.append(apellido)\n",
        "ocurrencias = {}\n",
        "for apellido in lista_apellidos_c:\n",
        "  if apellido in ocurrencias:\n",
        "   ocurrencias[apellido] += 1\n",
        "  else:\n",
        "   ocurrencias[apellido] = 1\n",
        "for apellido,ocurrencias in ocurrencias.items():\n",
        "  if ocurrencias == 1:\n",
        "   print({apellido})"
      ],
      "metadata": {
        "id": "q05GnxXgORzt",
        "outputId": "ba46caa8-ebeb-425f-da69-b95e3a718163",
        "colab": {
          "base_uri": "https://localhost:8080/"
        }
      },
      "execution_count": 7,
      "outputs": [
        {
          "output_type": "stream",
          "name": "stdout",
          "text": [
            "{'Mamani'}\n",
            "{'Garrido'}\n",
            "{'Galvan'}\n",
            "{'Bracamonte'}\n",
            "{'Martinez'}\n",
            "{'Bettinelli'}\n",
            "{'Giangreco'}\n",
            "{'Rios'}\n",
            "{'Gallo'}\n",
            "{'Vilte'}\n",
            "{'Rasuk'}\n",
            "{'Anaquin'}\n",
            "{'Marinaro'}\n",
            "{'Cardozo'}\n",
            "{'Guanca'}\n",
            "{'Diaz'}\n",
            "{'Messina'}\n",
            "{'Amador'}\n",
            "{'Tapia'}\n",
            "{'Merluzzi'}\n",
            "{'Dagum'}\n",
            "{'Colque'}\n",
            "{'Rivero'}\n",
            "{'Lopez'}\n",
            "{'Barrera'}\n",
            "{'Araoz'}\n",
            "{'Figueroa'}\n",
            "{'Scarano'}\n",
            "{'Virgillito'}\n",
            "{'Sierra'}\n",
            "{'Abud'}\n",
            "{'Laspiur'}\n",
            "{'Grancara'}\n",
            "{'Barrozo'}\n",
            "{'Vedia'}\n",
            "{'Argañaraz'}\n"
          ]
        }
      ]
    },
    {
      "cell_type": "code",
      "source": [
        "lista_apellidos_d = []\n",
        "for estudiante in estudiantes_sin_repetidos:\n",
        "  if estudiante[\"section\"] == \"D\":\n",
        "    nombre_completo = estudiante[\"name\"]\n",
        "    apellido, nombre = nombre_completo.split(\",\")\n",
        "    apellidos = apellido.split(\" \")\n",
        "    for apellido in apellidos:\n",
        "      lista_apellidos_d.append(apellido)\n",
        "ocurrencias = {}\n",
        "for apellido in lista_apellidos_d:\n",
        "  if apellido in ocurrencias:\n",
        "   ocurrencias[apellido] += 1\n",
        "  else:\n",
        "   ocurrencias[apellido] = 1\n",
        "for apellido,ocurrencias in ocurrencias.items():\n",
        "  if ocurrencias == 1:\n",
        "   print({apellido})"
      ],
      "metadata": {
        "id": "Wt801k6n3PFU",
        "outputId": "1807f40c-09e7-4c1e-87b2-eff1a6934a3f",
        "colab": {
          "base_uri": "https://localhost:8080/"
        }
      },
      "execution_count": 8,
      "outputs": [
        {
          "output_type": "stream",
          "name": "stdout",
          "text": [
            "{'Alvarado'}\n",
            "{'Soto'}\n",
            "{'Camara'}\n",
            "{'Castillo'}\n",
            "{'Jaime'}\n",
            "{'Salem'}\n",
            "{'Barba'}\n",
            "{'D'}\n",
            "{'Elia'}\n",
            "{'Rosales'}\n",
            "{'Retamal'}\n",
            "{'Cisneros'}\n",
            "{'Voltolini'}\n",
            "{'Zalazar'}\n",
            "{'Martinez'}\n",
            "{'Lacour'}\n",
            "{'Polo'}\n",
            "{'Arenas'}\n",
            "{'Angel'}\n",
            "{'Correa'}\n",
            "{'Segovia'}\n",
            "{'Lascano'}\n",
            "{'Guanca'}\n",
            "{'Caseres'}\n",
            "{'Flores'}\n",
            "{'Alurralde'}\n",
            "{'Lezcano'}\n",
            "{'Geronimo'}\n",
            "{'Soriano'}\n",
            "{'Villalba'}\n",
            "{'Portella'}\n",
            "{'Valdivia'}\n"
          ]
        }
      ]
    },
    {
      "cell_type": "markdown",
      "source": [
        "5. Mostrá los nombres que se aparecen em ambos cursos"
      ],
      "metadata": {
        "id": "ywYmA2JQNp3T"
      }
    },
    {
      "cell_type": "code",
      "source": [
        "nombres_ambos_cursos = nombres_5c.intersection(nombres_5d)\n",
        "print(f\" Los nombres que aparencen en ambos cursos son: {nombres_ambos_cursos}\")\n"
      ],
      "metadata": {
        "id": "Cnp334ZrOCjK",
        "outputId": "5d545119-62ac-4be7-f9f4-c7e1c36de14f",
        "colab": {
          "base_uri": "https://localhost:8080/"
        }
      },
      "execution_count": 9,
      "outputs": [
        {
          "output_type": "stream",
          "name": "stdout",
          "text": [
            " Los nombres que aparencen en ambos cursos son: {'Agustina', 'Del', 'Lucas', 'Victoria', 'Gabriel', 'Ignacio', 'Josue', 'Santino', 'Marcelo'}\n"
          ]
        }
      ]
    },
    {
      "cell_type": "markdown",
      "source": [
        "6. Mostrá los apellidos que se aparecen en ambos cursos"
      ],
      "metadata": {
        "id": "iAXts6saODoU"
      }
    },
    {
      "cell_type": "code",
      "source": [
        "apellido_ambos_cursos = apellidos_5c.intersection(apellidos_5d)\n",
        "print(f\" Los nombres que aparencen en ambos cursos son: {apellido_ambos_cursos}\")\n"
      ],
      "metadata": {
        "id": "FMRsUlvtOJS_",
        "outputId": "1def6e12-034b-4cfe-ce82-a52ff4d18108",
        "colab": {
          "base_uri": "https://localhost:8080/"
        }
      },
      "execution_count": 10,
      "outputs": [
        {
          "output_type": "stream",
          "name": "stdout",
          "text": [
            " Los nombres que aparencen en ambos cursos son: {'Guanca', 'Flores', 'Martinez'}\n"
          ]
        }
      ]
    },
    {
      "cell_type": "markdown",
      "source": [
        "7. Mostrá los nombres de los estudiantes de 5C que no existen en 5D y viceversa."
      ],
      "metadata": {
        "id": "T4PFiwwdOK27"
      }
    },
    {
      "cell_type": "code",
      "source": [
        "nombres_5c_no_en_5d = nombres_5c.difference(nombres_5d)\n",
        "nombres_5d_no_en_5c = nombres_5d.difference(nombres_5c)\n",
        "print(f\"Los nombres de los estudiantes de 5C que no existen en 5D son: {nombres_5c_no_en_5d}\")\n",
        "print(f\"Los nombres de los estudiantes de 5D que no existen en 5C son: {nombres_5d_no_en_5c}\")\n"
      ],
      "metadata": {
        "id": "vjQ2X9x3OmFr",
        "outputId": "99835c49-6a33-4c1c-bb37-dd87f094beb3",
        "colab": {
          "base_uri": "https://localhost:8080/"
        }
      },
      "execution_count": 11,
      "outputs": [
        {
          "output_type": "stream",
          "name": "stdout",
          "text": [
            "Los nombres de los estudiantes de 5C que no existen en 5D son: {'Mia', 'Ariana', 'Mauricio', 'Maitena', 'Constanza', 'Antonella', 'Tomasso', 'Matias', 'Nahuel', 'Salvador', 'Valle', 'Renato', 'Lautaro', 'Zoe', 'Agostina', 'Octavio', 'Milena', 'Agustín', 'Valentino', 'Lucia', 'Nicolas', 'Tiara', 'Martin', 'Abril', 'Karim', 'Alondra', 'Sara', 'Magali', 'Ismael', 'Elizabeth', 'Luna', 'Vitto', 'Ezequiel', 'Lourdes', 'Yamila', 'Mariel', 'Joaquin', 'Rosario', 'Katya', 'Matías', 'Dulce', 'Leonardo', 'Micaela', 'Martina', 'Luana'}\n",
            "Los nombres de los estudiantes de 5D que no existen en 5C son: {'Esmeralda', 'Morena', 'Tomas', 'Alvaro', 'Andres', 'Mahia', 'Ludmila', 'Pedro', 'Stefania', 'Celia', 'Agustin', 'Mariano', 'Zacarias', 'Juliana', 'Stefano', 'Hugo', 'Antonia', 'Milagros', 'Amaya', 'Irina', 'Belen', 'Solange', 'Tobias', 'Camila', 'Paulina', 'Lizzie', 'Jazmin', 'Francisco', 'Emanuel', 'Maria', 'Tadeo', 'Nazarena', 'Milagro', 'Angélica', 'Fabricio', 'Anita'}\n"
          ]
        }
      ]
    },
    {
      "cell_type": "markdown",
      "source": [
        "8. Mostrá los apellidos de los estudiantes de 5C que no existen en 5D y viceversa.\n"
      ],
      "metadata": {
        "id": "xfy8SFlZRVGf"
      }
    },
    {
      "cell_type": "code",
      "source": [
        "apellidos_5c_no_en_5d = apellidos_5c.difference(apellidos_5d)\n",
        "apellidos_5d_no_en_5c = apellidos_5d.difference(apellidos_5c)\n",
        "print(f\"Los apellidos de los estudiantes de 5C que no existen en 5D son: {apellidos_5c_no_en_5d}\")\n",
        "print(f\"Los apellidos de los estudiantes de 5D que no existen en 5C son: {apellidos_5d_no_en_5c}\")"
      ],
      "metadata": {
        "id": "E4Onk1FNRUa2",
        "outputId": "9e01dbda-1d13-436f-e9da-2d0df274359d",
        "colab": {
          "base_uri": "https://localhost:8080/"
        }
      },
      "execution_count": 12,
      "outputs": [
        {
          "output_type": "stream",
          "name": "stdout",
          "text": [
            "Los apellidos de los estudiantes de 5C que no existen en 5D son: {'Colque', 'Merluzzi', 'Galvan', 'Dagum', 'Gallo', 'Bracamonte', 'Tapia', 'Araoz', 'Figueroa', 'Laspiur', 'Argañaraz', 'Lopez', 'Barrera', 'Rios', 'Rivero', 'Bettinelli', 'Marinaro', 'Barrozo', 'Anaquin', 'Abud', 'Amador', 'Garrido', 'Sanchez', 'Virgillito', 'Grancara', 'Messina', 'Vilte', 'Diaz', 'Sierra', 'Giangreco', 'Mamani', 'Rasuk', 'Cardozo', 'Scarano', 'Vedia'}\n",
            "Los apellidos de los estudiantes de 5D que no existen en 5C son: {'Segovia', 'Lacour', 'Villalba', 'Rosales', 'Angel', 'Castillo', 'Jaime', 'Barba', 'D', 'Guzman', 'Polo', 'Cisneros', 'Zalazar', 'Lascano', 'Elia', 'Correa', 'Portella', 'Caseres', 'Retamal', 'Voltolini', 'Geronimo', 'Alvarado', 'Soriano', 'Valdivia', 'Alurralde', 'Soto', 'Salem', 'Arenas', 'Camara', 'Lezcano'}\n"
          ]
        }
      ]
    },
    {
      "cell_type": "markdown",
      "source": [
        "9. Mostrá todos los nombres, menos aquellos que existen en ambos cursos.\n"
      ],
      "metadata": {
        "id": "lW18NgPjRcGP"
      }
    },
    {
      "cell_type": "code",
      "source": [
        "nombres_informatica = nombres_5c.union(nombres_5d)\n",
        "nombres_iguales = nombres_5c.intersection(nombres_5d)\n",
        "nombres_finales = nombres_informatica.difference(nombres_iguales)\n",
        "print(f\"Todos los nombres, menos aquellos que existen en ambos cursos son: {nombres_finales}\")\n"
      ],
      "metadata": {
        "id": "jTtWBnalRcoC",
        "outputId": "30e57f0d-1d92-4c17-d401-c7e3985c9cea",
        "colab": {
          "base_uri": "https://localhost:8080/"
        }
      },
      "execution_count": 13,
      "outputs": [
        {
          "output_type": "stream",
          "name": "stdout",
          "text": [
            "Todos los nombres, menos aquellos que existen en ambos cursos son: {'Ariana', 'Mauricio', 'Esmeralda', 'Morena', 'Tomas', 'Constanza', 'Nahuel', 'Salvador', 'Valle', 'Octavio', 'Zoe', 'Agostina', 'Lautaro', 'Renato', 'Andres', 'Mahia', 'Milena', 'Ludmila', 'Pedro', 'Stefania', 'Agustin', 'Valentino', 'Mariano', 'Stefano', 'Hugo', 'Abril', 'Karim', 'Milagros', 'Ismael', 'Amaya', 'Elizabeth', 'Vitto', 'Ezequiel', 'Belen', 'Mariel', 'Katya', 'Camila', 'Lizzie', 'Jazmin', 'Francisco', 'Leonardo', 'Maria', 'Tadeo', 'Nazarena', 'Milagro', 'Luana', 'Fabricio', 'Mia', 'Maitena', 'Alvaro', 'Antonella', 'Tomasso', 'Matias', 'Agustín', 'Celia', 'Lucia', 'Nicolas', 'Zacarias', 'Juliana', 'Tiara', 'Martin', 'Alondra', 'Antonia', 'Sara', 'Magali', 'Luna', 'Yamila', 'Lourdes', 'Irina', 'Joaquin', 'Rosario', 'Solange', 'Tobias', 'Paulina', 'Matías', 'Dulce', 'Emanuel', 'Micaela', 'Martina', 'Angélica', 'Anita'}\n"
          ]
        }
      ]
    },
    {
      "cell_type": "markdown",
      "source": [
        "10. elimina tu nombre del conjunto al que pertenece"
      ],
      "metadata": {
        "id": "E24lH7x5Xbur"
      }
    },
    {
      "cell_type": "code",
      "source": [
        "nombre = input(\"Ingrese su nombre: \").title()\n",
        "if nombre in nombres_5c:\n",
        "  nombres_5c.remove(nombre)\n",
        "  print(f\"Se eliminó el nombre '{nombre}' del conjunto de nombres de 5C.\")\n",
        "elif nombre in nombres_5d:\n",
        "  nombres_5d.remove(nombre)\n",
        "  print(f\"Se eliminó  el nombre '{nombre}' del conjunto de nombres de 5D.\")\n",
        "else:\n",
        "  print(f\"El nombre '{nombre}' no se encontró en ningún conjunto.\")\n",
        "\n",
        "print(f\"{nombres_5c= }\")\n",
        "print(f\"{nombres_5d= }\")\n"
      ],
      "metadata": {
        "id": "9SeI3GBGXims",
        "outputId": "e39e6804-ba54-4d79-a9c4-6d39e05f823f",
        "colab": {
          "base_uri": "https://localhost:8080/"
        }
      },
      "execution_count": 14,
      "outputs": [
        {
          "output_type": "stream",
          "name": "stdout",
          "text": [
            "Ingrese su nombre: OctavIo\n",
            "Se eliminó el nombre 'Octavio' del conjunto de nombres de 5C.\n",
            "nombres_5c= {'Ariana', 'Mauricio', 'Mia', 'Maitena', 'Constanza', 'Gabriel', 'Antonella', 'Nahuel', 'Salvador', 'Matias', 'Valle', 'Zoe', 'Agostina', 'Lautaro', 'Tomasso', 'Renato', 'Agustina', 'Milena', 'Del', 'Agustín', 'Valentino', 'Lucia', 'Nicolas', 'Tiara', 'Martin', 'Abril', 'Karim', 'Santino', 'Alondra', 'Sara', 'Magali', 'Ismael', 'Elizabeth', 'Luna', 'Vitto', 'Lucas', 'Ezequiel', 'Lourdes', 'Yamila', 'Mariel', 'Joaquin', 'Rosario', 'Josue', 'Ignacio', 'Katya', 'Matías', 'Dulce', 'Leonardo', 'Victoria', 'Micaela', 'Martina', 'Luana', 'Marcelo'}\n",
            "nombres_5d= {'Esmeralda', 'Morena', 'Tomas', 'Gabriel', 'Alvaro', 'Marcelo', 'Andres', 'Mahia', 'Ludmila', 'Agustina', 'Del', 'Pedro', 'Stefania', 'Celia', 'Agustin', 'Mariano', 'Zacarias', 'Juliana', 'Stefano', 'Hugo', 'Milagros', 'Antonia', 'Santino', 'Amaya', 'Lucas', 'Irina', 'Belen', 'Solange', 'Ignacio', 'Josue', 'Tobias', 'Camila', 'Paulina', 'Lizzie', 'Jazmin', 'Francisco', 'Emanuel', 'Maria', 'Victoria', 'Tadeo', 'Nazarena', 'Milagro', 'Angélica', 'Fabricio', 'Anita'}\n"
          ]
        }
      ]
    },
    {
      "cell_type": "markdown",
      "source": [
        "11. Solicita al usuario un nombre y un apellido y agregalos a los correspondientes conjuntos de tu curso.\n",
        "\n",
        "\n",
        "\n"
      ],
      "metadata": {
        "id": "vOY6K_ydRc3Q"
      }
    },
    {
      "cell_type": "code",
      "source": [
        "nombre_nuevo = input(\"Ingrese un nombre: \").title()\n",
        "apellido_nuevo = input(\"Ingrese un apellido: \").title()\n",
        "\n",
        "curso = input(\"Ingrese su curso (C o D): \").upper()\n",
        "\n",
        "if curso == \"C\":\n",
        "  nombres_5c.add(nombre_nuevo)\n",
        "  apellidos_5c.add(apellido_nuevo)\n",
        "elif curso == \"D\":\n",
        "  nombres_5d.add(nombre_nuevo)\n",
        "  apellidos_5d.add(apellido_nuevo)\n",
        "else:\n",
        "  print(\"Curso inválido. Ingrese C o D.\")\n",
        "\n",
        "print(f\"Nombres 5C: {nombres_5c}\")\n",
        "print(f\"Apellidos 5C: {apellidos_5c}\")\n",
        "print(f\"Nombres 5D: {nombres_5d}\")\n",
        "print(f\"Apellidos 5D: {apellidos_5d}\")\n"
      ],
      "metadata": {
        "id": "9JDrd3WqRdTi",
        "outputId": "276e1418-8605-4be5-fe8b-7f98c81de5bf",
        "colab": {
          "base_uri": "https://localhost:8080/"
        }
      },
      "execution_count": 15,
      "outputs": [
        {
          "output_type": "stream",
          "name": "stdout",
          "text": [
            "Ingrese un nombre: Pablo\n",
            "Ingrese un apellido: Escobar\n",
            "Ingrese su curso (C o D): C\n",
            "Nombres 5C: {'Ariana', 'Mauricio', 'Mia', 'Maitena', 'Constanza', 'Gabriel', 'Antonella', 'Pablo', 'Nahuel', 'Salvador', 'Matias', 'Valle', 'Zoe', 'Agostina', 'Lautaro', 'Tomasso', 'Renato', 'Agustina', 'Milena', 'Del', 'Agustín', 'Valentino', 'Lucia', 'Nicolas', 'Tiara', 'Martin', 'Abril', 'Karim', 'Santino', 'Alondra', 'Sara', 'Magali', 'Ismael', 'Elizabeth', 'Luna', 'Vitto', 'Lucas', 'Ezequiel', 'Lourdes', 'Yamila', 'Mariel', 'Joaquin', 'Rosario', 'Josue', 'Ignacio', 'Katya', 'Matías', 'Dulce', 'Leonardo', 'Victoria', 'Micaela', 'Martina', 'Luana', 'Marcelo'}\n",
            "Apellidos 5C: {'Colque', 'Merluzzi', 'Galvan', 'Dagum', 'Bracamonte', 'Gallo', 'Tapia', 'Martinez', 'Araoz', 'Figueroa', 'Laspiur', 'Argañaraz', 'Lopez', 'Barrera', 'Rios', 'Rivero', 'Bettinelli', 'Marinaro', 'Barrozo', 'Anaquin', 'Abud', 'Amador', 'Garrido', 'Escobar', 'Sanchez', 'Guanca', 'Virgillito', 'Grancara', 'Messina', 'Vilte', 'Diaz', 'Sierra', 'Giangreco', 'Mamani', 'Rasuk', 'Cardozo', 'Scarano', 'Vedia', 'Flores'}\n",
            "Nombres 5D: {'Esmeralda', 'Morena', 'Tomas', 'Gabriel', 'Alvaro', 'Marcelo', 'Andres', 'Mahia', 'Ludmila', 'Agustina', 'Del', 'Pedro', 'Stefania', 'Celia', 'Agustin', 'Mariano', 'Zacarias', 'Juliana', 'Stefano', 'Hugo', 'Milagros', 'Antonia', 'Santino', 'Amaya', 'Lucas', 'Irina', 'Belen', 'Solange', 'Ignacio', 'Josue', 'Tobias', 'Camila', 'Paulina', 'Lizzie', 'Jazmin', 'Francisco', 'Emanuel', 'Maria', 'Victoria', 'Tadeo', 'Nazarena', 'Milagro', 'Angélica', 'Fabricio', 'Anita'}\n",
            "Apellidos 5D: {'Segovia', 'Lezcano', 'Martinez', 'Lacour', 'Villalba', 'Rosales', 'Angel', 'Castillo', 'Jaime', 'Barba', 'D', 'Guzman', 'Polo', 'Cisneros', 'Zalazar', 'Lascano', 'Elia', 'Correa', 'Caseres', 'Guanca', 'Portella', 'Retamal', 'Voltolini', 'Geronimo', 'Alvarado', 'Soriano', 'Valdivia', 'Alurralde', 'Soto', 'Salem', 'Arenas', 'Camara', 'Flores'}\n"
          ]
        }
      ]
    },
    {
      "cell_type": "markdown",
      "source": [
        "12. Solicita un nombre y verifica si este existe en el diccionario"
      ],
      "metadata": {
        "id": "hs1vGDrX2wHq"
      }
    },
    {
      "cell_type": "code",
      "source": [
        "nombre_buscado = input(\"Ingrese un nombre para buscar: \").title()\n",
        "encontrado = False\n",
        "for estudiante in estudiantes:\n",
        "  nombre_completo = estudiante[\"name\"]\n",
        "  apellido, nombre = nombre_completo.split(\",\")\n",
        "  nombres = nombre.strip().split(\" \")\n",
        "  if nombre_buscado in nombres:\n",
        "    encontrado = True\n",
        "    break\n",
        "if encontrado:\n",
        "  print(f\"El nombre {nombre_buscado} existe en el diccionario.\")\n",
        "else:\n",
        "  print(f\"El nombre {nombre_buscado} no existe en el diccionario.\")\n"
      ],
      "metadata": {
        "id": "4bbRCYWt2vDO",
        "outputId": "399d2f75-d820-40a3-c1ff-1ceef08ae289",
        "colab": {
          "base_uri": "https://localhost:8080/"
        }
      },
      "execution_count": 17,
      "outputs": [
        {
          "output_type": "stream",
          "name": "stdout",
          "text": [
            "Ingrese un nombre para buscar: Saul\n",
            "El nombre Saul no existe en el diccionario.\n"
          ]
        }
      ]
    }
  ]
}